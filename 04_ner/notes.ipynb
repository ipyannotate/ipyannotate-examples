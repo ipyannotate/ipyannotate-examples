{
 "cells": [
  {
   "cell_type": "markdown",
   "metadata": {},
   "source": [
    "# Check NER"
   ]
  },
  {
   "cell_type": "markdown",
   "metadata": {},
   "source": [
    "<img src=\"screencast.gif\"/>"
   ]
  },
  {
   "cell_type": "code",
   "execution_count": 1,
   "metadata": {},
   "outputs": [],
   "source": [
    "import json\n",
    "\n",
    "# pip install ipymarkup\n",
    "from ipymarkup import Span, BoxMarkup\n",
    "\n",
    "\n",
    "def load_json(path):\n",
    "    with open(path) as file:\n",
    "        return json.load(file)\n",
    "\n",
    "\n",
    "def get_markup(text, spans):\n",
    "    spans = [Span(start, stop) for start, stop in spans]\n",
    "    return BoxMarkup(text, spans)\n",
    "\n",
    "\n",
    "data = load_json('data.json')\n",
    "markups = [\n",
    "    get_markup(text, spans)\n",
    "    for text, spans in data\n",
    "]"
   ]
  },
  {
   "cell_type": "code",
   "execution_count": 2,
   "metadata": {},
   "outputs": [
    {
     "data": {
      "text/html": [
       "<div style=\"font-size:30px;line-height:1.3\"><div class=\"tex2jax_ignore\" style=\"white-space: pre-wrap\"><span style=\"padding: 0.15em; border-radius: 0.25em; border: 1px solid #fdf07c; background: #ffffc2\">Севастьянов</span> был членом партии КПРФ.</div></div>"
      ],
      "text/plain": [
       "<IPython.core.display.HTML object>"
      ]
     },
     "metadata": {},
     "output_type": "display_data"
    },
    {
     "name": "stdout",
     "output_type": "stream",
     "text": [
      "----\n"
     ]
    },
    {
     "data": {
      "text/html": [
       "<div style=\"font-size:30px;line-height:1.3\"><div class=\"tex2jax_ignore\" style=\"white-space: pre-wrap\">Об этом сообщил в четверг губернатор Мурманской области <span style=\"padding: 0.15em; border-radius: 0.25em; border: 1px solid #fdf07c; background: #ffffc2\">Юрий Евдокимов</span>.</div></div>"
      ],
      "text/plain": [
       "<IPython.core.display.HTML object>"
      ]
     },
     "metadata": {},
     "output_type": "display_data"
    },
    {
     "name": "stdout",
     "output_type": "stream",
     "text": [
      "----\n"
     ]
    },
    {
     "data": {
      "text/html": [
       "<div style=\"font-size:30px;line-height:1.3\"><div class=\"tex2jax_ignore\" style=\"white-space: pre-wrap\">Президентская администрация также выступает за замену в \"Транснефти\" вице-президента РАН, председателя совета директоров \"Роснефти\" <span style=\"padding: 0.15em; border-radius: 0.25em; border: 1px solid #fdf07c; background: #ffffc2\">Александра Некипелова</span>.</div></div>"
      ],
      "text/plain": [
       "<IPython.core.display.HTML object>"
      ]
     },
     "metadata": {},
     "output_type": "display_data"
    },
    {
     "name": "stdout",
     "output_type": "stream",
     "text": [
      "----\n"
     ]
    }
   ],
   "source": [
    "from IPython.display import HTML, display\n",
    "\n",
    "\n",
    "def enlarge_html(markup):\n",
    "    yield '<div style=\"font-size:30px;line-height:1.3\">'\n",
    "    for line in markup.as_html:\n",
    "        yield line\n",
    "    yield '</div>'\n",
    "\n",
    "    \n",
    "def show_markup(markup):\n",
    "    html = ''.join(enlarge_html(markup))\n",
    "    display(HTML(html))\n",
    "\n",
    "\n",
    "for item in markups[:3]:\n",
    "    show_markup(item)\n",
    "    print('----')"
   ]
  },
  {
   "cell_type": "code",
   "execution_count": 3,
   "metadata": {},
   "outputs": [
    {
     "data": {
      "application/vnd.jupyter.widget-view+json": {
       "model_id": "38908457241c4ba0b335ecb8a446b309",
       "version_major": 2,
       "version_minor": 0
      },
      "text/html": [
       "<p>Failed to display Jupyter Widget of type <code>Annotation</code>.</p>\n",
       "<p>\n",
       "  If you're reading this message in the Jupyter Notebook or JupyterLab Notebook, it may mean\n",
       "  that the widgets JavaScript is still loading. If this message persists, it\n",
       "  likely means that the widgets JavaScript library is either not installed or\n",
       "  not enabled. See the <a href=\"https://ipywidgets.readthedocs.io/en/stable/user_install.html\">Jupyter\n",
       "  Widgets Documentation</a> for setup instructions.\n",
       "</p>\n",
       "<p>\n",
       "  If you're reading this message in another frontend (for example, a static\n",
       "  rendering on GitHub or <a href=\"https://nbviewer.jupyter.org/\">NBViewer</a>),\n",
       "  it may mean that your frontend doesn't currently support widgets.\n",
       "</p>\n"
      ],
      "text/plain": [
       "Annotation(canvas=OutputCanvas(), progress=Progress(atoms=[<ipyannotate.progress.Atom object at 0x1084cb3c8>, <ipyannotate.progress.Atom object at 0x1084cb7b8>, <ipyannotate.progress.Atom object at 0x1084cb4e0>, <ipyannotate.progress.Atom object at 0x1084cb550>, <ipyannotate.progress.Atom object at 0x1084cb160>, <ipyannotate.progress.Atom object at 0x1084cb780>, <ipyannotate.progress.Atom object at 0x1084cb5c0>, <ipyannotate.progress.Atom object at 0x1084cb5f8>, <ipyannotate.progress.Atom object at 0x1084cb320>, <ipyannotate.progress.Atom object at 0x1084cb898>, <ipyannotate.progress.Atom object at 0x1084cb8d0>, <ipyannotate.progress.Atom object at 0x1084cb908>, <ipyannotate.progress.Atom object at 0x1084cb940>, <ipyannotate.progress.Atom object at 0x1084cb978>, <ipyannotate.progress.Atom object at 0x1084cb9b0>, <ipyannotate.progress.Atom object at 0x1084cb9e8>, <ipyannotate.progress.Atom object at 0x1084cba20>, <ipyannotate.progress.Atom object at 0x1084cba58>, <ipyannotate.progress.Atom object at 0x1084cba90>, <ipyannotate.progress.Atom object at 0x1084cbac8>, <ipyannotate.progress.Atom object at 0x1084cbb00>, <ipyannotate.progress.Atom object at 0x1084cbb38>, <ipyannotate.progress.Atom object at 0x1084cbb70>, <ipyannotate.progress.Atom object at 0x1084cbba8>, <ipyannotate.progress.Atom object at 0x1084cbbe0>, <ipyannotate.progress.Atom object at 0x1084cbc18>, <ipyannotate.progress.Atom object at 0x1084cbc50>, <ipyannotate.progress.Atom object at 0x1084cbc88>, <ipyannotate.progress.Atom object at 0x1084cbcc0>, <ipyannotate.progress.Atom object at 0x1084cbcf8>, <ipyannotate.progress.Atom object at 0x1084cbd30>, <ipyannotate.progress.Atom object at 0x1084cbd68>, <ipyannotate.progress.Atom object at 0x1084cbda0>, <ipyannotate.progress.Atom object at 0x1084cbdd8>, <ipyannotate.progress.Atom object at 0x1084cbe10>, <ipyannotate.progress.Atom object at 0x1084cbe48>, <ipyannotate.progress.Atom object at 0x1084cbe80>, <ipyannotate.progress.Atom object at 0x1084cbeb8>, <ipyannotate.progress.Atom object at 0x1084cbef0>, <ipyannotate.progress.Atom object at 0x1084cbf28>, <ipyannotate.progress.Atom object at 0x1084cbf60>, <ipyannotate.progress.Atom object at 0x1084cbf98>, <ipyannotate.progress.Atom object at 0x1084cbfd0>, <ipyannotate.progress.Atom object at 0x1084d3048>, <ipyannotate.progress.Atom object at 0x1084d3080>, <ipyannotate.progress.Atom object at 0x1084d30b8>, <ipyannotate.progress.Atom object at 0x1084d30f0>, <ipyannotate.progress.Atom object at 0x1084d3128>, <ipyannotate.progress.Atom object at 0x1084d3160>, <ipyannotate.progress.Atom object at 0x1084d3198>, <ipyannotate.progress.Atom object at 0x1084d31d0>, <ipyannotate.progress.Atom object at 0x1084d3208>, <ipyannotate.progress.Atom object at 0x1084d3240>, <ipyannotate.progress.Atom object at 0x1084d3278>, <ipyannotate.progress.Atom object at 0x1084d32b0>, <ipyannotate.progress.Atom object at 0x1084d32e8>, <ipyannotate.progress.Atom object at 0x1084d3320>, <ipyannotate.progress.Atom object at 0x1084d3358>, <ipyannotate.progress.Atom object at 0x1084d3390>, <ipyannotate.progress.Atom object at 0x1084d33c8>, <ipyannotate.progress.Atom object at 0x1084d3400>, <ipyannotate.progress.Atom object at 0x1084d3438>, <ipyannotate.progress.Atom object at 0x1084d3470>, <ipyannotate.progress.Atom object at 0x1084d34a8>, <ipyannotate.progress.Atom object at 0x1084d34e0>, <ipyannotate.progress.Atom object at 0x1084d3518>, <ipyannotate.progress.Atom object at 0x1084d3550>, <ipyannotate.progress.Atom object at 0x1084d3588>, <ipyannotate.progress.Atom object at 0x1084d35c0>, <ipyannotate.progress.Atom object at 0x1084d35f8>, <ipyannotate.progress.Atom object at 0x1084d3630>, <ipyannotate.progress.Atom object at 0x1084d3668>, <ipyannotate.progress.Atom object at 0x1084d36a0>, <ipyannotate.progress.Atom object at 0x1084d36d8>, <ipyannotate.progress.Atom object at 0x1084d3710>, <ipyannotate.progress.Atom object at 0x1084d3748>, <ipyannotate.progress.Atom object at 0x1084d3780>, <ipyannotate.progress.Atom object at 0x1084d37b8>, <ipyannotate.progress.Atom object at 0x1084d37f0>, <ipyannotate.progress.Atom object at 0x1084d3828>, <ipyannotate.progress.Atom object at 0x1084d3860>, <ipyannotate.progress.Atom object at 0x1084d3898>, <ipyannotate.progress.Atom object at 0x1084d38d0>, <ipyannotate.progress.Atom object at 0x1084d3908>, <ipyannotate.progress.Atom object at 0x1084d3940>, <ipyannotate.progress.Atom object at 0x1084d3978>, <ipyannotate.progress.Atom object at 0x1084d39b0>, <ipyannotate.progress.Atom object at 0x1084d39e8>, <ipyannotate.progress.Atom object at 0x1084d3a20>, <ipyannotate.progress.Atom object at 0x1084d3a58>, <ipyannotate.progress.Atom object at 0x1084d3a90>, <ipyannotate.progress.Atom object at 0x1084d3ac8>, <ipyannotate.progress.Atom object at 0x1084d3b00>, <ipyannotate.progress.Atom object at 0x1084d3b38>, <ipyannotate.progress.Atom object at 0x1084d3b70>, <ipyannotate.progress.Atom object at 0x1084d3ba8>, <ipyannotate.progress.Atom object at 0x1084d3be0>, <ipyannotate.progress.Atom object at 0x1084d3c18>, <ipyannotate.progress.Atom object at 0x1084d3c50>, <ipyannotate.progress.Atom object at 0x1084d3c88>, <ipyannotate.progress.Atom object at 0x1084d3cc0>, <ipyannotate.progress.Atom object at 0x1084d3cf8>, <ipyannotate.progress.Atom object at 0x1084d3d30>, <ipyannotate.progress.Atom object at 0x1084d3d68>, <ipyannotate.progress.Atom object at 0x1084d3da0>, <ipyannotate.progress.Atom object at 0x1084d3dd8>, <ipyannotate.progress.Atom object at 0x1084d3e10>, <ipyannotate.progress.Atom object at 0x1084d3e48>, <ipyannotate.progress.Atom object at 0x1084d3e80>, <ipyannotate.progress.Atom object at 0x1084d3eb8>, <ipyannotate.progress.Atom object at 0x1084d3ef0>, <ipyannotate.progress.Atom object at 0x1084d3f28>, <ipyannotate.progress.Atom object at 0x1084d3f60>, <ipyannotate.progress.Atom object at 0x1084d3f98>, <ipyannotate.progress.Atom object at 0x1084d3fd0>, <ipyannotate.progress.Atom object at 0x1084d5048>, <ipyannotate.progress.Atom object at 0x1084d5080>, <ipyannotate.progress.Atom object at 0x1084d50b8>, <ipyannotate.progress.Atom object at 0x1084d50f0>, <ipyannotate.progress.Atom object at 0x1084d5128>, <ipyannotate.progress.Atom object at 0x1084d5160>, <ipyannotate.progress.Atom object at 0x1084d5198>, <ipyannotate.progress.Atom object at 0x1084d51d0>, <ipyannotate.progress.Atom object at 0x1084d5208>, <ipyannotate.progress.Atom object at 0x1084d5240>, <ipyannotate.progress.Atom object at 0x1084d5278>, <ipyannotate.progress.Atom object at 0x1084d52b0>, <ipyannotate.progress.Atom object at 0x1084d52e8>, <ipyannotate.progress.Atom object at 0x1084d5320>, <ipyannotate.progress.Atom object at 0x1084d5358>, <ipyannotate.progress.Atom object at 0x1084d5390>, <ipyannotate.progress.Atom object at 0x1084d53c8>, <ipyannotate.progress.Atom object at 0x1084d5400>, <ipyannotate.progress.Atom object at 0x1084d5438>, <ipyannotate.progress.Atom object at 0x1084d5470>, <ipyannotate.progress.Atom object at 0x1084d54a8>, <ipyannotate.progress.Atom object at 0x1084d54e0>, <ipyannotate.progress.Atom object at 0x1084d5518>, <ipyannotate.progress.Atom object at 0x1084d5550>, <ipyannotate.progress.Atom object at 0x1084d5588>, <ipyannotate.progress.Atom object at 0x1084d55c0>, <ipyannotate.progress.Atom object at 0x1084d55f8>, <ipyannotate.progress.Atom object at 0x1084d5630>, <ipyannotate.progress.Atom object at 0x1084d5668>, <ipyannotate.progress.Atom object at 0x1084d56a0>, <ipyannotate.progress.Atom object at 0x1084d56d8>, <ipyannotate.progress.Atom object at 0x1084d5710>, <ipyannotate.progress.Atom object at 0x1084d5748>, <ipyannotate.progress.Atom object at 0x1084d5780>, <ipyannotate.progress.Atom object at 0x1084d57b8>, <ipyannotate.progress.Atom object at 0x1084d57f0>, <ipyannotate.progress.Atom object at 0x1084d5828>, <ipyannotate.progress.Atom object at 0x1084d5860>, <ipyannotate.progress.Atom object at 0x1084d5898>, <ipyannotate.progress.Atom object at 0x1084d58d0>, <ipyannotate.progress.Atom object at 0x1084d5908>, <ipyannotate.progress.Atom object at 0x1084d5940>, <ipyannotate.progress.Atom object at 0x1084d5978>, <ipyannotate.progress.Atom object at 0x1084d59b0>, <ipyannotate.progress.Atom object at 0x1084d59e8>, <ipyannotate.progress.Atom object at 0x1084d5a20>, <ipyannotate.progress.Atom object at 0x1084d5a58>, <ipyannotate.progress.Atom object at 0x1084d5a90>, <ipyannotate.progress.Atom object at 0x1084d5ac8>, <ipyannotate.progress.Atom object at 0x1084d5b00>, <ipyannotate.progress.Atom object at 0x1084d5b38>, <ipyannotate.progress.Atom object at 0x1084d5b70>, <ipyannotate.progress.Atom object at 0x1084d5ba8>, <ipyannotate.progress.Atom object at 0x1084d5be0>, <ipyannotate.progress.Atom object at 0x1084d5c18>, <ipyannotate.progress.Atom object at 0x1084d5c50>, <ipyannotate.progress.Atom object at 0x1084d5c88>, <ipyannotate.progress.Atom object at 0x1084d5cc0>, <ipyannotate.progress.Atom object at 0x1084d5cf8>, <ipyannotate.progress.Atom object at 0x1084d5d30>, <ipyannotate.progress.Atom object at 0x1084d5d68>, <ipyannotate.progress.Atom object at 0x1084d5da0>, <ipyannotate.progress.Atom object at 0x1084d5dd8>, <ipyannotate.progress.Atom object at 0x1084d5e10>, <ipyannotate.progress.Atom object at 0x1084d5e48>, <ipyannotate.progress.Atom object at 0x1084d5e80>, <ipyannotate.progress.Atom object at 0x1084d5eb8>, <ipyannotate.progress.Atom object at 0x1084d5ef0>, <ipyannotate.progress.Atom object at 0x1084d5f28>, <ipyannotate.progress.Atom object at 0x1084d5f60>, <ipyannotate.progress.Atom object at 0x1084d5f98>, <ipyannotate.progress.Atom object at 0x1084d5fd0>, <ipyannotate.progress.Atom object at 0x1084d8048>, <ipyannotate.progress.Atom object at 0x1084d8080>, <ipyannotate.progress.Atom object at 0x1084d80b8>, <ipyannotate.progress.Atom object at 0x1084d80f0>, <ipyannotate.progress.Atom object at 0x1084d8128>, <ipyannotate.progress.Atom object at 0x1084d8160>, <ipyannotate.progress.Atom object at 0x1084d8198>, <ipyannotate.progress.Atom object at 0x1084d81d0>, <ipyannotate.progress.Atom object at 0x1084d8208>, <ipyannotate.progress.Atom object at 0x1084d8240>, <ipyannotate.progress.Atom object at 0x1084d8278>, <ipyannotate.progress.Atom object at 0x1084d82b0>, <ipyannotate.progress.Atom object at 0x1084d82e8>, <ipyannotate.progress.Atom object at 0x1084d8320>, <ipyannotate.progress.Atom object at 0x1084d8358>, <ipyannotate.progress.Atom object at 0x1084d8390>, <ipyannotate.progress.Atom object at 0x1084d83c8>, <ipyannotate.progress.Atom object at 0x1084d8400>, <ipyannotate.progress.Atom object at 0x1084d8438>, <ipyannotate.progress.Atom object at 0x1084d8470>, <ipyannotate.progress.Atom object at 0x1084d84a8>, <ipyannotate.progress.Atom object at 0x1084d84e0>, <ipyannotate.progress.Atom object at 0x1084d8518>, <ipyannotate.progress.Atom object at 0x1084d8550>, <ipyannotate.progress.Atom object at 0x1084d8588>, <ipyannotate.progress.Atom object at 0x1084d85c0>, <ipyannotate.progress.Atom object at 0x1084d85f8>, <ipyannotate.progress.Atom object at 0x1084d8630>, <ipyannotate.progress.Atom object at 0x1084d8668>, <ipyannotate.progress.Atom object at 0x1084d86a0>, <ipyannotate.progress.Atom object at 0x1084d86d8>, <ipyannotate.progress.Atom object at 0x1084d8710>, <ipyannotate.progress.Atom object at 0x1084d8748>, <ipyannotate.progress.Atom object at 0x1084d8780>, <ipyannotate.progress.Atom object at 0x1084d87b8>, <ipyannotate.progress.Atom object at 0x1084d87f0>, <ipyannotate.progress.Atom object at 0x1084d8828>, <ipyannotate.progress.Atom object at 0x1084d8860>, <ipyannotate.progress.Atom object at 0x1084d8898>, <ipyannotate.progress.Atom object at 0x1084d88d0>, <ipyannotate.progress.Atom object at 0x1084d8908>, <ipyannotate.progress.Atom object at 0x1084d8940>, <ipyannotate.progress.Atom object at 0x1084d8978>, <ipyannotate.progress.Atom object at 0x1084d89b0>, <ipyannotate.progress.Atom object at 0x1084d89e8>, <ipyannotate.progress.Atom object at 0x1084d8a20>, <ipyannotate.progress.Atom object at 0x1084d8a58>, <ipyannotate.progress.Atom object at 0x1084d8a90>, <ipyannotate.progress.Atom object at 0x1084d8ac8>, <ipyannotate.progress.Atom object at 0x1084d8b00>, <ipyannotate.progress.Atom object at 0x1084d8b38>, <ipyannotate.progress.Atom object at 0x1084d8b70>, <ipyannotate.progress.Atom object at 0x1084d8ba8>, <ipyannotate.progress.Atom object at 0x1084d8be0>, <ipyannotate.progress.Atom object at 0x1084d8c18>, <ipyannotate.progress.Atom object at 0x1084d8c50>, <ipyannotate.progress.Atom object at 0x1084d8c88>, <ipyannotate.progress.Atom object at 0x1084d8cc0>, <ipyannotate.progress.Atom object at 0x1084d8cf8>, <ipyannotate.progress.Atom object at 0x1084d8d30>, <ipyannotate.progress.Atom object at 0x1084d8d68>, <ipyannotate.progress.Atom object at 0x1084d8da0>, <ipyannotate.progress.Atom object at 0x1084d8dd8>, <ipyannotate.progress.Atom object at 0x1084d8e10>, <ipyannotate.progress.Atom object at 0x1084d8e48>, <ipyannotate.progress.Atom object at 0x1084d8e80>, <ipyannotate.progress.Atom object at 0x1084d8eb8>, <ipyannotate.progress.Atom object at 0x1084d8ef0>, <ipyannotate.progress.Atom object at 0x1084d8f28>, <ipyannotate.progress.Atom object at 0x1084d8f60>, <ipyannotate.progress.Atom object at 0x1084d8f98>, <ipyannotate.progress.Atom object at 0x1084d8fd0>, <ipyannotate.progress.Atom object at 0x1084da048>, <ipyannotate.progress.Atom object at 0x1084da080>, <ipyannotate.progress.Atom object at 0x1084da0b8>, <ipyannotate.progress.Atom object at 0x1084da0f0>, <ipyannotate.progress.Atom object at 0x1084da128>, <ipyannotate.progress.Atom object at 0x1084da160>, <ipyannotate.progress.Atom object at 0x1084da198>, <ipyannotate.progress.Atom object at 0x1084da1d0>, <ipyannotate.progress.Atom object at 0x1084da208>, <ipyannotate.progress.Atom object at 0x1084da240>, <ipyannotate.progress.Atom object at 0x1084da278>, <ipyannotate.progress.Atom object at 0x1084da2b0>, <ipyannotate.progress.Atom object at 0x1084da2e8>, <ipyannotate.progress.Atom object at 0x1084da320>, <ipyannotate.progress.Atom object at 0x1084da358>, <ipyannotate.progress.Atom object at 0x1084da390>, <ipyannotate.progress.Atom object at 0x1084da3c8>, <ipyannotate.progress.Atom object at 0x1084da400>, <ipyannotate.progress.Atom object at 0x1084da438>, <ipyannotate.progress.Atom object at 0x1084da470>, <ipyannotate.progress.Atom object at 0x1084da4a8>, <ipyannotate.progress.Atom object at 0x1084da4e0>, <ipyannotate.progress.Atom object at 0x1084da518>, <ipyannotate.progress.Atom object at 0x1084da550>, <ipyannotate.progress.Atom object at 0x1084da588>, <ipyannotate.progress.Atom object at 0x1084da5c0>, <ipyannotate.progress.Atom object at 0x1084da5f8>, <ipyannotate.progress.Atom object at 0x1084da630>, <ipyannotate.progress.Atom object at 0x1084da668>, <ipyannotate.progress.Atom object at 0x1084da6a0>, <ipyannotate.progress.Atom object at 0x1084da6d8>, <ipyannotate.progress.Atom object at 0x1084da710>, <ipyannotate.progress.Atom object at 0x1084da748>, <ipyannotate.progress.Atom object at 0x1084da780>, <ipyannotate.progress.Atom object at 0x1084da7b8>, <ipyannotate.progress.Atom object at 0x1084da7f0>, <ipyannotate.progress.Atom object at 0x1084da828>, <ipyannotate.progress.Atom object at 0x1084da860>, <ipyannotate.progress.Atom object at 0x1084da898>, <ipyannotate.progress.Atom object at 0x1084da8d0>, <ipyannotate.progress.Atom object at 0x1084da908>, <ipyannotate.progress.Atom object at 0x1084da940>, <ipyannotate.progress.Atom object at 0x1084da978>, <ipyannotate.progress.Atom object at 0x1084da9b0>, <ipyannotate.progress.Atom object at 0x1084da9e8>, <ipyannotate.progress.Atom object at 0x1084daa20>, <ipyannotate.progress.Atom object at 0x1084daa58>, <ipyannotate.progress.Atom object at 0x1084daa90>, <ipyannotate.progress.Atom object at 0x1084daac8>, <ipyannotate.progress.Atom object at 0x1084dab00>, <ipyannotate.progress.Atom object at 0x1084dab38>, <ipyannotate.progress.Atom object at 0x1084dab70>, <ipyannotate.progress.Atom object at 0x1084daba8>, <ipyannotate.progress.Atom object at 0x1084dabe0>, <ipyannotate.progress.Atom object at 0x1084dac18>, <ipyannotate.progress.Atom object at 0x1084dac50>, <ipyannotate.progress.Atom object at 0x1084dac88>, <ipyannotate.progress.Atom object at 0x1084dacc0>, <ipyannotate.progress.Atom object at 0x1084dacf8>, <ipyannotate.progress.Atom object at 0x1084dad30>, <ipyannotate.progress.Atom object at 0x1084dad68>, <ipyannotate.progress.Atom object at 0x1084dada0>, <ipyannotate.progress.Atom object at 0x1084dadd8>, <ipyannotate.progress.Atom object at 0x1084dae10>, <ipyannotate.progress.Atom object at 0x1084dae48>, <ipyannotate.progress.Atom object at 0x1084dae80>, <ipyannotate.progress.Atom object at 0x1084daeb8>, <ipyannotate.progress.Atom object at 0x1084daef0>, <ipyannotate.progress.Atom object at 0x1084daf28>, <ipyannotate.progress.Atom object at 0x1084daf60>, <ipyannotate.progress.Atom object at 0x1084daf98>, <ipyannotate.progress.Atom object at 0x1084dafd0>, <ipyannotate.progress.Atom object at 0x1084dc048>, <ipyannotate.progress.Atom object at 0x1084dc080>, <ipyannotate.progress.Atom object at 0x1084dc0b8>, <ipyannotate.progress.Atom object at 0x1084dc0f0>, <ipyannotate.progress.Atom object at 0x1084dc128>, <ipyannotate.progress.Atom object at 0x1084dc160>, <ipyannotate.progress.Atom object at 0x1084dc198>, <ipyannotate.progress.Atom object at 0x1084dc1d0>, <ipyannotate.progress.Atom object at 0x1084dc208>, <ipyannotate.progress.Atom object at 0x1084dc240>, <ipyannotate.progress.Atom object at 0x1084dc278>, <ipyannotate.progress.Atom object at 0x1084dc2b0>, <ipyannotate.progress.Atom object at 0x1084dc2e8>, <ipyannotate.progress.Atom object at 0x1084dc320>, <ipyannotate.progress.Atom object at 0x1084dc358>, <ipyannotate.progress.Atom object at 0x1084dc390>, <ipyannotate.progress.Atom object at 0x1084dc3c8>, <ipyannotate.progress.Atom object at 0x1084dc400>, <ipyannotate.progress.Atom object at 0x1084dc438>, <ipyannotate.progress.Atom object at 0x1084dc470>, <ipyannotate.progress.Atom object at 0x1084dc4a8>, <ipyannotate.progress.Atom object at 0x1084dc4e0>, <ipyannotate.progress.Atom object at 0x1084dc518>, <ipyannotate.progress.Atom object at 0x1084dc550>, <ipyannotate.progress.Atom object at 0x1084dc588>, <ipyannotate.progress.Atom object at 0x1084dc5c0>, <ipyannotate.progress.Atom object at 0x1084dc5f8>, <ipyannotate.progress.Atom object at 0x1084dc630>, <ipyannotate.progress.Atom object at 0x1084dc668>, <ipyannotate.progress.Atom object at 0x1084dc6a0>, <ipyannotate.progress.Atom object at 0x1084dc6d8>, <ipyannotate.progress.Atom object at 0x1084dc710>, <ipyannotate.progress.Atom object at 0x1084dc748>, <ipyannotate.progress.Atom object at 0x1084dc780>, <ipyannotate.progress.Atom object at 0x1084dc7b8>, <ipyannotate.progress.Atom object at 0x1084dc7f0>, <ipyannotate.progress.Atom object at 0x1084dc828>, <ipyannotate.progress.Atom object at 0x1084dc860>, <ipyannotate.progress.Atom object at 0x1084dc898>, <ipyannotate.progress.Atom object at 0x1084dc8d0>, <ipyannotate.progress.Atom object at 0x1084dc908>, <ipyannotate.progress.Atom object at 0x1084dc940>, <ipyannotate.progress.Atom object at 0x1084dc978>, <ipyannotate.progress.Atom object at 0x1084dc9b0>, <ipyannotate.progress.Atom object at 0x1084dc9e8>, <ipyannotate.progress.Atom object at 0x1084dca20>, <ipyannotate.progress.Atom object at 0x1084dca58>, <ipyannotate.progress.Atom object at 0x1084dca90>, <ipyannotate.progress.Atom object at 0x1084dcac8>, <ipyannotate.progress.Atom object at 0x1084dcb00>, <ipyannotate.progress.Atom object at 0x1084dcb38>, <ipyannotate.progress.Atom object at 0x1084dcb70>, <ipyannotate.progress.Atom object at 0x1084dcba8>, <ipyannotate.progress.Atom object at 0x1084dcbe0>, <ipyannotate.progress.Atom object at 0x1084dcc18>, <ipyannotate.progress.Atom object at 0x1084dcc50>, <ipyannotate.progress.Atom object at 0x1084dcc88>, <ipyannotate.progress.Atom object at 0x1084dccc0>, <ipyannotate.progress.Atom object at 0x1084dccf8>, <ipyannotate.progress.Atom object at 0x1084dcd30>, <ipyannotate.progress.Atom object at 0x1084dcd68>, <ipyannotate.progress.Atom object at 0x1084dcda0>, <ipyannotate.progress.Atom object at 0x1084dcdd8>, <ipyannotate.progress.Atom object at 0x1084dce10>, <ipyannotate.progress.Atom object at 0x1084dce48>, <ipyannotate.progress.Atom object at 0x1084dce80>, <ipyannotate.progress.Atom object at 0x1084dceb8>, <ipyannotate.progress.Atom object at 0x1084dcef0>, <ipyannotate.progress.Atom object at 0x1084dcf28>, <ipyannotate.progress.Atom object at 0x1084dcf60>, <ipyannotate.progress.Atom object at 0x1084dcf98>, <ipyannotate.progress.Atom object at 0x1084dcfd0>, <ipyannotate.progress.Atom object at 0x1084de048>, <ipyannotate.progress.Atom object at 0x1084de080>, <ipyannotate.progress.Atom object at 0x1084de0b8>, <ipyannotate.progress.Atom object at 0x1084de0f0>, <ipyannotate.progress.Atom object at 0x1084de128>, <ipyannotate.progress.Atom object at 0x1084de160>, <ipyannotate.progress.Atom object at 0x1084de198>, <ipyannotate.progress.Atom object at 0x1084de1d0>, <ipyannotate.progress.Atom object at 0x1084de208>, <ipyannotate.progress.Atom object at 0x1084de240>, <ipyannotate.progress.Atom object at 0x1084de278>, <ipyannotate.progress.Atom object at 0x1084de2b0>, <ipyannotate.progress.Atom object at 0x1084de2e8>, <ipyannotate.progress.Atom object at 0x1084de320>, <ipyannotate.progress.Atom object at 0x1084de358>, <ipyannotate.progress.Atom object at 0x1084de390>, <ipyannotate.progress.Atom object at 0x1084de3c8>, <ipyannotate.progress.Atom object at 0x1084de400>, <ipyannotate.progress.Atom object at 0x1084de438>, <ipyannotate.progress.Atom object at 0x1084de470>, <ipyannotate.progress.Atom object at 0x1084de4a8>, <ipyannotate.progress.Atom object at 0x1084de4e0>, <ipyannotate.progress.Atom object at 0x1084de518>, <ipyannotate.progress.Atom object at 0x1084de550>, <ipyannotate.progress.Atom object at 0x1084de588>, <ipyannotate.progress.Atom object at 0x1084de5c0>, <ipyannotate.progress.Atom object at 0x1084de5f8>, <ipyannotate.progress.Atom object at 0x1084de630>, <ipyannotate.progress.Atom object at 0x1084de668>, <ipyannotate.progress.Atom object at 0x1084de6a0>, <ipyannotate.progress.Atom object at 0x1084de6d8>, <ipyannotate.progress.Atom object at 0x1084de710>, <ipyannotate.progress.Atom object at 0x1084de748>, <ipyannotate.progress.Atom object at 0x1084de780>, <ipyannotate.progress.Atom object at 0x1084de7b8>, <ipyannotate.progress.Atom object at 0x1084de7f0>, <ipyannotate.progress.Atom object at 0x1084de828>, <ipyannotate.progress.Atom object at 0x1084de860>, <ipyannotate.progress.Atom object at 0x1084de898>, <ipyannotate.progress.Atom object at 0x1084de8d0>, <ipyannotate.progress.Atom object at 0x1084de908>, <ipyannotate.progress.Atom object at 0x1084de940>, <ipyannotate.progress.Atom object at 0x1084de978>, <ipyannotate.progress.Atom object at 0x1084de9b0>, <ipyannotate.progress.Atom object at 0x1084de9e8>, <ipyannotate.progress.Atom object at 0x1084dea20>, <ipyannotate.progress.Atom object at 0x1084dea58>, <ipyannotate.progress.Atom object at 0x1084dea90>, <ipyannotate.progress.Atom object at 0x1084deac8>, <ipyannotate.progress.Atom object at 0x1084deb00>, <ipyannotate.progress.Atom object at 0x1084deb38>, <ipyannotate.progress.Atom object at 0x1084deb70>, <ipyannotate.progress.Atom object at 0x1084deba8>, <ipyannotate.progress.Atom object at 0x1084debe0>, <ipyannotate.progress.Atom object at 0x1084dec18>, <ipyannotate.progress.Atom object at 0x1084dec50>, <ipyannotate.progress.Atom object at 0x1084dec88>, <ipyannotate.progress.Atom object at 0x1084decc0>, <ipyannotate.progress.Atom object at 0x1084decf8>, <ipyannotate.progress.Atom object at 0x1084ded30>, <ipyannotate.progress.Atom object at 0x1084ded68>, <ipyannotate.progress.Atom object at 0x1084deda0>, <ipyannotate.progress.Atom object at 0x1084dedd8>, <ipyannotate.progress.Atom object at 0x1084dee10>, <ipyannotate.progress.Atom object at 0x1084dee48>, <ipyannotate.progress.Atom object at 0x1084dee80>, <ipyannotate.progress.Atom object at 0x1084deeb8>, <ipyannotate.progress.Atom object at 0x1084deef0>, <ipyannotate.progress.Atom object at 0x1084def28>, <ipyannotate.progress.Atom object at 0x1084def60>, <ipyannotate.progress.Atom object at 0x1084def98>, <ipyannotate.progress.Atom object at 0x1084defd0>, <ipyannotate.progress.Atom object at 0x1084e0048>, <ipyannotate.progress.Atom object at 0x1084e0080>, <ipyannotate.progress.Atom object at 0x1084e00b8>, <ipyannotate.progress.Atom object at 0x1084e00f0>, <ipyannotate.progress.Atom object at 0x1084e0128>, <ipyannotate.progress.Atom object at 0x1084e0160>, <ipyannotate.progress.Atom object at 0x1084e0198>, <ipyannotate.progress.Atom object at 0x1084e01d0>, <ipyannotate.progress.Atom object at 0x1084e0208>, <ipyannotate.progress.Atom object at 0x1084e0240>, <ipyannotate.progress.Atom object at 0x1084e0278>, <ipyannotate.progress.Atom object at 0x1084e02b0>, <ipyannotate.progress.Atom object at 0x1084e02e8>, <ipyannotate.progress.Atom object at 0x1084e0320>, <ipyannotate.progress.Atom object at 0x1084e0358>, <ipyannotate.progress.Atom object at 0x1084e0390>, <ipyannotate.progress.Atom object at 0x1084e03c8>, <ipyannotate.progress.Atom object at 0x1084e0400>, <ipyannotate.progress.Atom object at 0x1084e0438>, <ipyannotate.progress.Atom object at 0x1084e0470>, <ipyannotate.progress.Atom object at 0x1084e04a8>, <ipyannotate.progress.Atom object at 0x1084e04e0>, <ipyannotate.progress.Atom object at 0x1084e0518>, <ipyannotate.progress.Atom object at 0x1084e0550>, <ipyannotate.progress.Atom object at 0x1084e0588>]), toolbar=Toolbar(buttons=[OkButton(color='green', icon='👌', label='ok', shortcut='1'), ErrorButton(color='red', icon='❌', label='err', shortcut='2'), BackButton(color='gray', icon='← ', label='back', shortcut='k'), NextButton(color='gray', icon='→ ', label='next', shortcut='j')]))"
      ]
     },
     "metadata": {},
     "output_type": "display_data"
    }
   ],
   "source": [
    "from ipyannotate import annotate\n",
    "\n",
    "annotation = annotate(markups[:500], display=show_markup)\n",
    "annotation"
   ]
  },
  {
   "cell_type": "code",
   "execution_count": 4,
   "metadata": {},
   "outputs": [
    {
     "data": {
      "text/plain": [
       "[Task(output=BoxMarkup('Севастьянов был членом партии КПРФ.', [Span(0, 11, None)]), value=True),\n",
       " Task(output=BoxMarkup('Об этом сообщил в четверг губернатор Мурманской области Юрий Евдокимо..., value=False),\n",
       " Task(output=BoxMarkup('Президентская администрация также выступает за замену в \"Транснефти\" ..., value=False),\n",
       " Task(output=BoxMarkup('Тогда Доренко покинул пост главного редактора радиостанции «Русская с..., value=True),\n",
       " Task(output=BoxMarkup('16 сентября объявленные в международный розыск \"разведчики\" Альтемиро..., value=False),\n",
       " Task(output=BoxMarkup('Накануне суд отказался разрешить медицинское освидетельствование Лебе..., value=True),\n",
       " Task(output=BoxMarkup('Их интересы представляет фирма \"Фэмили Фоундейшн\".', [Span(32, 38, No..., value=False),\n",
       " Task(output=BoxMarkup('Позже 27-летний пародист Рики Галлиано заявил, что в октябре 2010 год..., value=True),\n",
       " Task(output=BoxMarkup('Ранее сообщалось, что 7 июля премьер Владимир Путин наложил на Азбуки..., value=False),\n",
       " Task(output=BoxMarkup('С соответствующим заявлением выступил министр без портфеля Якоб Эдери..., value=True)]"
      ]
     },
     "execution_count": 4,
     "metadata": {},
     "output_type": "execute_result"
    }
   ],
   "source": [
    "annotation.tasks[:10]"
   ]
  },
  {
   "cell_type": "code",
   "execution_count": null,
   "metadata": {},
   "outputs": [],
   "source": []
  }
 ],
 "metadata": {
  "kernelspec": {
   "display_name": "Python 3",
   "language": "python",
   "name": "python3"
  },
  "language_info": {
   "codemirror_mode": {
    "name": "ipython",
    "version": 3
   },
   "file_extension": ".py",
   "mimetype": "text/x-python",
   "name": "python",
   "nbconvert_exporter": "python",
   "pygments_lexer": "ipython3",
   "version": "3.5.1"
  }
 },
 "nbformat": 4,
 "nbformat_minor": 2
}
