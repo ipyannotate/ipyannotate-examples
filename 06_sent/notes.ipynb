{
 "cells": [
  {
   "cell_type": "markdown",
   "metadata": {},
   "source": [
    "# Sentiment analysis\n",
    "<img src=\"./screencast.gif\"/>"
   ]
  },
  {
   "cell_type": "markdown",
   "metadata": {},
   "source": [
    "In this sample, we will build a sentiment annotator for the [Movie Review](http://www.cs.cornell.edu/people/pabo/movie-review-data/) dataset from Cornell."
   ]
  },
  {
   "cell_type": "markdown",
   "metadata": {},
   "source": [
    "First we extract the tarball"
   ]
  },
  {
   "cell_type": "code",
   "execution_count": 1,
   "metadata": {},
   "outputs": [
    {
     "name": "stdout",
     "output_type": "stream",
     "text": [
      "x data.json\n"
     ]
    }
   ],
   "source": [
    "!tar xfzv data.json.tgz"
   ]
  },
  {
   "cell_type": "code",
   "execution_count": 2,
   "metadata": {},
   "outputs": [],
   "source": [
    "import json\n",
    "with open('data.json') as f:\n",
    "    data = json.load(f)"
   ]
  },
  {
   "cell_type": "markdown",
   "metadata": {},
   "source": [
    "There's a lot of data here, lets process a subset of it."
   ]
  },
  {
   "cell_type": "code",
   "execution_count": 3,
   "metadata": {},
   "outputs": [
    {
     "name": "stderr",
     "output_type": "stream",
     "text": [
      "/usr/local/lib/python3.7/site-packages/sklearn/utils/__init__.py:4: DeprecationWarning: Using or importing the ABCs from 'collections' instead of from 'collections.abc' is deprecated, and in 3.8 it will stop working\n",
      "  from collections import Sequence\n"
     ]
    }
   ],
   "source": [
    "from nltk.sentiment.vader import SentimentIntensityAnalyzer\n",
    "sentiment_analyzer = SentimentIntensityAnalyzer()\n",
    "\n",
    "data = [{'text': _['text'], 'sentiment': sentiment_analyzer.polarity_scores(_['text'])['compound']} for _ in list(data.values())[:10]]"
   ]
  },
  {
   "cell_type": "markdown",
   "metadata": {},
   "source": [
    "We will write a simple display formatter to make our output look nice"
   ]
  },
  {
   "cell_type": "code",
   "execution_count": 4,
   "metadata": {},
   "outputs": [
    {
     "data": {
      "text/html": [
       "<span style=\"color:red;\">-1</span>"
      ],
      "text/plain": [
       "<IPython.core.display.HTML object>"
      ]
     },
     "metadata": {},
     "output_type": "display_data"
    },
    {
     "name": "stdout",
     "output_type": "stream",
     "text": [
      "in my review of \" the spy who shagged me , \" i postulated an unbreakable law of film physics : every time a sequel is as good as or better than the previous film in the series , it is followed by a third movie that is a bore . \n",
      "the cause is probably complacency ; a studio sighs with relief when part 2 lives up to expectations and figures part 3 is a sure thing . \n",
      " \" scream 3 \" provides the latest proof of this rule . \n",
      "in los angeles production has begun on \" stab 3 : return to woodsboro , \" the most recent installment in the series of movies inspired by the murders surrounding sidney prescott ( neve campbell ) . \n",
      "however , life soon starts imitating art , and \" stab \" cast members turn up stabbed . \n",
      "smelling yet another book deal , gale weathers ( courteney cox arquette ) comes to the set to investigate and finds her ex-boyfriend dewey riley ( david arquette ) acting as a technical consultant and getting chummy with jennifer ( parker posey ) , the actress playing gale in \" stab 3 . \" elsewhere , our heroine sidney is living in hiding under an assumed name . \n",
      " . \n",
      " . \n",
      "until she gets a phone call from a familiar evil voice . \n",
      "the late randy meeks ( jamie kennedy ) makes a surprise guest appearance via video to explain the rules of a trilogy . \n",
      "he notes the third chapter in a trilogy has an overabundance of exposition and a huge backstory to contend with . \n",
      "indeed , \" scream 3 \" tries to link its murders back to the one that started it all , the murder of sidney's mother maureen before the beginning of the original \" scream . \" \n",
      "at the scene of each murder in \" scream 3 , \" the killer leaves a photo of sidney's mother maureen as a teenager in hollywood and even includes a note claiming to be her real killer . \n",
      "to find out who the killer is , our intrepid investigators have to uncover what happened during maureen's missing years when she was a starlet appearing in low-budget horror films . \n",
      " ( even with that little information , you can probably already guess what the killer's relationship to sidney is ) . \n",
      "unlike its predecessors , \" scream 3 \" doesn't have the guts to even suggest that the central characters might be the killer . \n",
      "the characters we do suspect are all undeveloped , so that by the end we don't even care who the killer is . \n",
      "the jaded detective ( patrick dempsey ) ? \n",
      "the kinky producer ( lance henriksen ) ? \n",
      "the driven young director ( scott foley ) ? \n",
      "the ingenue ( emily mortimer ) ? \n",
      "the character who turns out to be the killer seems to be selected at random . \n",
      "wes craven supposedly filmed three different endings to keep the real one a secret , so it's quite possible the one in the final cut was randomly chosen . \n",
      "the series' trademark references to other horror films have become trite and obvious . \n",
      "possibly it's the absence of screenwriter kevin williamson , who penned the first two , or maybe it's that the hip ironic stance eventually consumes itself and a series that parodies film cliches eventually becomes a cliche . \n",
      "i groaned as an attack on sidney from the first \" scream \" was repeated moment-for-moment in the hollywood set of her home . \n",
      "at some point , referencing becomes just a means to cover up a poverty of new ideas . \n",
      " \" scream 3 \" also continues the tradition of having an eclectic set of cameos and familiar faces in small roles . \n",
      "look for jenny mccarthy , carrie fisher , patrick warburton ( puddy from \" seinfeld \" ) , roger corman , and jason mewes and kevin smith ( as jay and silent bob ) to walk through at some point . \n",
      "all these bit players put forth more effort than the series' returning stars , who are probably saving their energy for the long post- \" scream \" job search . \n",
      "another prediction i made in a previous review has come to pass : more movies are copying \" the blair witch project \" 's web strategy . \n",
      " \" scream 3 \" has three official websites that ( wink , wink ) pretend that the events of the movie are real and provide additional backstory information not covered in the movie . \n",
      "the sunrise studios site ( scream3 . com ) has trailers for other sunrise releases as well as the \" latest 'stab 3' news . \" \n",
      "there's also a gail weathers official site ( galeweathers . com ) and a sunrise sucks site that has more \" stab \" scandals the studio wants to cover up ( sunrisesucks . com ) . \n",
      "craven and company promise that this is the last installment in the \" scream \" series . \n",
      "while i hope that's true , i don't hold out much hope-horror movie series are even harder to kill than their monsters . \n",
      "there's a \" halloween h2k \" in the works , even though michael myers was beheaded in \" h20 , \" and a \" freddy vs . jason \" has been talked about for awhile , despite the fact that both characters were \" killed off . \" \n",
      "there's bound to be a \" scream 4 \" someday , even if it starts over with a new set of movie-star wannabes . \n",
      "bottom line : they should have called this one \" yawn . \" \n",
      "\n"
     ]
    }
   ],
   "source": [
    "from IPython.display import display, HTML, Code\n",
    "def display_record(record):\n",
    "    sentiment = 1 if record['sentiment'] > 0 else -1\n",
    "    if sentiment == 1:\n",
    "        display(HTML('<span style=\"color:green;\">{}</span>'.format(sentiment)))\n",
    "    else:\n",
    "        display(HTML('<span style=\"color:red;\">{}</span>'.format(sentiment)))\n",
    "    print(record['text'])\n",
    "\n",
    "display_record(data[0])"
   ]
  },
  {
   "cell_type": "markdown",
   "metadata": {},
   "source": [
    "## Assemble our annotator\n",
    "Now we can assemble our checker using `ipyannotate`. For this task, we will show the user the model-evaluated sentiment, and let them override it with `+1`, `0` and `-1` buttons, which will modify the annotation tasks."
   ]
  },
  {
   "cell_type": "code",
   "execution_count": 5,
   "metadata": {},
   "outputs": [
    {
     "data": {
      "application/vnd.jupyter.widget-view+json": {
       "model_id": "d232a3dff0eb401c8d325441aed64232",
       "version_major": 2,
       "version_minor": 0
      },
      "text/plain": [
       "Annotation(canvas=OutputCanvas(), progress=Progress(atoms=[<ipyannotate.progress.Atom object at 0x1074e2898>, …"
      ]
     },
     "metadata": {},
     "output_type": "display_data"
    }
   ],
   "source": [
    "from ipyannotate.buttons import OkButton as Button, NextButton, BackButton\n",
    "from ipyannotate.toolbar import Toolbar\n",
    "from ipyannotate.tasks import Task, Tasks\n",
    "from ipyannotate.canvas import OutputCanvas\n",
    "from ipyannotate.annotation import Annotation\n",
    "\n",
    "\n",
    "def handle_click(button):\n",
    "    annotation.tasks.current.output['sentiment'] = button.value\n",
    "\n",
    "tasks = Tasks(Task(_) for _ in data)\n",
    "\n",
    "pos = Button(label='+', shortcut='1', value=1, color='green', icon='', callback=handle_click)\n",
    "neu = Button(label='o', shortcut='2', value=0, color='gray', icon='', callback=handle_click)\n",
    "neg = Button(label='-', shortcut='3', value=-1, color='red', icon='', callback=handle_click)\n",
    "\n",
    "buttons = [pos, neu, neg, BackButton(shortcut='j'), NextButton(shortcut='k')]\n",
    "toolbar = Toolbar(buttons)\n",
    "\n",
    "canvas = OutputCanvas(display=display_record)\n",
    "\n",
    "annotation = Annotation(toolbar, tasks, canvas=canvas)\n",
    "annotation"
   ]
  },
  {
   "cell_type": "markdown",
   "metadata": {},
   "source": [
    "# annotation.tasks"
   ]
  },
  {
   "cell_type": "code",
   "execution_count": 6,
   "metadata": {},
   "outputs": [
    {
     "data": {
      "text/plain": [
       "[Task(output={'text': 'in my review of \" the spy who shagged me , \" i postulated an unbreakab..., value=None),\n",
       " Task(output={'text': 'five years after his directorial debut based on stephen king\\'s writin..., value=None),\n",
       " Task(output={'text': 'i went to blair witch project 2 : book of shadows with the highest of ..., value=None),\n",
       " Task(output={'text': 'the word to describe sharon stone is \" wonder \" . \\nnot that she _is_ ..., value=None),\n",
       " Task(output={'text': 'one fun activity for parents during the holidays is to suggest an old ..., value=None),\n",
       " Task(output={'text': \"krippendorf's tribe is a formula comedy . \\ndone poorly , formulaic co..., value=None),\n",
       " Task(output={'text': \"note : some may consider portions of the following text to be spoilers..., value=None),\n",
       " Task(output={'text': ' \" if there\\'s a beast in men , it meets its match in women , too . \" ..., value=None),\n",
       " Task(output={'text': 'bruce willis and sixth sense director m . night shyamalan re-team to t..., value=None),\n",
       " Task(output={'text': \"anastasia contains something that has been lacking from all of the rec..., value=None)]"
      ]
     },
     "execution_count": 6,
     "metadata": {},
     "output_type": "execute_result"
    }
   ],
   "source": [
    "annotation.tasks"
   ]
  },
  {
   "cell_type": "code",
   "execution_count": null,
   "metadata": {},
   "outputs": [],
   "source": []
  }
 ],
 "metadata": {
  "kernelspec": {
   "display_name": "Python 3",
   "language": "python",
   "name": "python3"
  },
  "language_info": {
   "codemirror_mode": {
    "name": "ipython",
    "version": 3
   },
   "file_extension": ".py",
   "mimetype": "text/x-python",
   "name": "python",
   "nbconvert_exporter": "python",
   "pygments_lexer": "ipython3",
   "version": "3.7.0"
  }
 },
 "nbformat": 4,
 "nbformat_minor": 2
}
