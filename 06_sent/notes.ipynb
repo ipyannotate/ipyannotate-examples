{
 "cells": [
  {
   "cell_type": "markdown",
   "metadata": {},
   "source": [
    "# Sentiment analysis\n",
    "<img src=\"./screencast.gif\"/>"
   ]
  },
  {
   "cell_type": "markdown",
   "metadata": {},
   "source": [
    "In this sample, we will build a sentiment annotator for the [Movie Review](http://www.cs.cornell.edu/people/pabo/movie-review-data/) dataset from Cornell."
   ]
  },
  {
   "cell_type": "code",
   "execution_count": 1,
   "metadata": {},
   "outputs": [],
   "source": [
    "import json\n",
    "import tarfile\n",
    "\n",
    "with tarfile.open('data.json.tgz') as tar:\n",
    "    file = tar.extractfile('data.json')\n",
    "    data = file.read().decode('utf8')"
   ]
  },
  {
   "cell_type": "code",
   "execution_count": 2,
   "metadata": {},
   "outputs": [
    {
     "data": {
      "text/plain": [
       "'{\"0\": {\"text\": \"in my review of \\\\\" the spy who shagged me , \\\\\" i postulated an unbreakable law of film physics : every time a sequel is as good as or better than the previous film in the series , it is followed by a third movie that is a bore . \\\\nthe cause is probably complacency ; a studio sighs with relief when part 2 lives up to expectations and figures part 3 is a sure thing . \\\\n \\\\\" scream 3 \\\\\" provides the latest proof of this rule . \\\\nin los angeles production has begun on \\\\\" stab 3 : return to woodsboro , \\\\\" the most recent installment in the series of movies inspired by the murders surrounding sidney prescott ( neve campbell ) . \\\\nhowever , life soon starts imitating art , and \\\\\" stab \\\\\" cast members turn up stabbed . \\\\nsmelling yet another book deal , gale weathers ( courteney cox arquette ) comes to the set to investigate and finds her ex-boyfriend dewey riley ( david arquette ) acting as a technical consultant and getting chummy with jennifer ( parker posey ) , the actress playing gale in \\\\\" stab 3 . \\\\\" elsewhere , our heroine sidney is living in hiding under an assumed name . \\\\n . \\\\n . \\\\nuntil she gets a phone call from a familiar evil voice . \\\\nthe late randy meeks ( jamie kennedy ) makes a surprise guest appearance via video to explain the rules of a trilogy . \\\\nhe notes the third chapter in a trilogy has an overabundance of exposition and a huge backstory to contend with . \\\\nindeed , \\\\\" scream 3 \\\\\" tries to link its murders back to the one that started it all , the murder of sidney\\'s mother maureen before the beginning of the original \\\\\" scream . \\\\\" \\\\nat the scene of each murder in \\\\\" scream 3 , \\\\\" the killer leaves a photo of sidney\\'s mother maureen as a teenager in hollywood and even includes a note claiming to be her real killer . \\\\nto find out who the killer is , our intrepid investigators have to uncover what happened during maureen\\'s missing years when she was a starlet appearing in low-budget horror films . \\\\n ( even with that little informatio'"
      ]
     },
     "execution_count": 2,
     "metadata": {},
     "output_type": "execute_result"
    }
   ],
   "source": [
    "data[:2000]"
   ]
  },
  {
   "cell_type": "code",
   "execution_count": 3,
   "metadata": {},
   "outputs": [],
   "source": [
    "from textwrap import wrap\n",
    "\n",
    "\n",
    "class Record(object):\n",
    "    def __init__(self, id, text, cornell, vader=None, my=None):\n",
    "        self.id = id\n",
    "        self.text = text\n",
    "        self.cornell = cornell\n",
    "        self.vader = vader\n",
    "        self.my = my\n",
    "        \n",
    "    def __repr__(self):\n",
    "        return 'Record(id={self.id!r}, text={self.text!r}), cornell={self.cornell!r}, vader={self.vader!r}, my={self.my!r})'.format(self=self)\n",
    "\n",
    "\n",
    "def parse(data):\n",
    "    data = json.loads(data)\n",
    "    for id in data:\n",
    "        item = data[id]\n",
    "        yield Record(\n",
    "            id=id,\n",
    "            text=item['text'],\n",
    "            cornell=item['sent'],\n",
    "        )\n",
    "        \n",
    "        \n",
    "records = list(parse(data))"
   ]
  },
  {
   "cell_type": "markdown",
   "metadata": {},
   "source": [
    "We will write a simple display formatter to make our output look nice"
   ]
  },
  {
   "cell_type": "code",
   "execution_count": 4,
   "metadata": {},
   "outputs": [
    {
     "data": {
      "text/html": [
       "cornell: <span style=\"color:red;\">neg</span>"
      ],
      "text/plain": [
       "<IPython.core.display.HTML object>"
      ]
     },
     "metadata": {},
     "output_type": "display_data"
    },
    {
     "name": "stdout",
     "output_type": "stream",
     "text": [
      "the yet-to-be-released krippendorf's tribe is being marketed as a family comedy , but buyer beware . \n",
      "this movie can't make up its mind . \n",
      "is it a family comedy with vulgar references to both the male and female bodies , menstruation , circumcision , and sex that would make any parents squirm at the thought of having their child next to them ? \n",
      "or is it an adult comedy approached with such immaturity that only adolescents will appreciate the effort ? \n",
      "either way , \" unbalanced \" is the word to stamp on this hit and miss and miss and miss effort . \n",
      "the premise is catchy - widowed anthropology professor james krippendorf ( richard dreyfuss ) has spent the past two years \" getting over \" the death of his wife , neglecting key research and squandering grant money on personal living expenses . \n",
      "now it's time to show what he's achieved in those two years , and he has absolutely nothing to show for it . \n",
      "with a fabricated tale of studying a previously undiscovered tribe in new guinea , krippendorf petitions for new funds while hiding the fact that the previous $100 , 000 grant was spent on trips to mcdonald's . \n",
      "but when his \" discovery \" becomes the latest craze among colleagues , the professor finds he must do more than talk about the tribe - he must create it . \n",
      "with the aid of his three children , the headstrong teen shelly ( natasha lyonne of everyone says i love you ) , the slightly younger mickey ( gregory smith ) , and the nine-year-old edmund ( carl michael lindner ) , the \" shelmikedmu \" tribe ( named from the first half of each child's name ) is born , and videos quickly produced in krippendorf's backyard are passed off as stunning documentary footage of the newly found new guinea tribe . \n",
      "despite the professor's wishes , the buzz surrounding his discovery only grows , due in greatest part to veronica micelli ( jenna elfman ) , an overly vivacious ( and voluptuous ) anthropologist who barges her way into the discovery and basically deems herself krippendorf's main assistant . \n",
      "hungry for recognition , micelli sets up interviews , lectures , etc . in an effort to make this the biggest sociological event in history , a sure fire way to go down in the history books . \n",
      "krippendorf , on the other hand , is seeing himself go down a jail cell corridor , not in history books , and with each new lecture , he must come up with something impressive to unleash about the tribe - mating habits , domestic structure , etc . thru fumbling improvisation , and often some quick thinking from his oldest son , krippendorf makes it thru each new lecture , but only creates more and more interest in the highly unique tribe . \n",
      "on the opposing end is krippendorf's arch rival , ruth allen ( lily tomlin ) , an arrogant professor whose jealousy drives her on a mission to disprove the existance of the non-existent tribe . \n",
      "it's a cute idea , and approached with a more subtle ( and mature ) style , krippendorf's tribe could've been a real winner . \n",
      "sadly , the mostly-misfired toilet humor , overly comical musical score ( by bruce broughton ) , and sugar coated sentiments ( all the key ingredients of a \" family comedy \" ) just aren't the right tone for this film . \n",
      "cut that crap out , add some razor sharp dialogue and witty sociological perceptions and you've got a good start . \n",
      "at the state it's in now , you've got something along the lines of medicine man meets mrs . \n",
      "doubtfire meets dumb & dumber , and that's not a concoction anyone should be overly anxious to try . \n",
      "the overall product here is a highly forgettable cup of \" average \" , with a few laugh-out-loud moments and a great big gap in between them . \n",
      "most of the characters are surprisingly two-dimensional , and the only one who seems to exhibit any real acting effort ( lyonne ) seems to go greatly unappreciated . \n",
      "director todd holland has gone about making this film in all the wrong ways . \n",
      "it's stuck in limbo between disney family fare ( jungle 2 jungle ) and potentially hilarious adult comedy ( a fish called wanda ) . \n",
      "it's this unbalanced structure that really knocks it down a grade , and it's a brutal drop . \n",
      "a strong warning to parents : forget the impression given by advertisements , do you want to take your kids to a film that has a woman asking a man if he finds her attractive merely because she's holding his penis ? \n",
      "yes , it's put that bluntly ! \n",
      "just be warned - this is merely one example of the many shocking subjects to be brought up in the film , and others might not be as tame . \n",
      "\n"
     ]
    }
   ],
   "source": [
    "from IPython.display import display, HTML\n",
    "\n",
    "\n",
    "RED = 'red'\n",
    "GREEN = 'green'\n",
    "\n",
    "\n",
    "def format_color(value, color):\n",
    "    return '<span style=\"color:{color};\">{value}</span>'.format(\n",
    "        color=color,\n",
    "        value=value\n",
    "    )\n",
    "\n",
    "\n",
    "def display_record(record):\n",
    "    value = record.cornell\n",
    "    if value == 'neg':\n",
    "        color = RED\n",
    "    elif value == 'pos':\n",
    "        color = GREEN\n",
    "    else:\n",
    "        raise ValueError(value)\n",
    "    display(HTML('cornell: ' + format_color(value, color)))\n",
    "\n",
    "    value = record.vader\n",
    "    if value is not None:\n",
    "        color = RED if value < 0 else GREEN\n",
    "        display(HTML('vader: ' + format_color(value, color)))\n",
    "\n",
    "    value = record.my\n",
    "    if value is not None:\n",
    "        color = RED if value < 0 else GREEN\n",
    "        display(HTML('my: ' + format_color(value, color)))\n",
    "    \n",
    "    print(record.text)\n",
    "\n",
    "    \n",
    "display_record(records[0])"
   ]
  },
  {
   "cell_type": "code",
   "execution_count": 5,
   "metadata": {},
   "outputs": [
    {
     "data": {
      "text/plain": [
       "2000"
      ]
     },
     "execution_count": 5,
     "metadata": {},
     "output_type": "execute_result"
    }
   ],
   "source": [
    "len(records)"
   ]
  },
  {
   "cell_type": "code",
   "execution_count": 6,
   "metadata": {},
   "outputs": [
    {
     "name": "stdout",
     "output_type": "stream",
     "text": [
      "[nltk_data] Downloading package vader_lexicon to\n",
      "[nltk_data]     /Users/alexkuk/nltk_data...\n",
      "[nltk_data]   Package vader_lexicon is already up-to-date!\n"
     ]
    },
    {
     "data": {
      "text/plain": [
       "True"
      ]
     },
     "execution_count": 6,
     "metadata": {},
     "output_type": "execute_result"
    }
   ],
   "source": [
    "import nltk\n",
    "nltk.download('vader_lexicon')"
   ]
  },
  {
   "cell_type": "code",
   "execution_count": 7,
   "metadata": {},
   "outputs": [
    {
     "name": "stderr",
     "output_type": "stream",
     "text": [
      "/Users/alexkuk/envs/mypy3/lib/python3.5/site-packages/nltk/twitter/__init__.py:20: UserWarning: The twython library has not been installed. Some functionality from the twitter package will not be available.\n",
      "  warnings.warn(\"The twython library has not been installed. \"\n"
     ]
    },
    {
     "data": {
      "application/vnd.jupyter.widget-view+json": {
       "model_id": "4b510ff472e2446f80e4409147d3da96",
       "version_major": 2,
       "version_minor": 0
      },
      "text/html": [
       "<p>Failed to display Jupyter Widget of type <code>HBox</code>.</p>\n",
       "<p>\n",
       "  If you're reading this message in the Jupyter Notebook or JupyterLab Notebook, it may mean\n",
       "  that the widgets JavaScript is still loading. If this message persists, it\n",
       "  likely means that the widgets JavaScript library is either not installed or\n",
       "  not enabled. See the <a href=\"https://ipywidgets.readthedocs.io/en/stable/user_install.html\">Jupyter\n",
       "  Widgets Documentation</a> for setup instructions.\n",
       "</p>\n",
       "<p>\n",
       "  If you're reading this message in another frontend (for example, a static\n",
       "  rendering on GitHub or <a href=\"https://nbviewer.jupyter.org/\">NBViewer</a>),\n",
       "  it may mean that your frontend doesn't currently support widgets.\n",
       "</p>\n"
      ],
      "text/plain": [
       "HBox(children=(IntProgress(value=0, max=2000), HTML(value='')))"
      ]
     },
     "metadata": {},
     "output_type": "display_data"
    },
    {
     "name": "stdout",
     "output_type": "stream",
     "text": [
      "\n"
     ]
    }
   ],
   "source": [
    "from tqdm import tqdm_notebook as log_progress\n",
    "\n",
    "from nltk.sentiment.vader import SentimentIntensityAnalyzer\n",
    "vader = SentimentIntensityAnalyzer()\n",
    "\n",
    "\n",
    "for record in log_progress(records):\n",
    "    score = vader.polarity_scores(record.text)\n",
    "    # {'compound': 0.6156, 'neg': 0.074, 'pos': 0.085, 'neu': 0.842}\n",
    "    record.vader = score['compound']"
   ]
  },
  {
   "cell_type": "code",
   "execution_count": 8,
   "metadata": {},
   "outputs": [
    {
     "data": {
      "text/html": [
       "cornell: <span style=\"color:red;\">neg</span>"
      ],
      "text/plain": [
       "<IPython.core.display.HTML object>"
      ]
     },
     "metadata": {},
     "output_type": "display_data"
    },
    {
     "data": {
      "text/html": [
       "vader: <span style=\"color:green;\">0.9868</span>"
      ],
      "text/plain": [
       "<IPython.core.display.HTML object>"
      ]
     },
     "metadata": {},
     "output_type": "display_data"
    },
    {
     "name": "stdout",
     "output_type": "stream",
     "text": [
      "the yet-to-be-released krippendorf's tribe is being marketed as a family comedy , but buyer beware . \n",
      "this movie can't make up its mind . \n",
      "is it a family comedy with vulgar references to both the male and female bodies , menstruation , circumcision , and sex that would make any parents squirm at the thought of having their child next to them ? \n",
      "or is it an adult comedy approached with such immaturity that only adolescents will appreciate the effort ? \n",
      "either way , \" unbalanced \" is the word to stamp on this hit and miss and miss and miss effort . \n",
      "the premise is catchy - widowed anthropology professor james krippendorf ( richard dreyfuss ) has spent the past two years \" getting over \" the death of his wife , neglecting key research and squandering grant money on personal living expenses . \n",
      "now it's time to show what he's achieved in those two years , and he has absolutely nothing to show for it . \n",
      "with a fabricated tale of studying a previously undiscovered tribe in new guinea , krippendorf petitions for new funds while hiding the fact that the previous $100 , 000 grant was spent on trips to mcdonald's . \n",
      "but when his \" discovery \" becomes the latest craze among colleagues , the professor finds he must do more than talk about the tribe - he must create it . \n",
      "with the aid of his three children , the headstrong teen shelly ( natasha lyonne of everyone says i love you ) , the slightly younger mickey ( gregory smith ) , and the nine-year-old edmund ( carl michael lindner ) , the \" shelmikedmu \" tribe ( named from the first half of each child's name ) is born , and videos quickly produced in krippendorf's backyard are passed off as stunning documentary footage of the newly found new guinea tribe . \n",
      "despite the professor's wishes , the buzz surrounding his discovery only grows , due in greatest part to veronica micelli ( jenna elfman ) , an overly vivacious ( and voluptuous ) anthropologist who barges her way into the discovery and basically deems herself krippendorf's main assistant . \n",
      "hungry for recognition , micelli sets up interviews , lectures , etc . in an effort to make this the biggest sociological event in history , a sure fire way to go down in the history books . \n",
      "krippendorf , on the other hand , is seeing himself go down a jail cell corridor , not in history books , and with each new lecture , he must come up with something impressive to unleash about the tribe - mating habits , domestic structure , etc . thru fumbling improvisation , and often some quick thinking from his oldest son , krippendorf makes it thru each new lecture , but only creates more and more interest in the highly unique tribe . \n",
      "on the opposing end is krippendorf's arch rival , ruth allen ( lily tomlin ) , an arrogant professor whose jealousy drives her on a mission to disprove the existance of the non-existent tribe . \n",
      "it's a cute idea , and approached with a more subtle ( and mature ) style , krippendorf's tribe could've been a real winner . \n",
      "sadly , the mostly-misfired toilet humor , overly comical musical score ( by bruce broughton ) , and sugar coated sentiments ( all the key ingredients of a \" family comedy \" ) just aren't the right tone for this film . \n",
      "cut that crap out , add some razor sharp dialogue and witty sociological perceptions and you've got a good start . \n",
      "at the state it's in now , you've got something along the lines of medicine man meets mrs . \n",
      "doubtfire meets dumb & dumber , and that's not a concoction anyone should be overly anxious to try . \n",
      "the overall product here is a highly forgettable cup of \" average \" , with a few laugh-out-loud moments and a great big gap in between them . \n",
      "most of the characters are surprisingly two-dimensional , and the only one who seems to exhibit any real acting effort ( lyonne ) seems to go greatly unappreciated . \n",
      "director todd holland has gone about making this film in all the wrong ways . \n",
      "it's stuck in limbo between disney family fare ( jungle 2 jungle ) and potentially hilarious adult comedy ( a fish called wanda ) . \n",
      "it's this unbalanced structure that really knocks it down a grade , and it's a brutal drop . \n",
      "a strong warning to parents : forget the impression given by advertisements , do you want to take your kids to a film that has a woman asking a man if he finds her attractive merely because she's holding his penis ? \n",
      "yes , it's put that bluntly ! \n",
      "just be warned - this is merely one example of the many shocking subjects to be brought up in the film , and others might not be as tame . \n",
      "\n"
     ]
    }
   ],
   "source": [
    "display_record(records[0])"
   ]
  },
  {
   "cell_type": "markdown",
   "metadata": {},
   "source": [
    "## Assemble our annotator\n",
    "Now we can assemble our checker using `ipyannotate`. For this task, we will show the user the model-evaluated sentiment, and let them override it with `+1`, `0` and `-1` buttons, which will modify the annotation tasks."
   ]
  },
  {
   "cell_type": "code",
   "execution_count": 9,
   "metadata": {
    "scrolled": false
   },
   "outputs": [
    {
     "data": {
      "application/vnd.jupyter.widget-view+json": {
       "model_id": "095301a37c73417f88addd67b9a1b816",
       "version_major": 2,
       "version_minor": 0
      },
      "text/html": [
       "<p>Failed to display Jupyter Widget of type <code>Annotation</code>.</p>\n",
       "<p>\n",
       "  If you're reading this message in the Jupyter Notebook or JupyterLab Notebook, it may mean\n",
       "  that the widgets JavaScript is still loading. If this message persists, it\n",
       "  likely means that the widgets JavaScript library is either not installed or\n",
       "  not enabled. See the <a href=\"https://ipywidgets.readthedocs.io/en/stable/user_install.html\">Jupyter\n",
       "  Widgets Documentation</a> for setup instructions.\n",
       "</p>\n",
       "<p>\n",
       "  If you're reading this message in another frontend (for example, a static\n",
       "  rendering on GitHub or <a href=\"https://nbviewer.jupyter.org/\">NBViewer</a>),\n",
       "  it may mean that your frontend doesn't currently support widgets.\n",
       "</p>\n"
      ],
      "text/plain": [
       "Annotation(canvas=OutputCanvas(), progress=Progress(atoms=[<ipyannotate.progress.Atom object at 0x11749b6a0>, <ipyannotate.progress.Atom object at 0x11749b278>, <ipyannotate.progress.Atom object at 0x11749b320>, <ipyannotate.progress.Atom object at 0x11749b4e0>, <ipyannotate.progress.Atom object at 0x11749bf98>, <ipyannotate.progress.Atom object at 0x11749be48>, <ipyannotate.progress.Atom object at 0x11749b780>, <ipyannotate.progress.Atom object at 0x11749b160>, <ipyannotate.progress.Atom object at 0x11749b588>, <ipyannotate.progress.Atom object at 0x11749bb00>, <ipyannotate.progress.Atom object at 0x117492048>, <ipyannotate.progress.Atom object at 0x117492080>, <ipyannotate.progress.Atom object at 0x1174920b8>, <ipyannotate.progress.Atom object at 0x1174920f0>, <ipyannotate.progress.Atom object at 0x117492128>, <ipyannotate.progress.Atom object at 0x117492160>, <ipyannotate.progress.Atom object at 0x117492198>, <ipyannotate.progress.Atom object at 0x1174921d0>, <ipyannotate.progress.Atom object at 0x117492208>, <ipyannotate.progress.Atom object at 0x117492240>, <ipyannotate.progress.Atom object at 0x117492278>, <ipyannotate.progress.Atom object at 0x1174922b0>, <ipyannotate.progress.Atom object at 0x1174922e8>, <ipyannotate.progress.Atom object at 0x117492320>, <ipyannotate.progress.Atom object at 0x117492358>, <ipyannotate.progress.Atom object at 0x117492390>, <ipyannotate.progress.Atom object at 0x1174923c8>, <ipyannotate.progress.Atom object at 0x117492400>, <ipyannotate.progress.Atom object at 0x117492438>, <ipyannotate.progress.Atom object at 0x117492470>, <ipyannotate.progress.Atom object at 0x1174924a8>, <ipyannotate.progress.Atom object at 0x1174924e0>, <ipyannotate.progress.Atom object at 0x117492518>, <ipyannotate.progress.Atom object at 0x117492550>, <ipyannotate.progress.Atom object at 0x117492588>, <ipyannotate.progress.Atom object at 0x1174925c0>, <ipyannotate.progress.Atom object at 0x1174925f8>, <ipyannotate.progress.Atom object at 0x117492630>, <ipyannotate.progress.Atom object at 0x117492668>, <ipyannotate.progress.Atom object at 0x1174926a0>, <ipyannotate.progress.Atom object at 0x1174926d8>, <ipyannotate.progress.Atom object at 0x117492710>, <ipyannotate.progress.Atom object at 0x117492748>, <ipyannotate.progress.Atom object at 0x117492780>, <ipyannotate.progress.Atom object at 0x1174927b8>, <ipyannotate.progress.Atom object at 0x1174927f0>, <ipyannotate.progress.Atom object at 0x117492828>, <ipyannotate.progress.Atom object at 0x117492860>, <ipyannotate.progress.Atom object at 0x117492898>, <ipyannotate.progress.Atom object at 0x1174928d0>, <ipyannotate.progress.Atom object at 0x117492908>, <ipyannotate.progress.Atom object at 0x117492940>, <ipyannotate.progress.Atom object at 0x117492978>, <ipyannotate.progress.Atom object at 0x1174929b0>, <ipyannotate.progress.Atom object at 0x1174929e8>, <ipyannotate.progress.Atom object at 0x117492a20>, <ipyannotate.progress.Atom object at 0x117492a58>, <ipyannotate.progress.Atom object at 0x117492a90>, <ipyannotate.progress.Atom object at 0x117492ac8>, <ipyannotate.progress.Atom object at 0x117492b00>, <ipyannotate.progress.Atom object at 0x117492b38>, <ipyannotate.progress.Atom object at 0x117492b70>, <ipyannotate.progress.Atom object at 0x117492ba8>, <ipyannotate.progress.Atom object at 0x117492be0>, <ipyannotate.progress.Atom object at 0x117492c18>, <ipyannotate.progress.Atom object at 0x117492c50>, <ipyannotate.progress.Atom object at 0x117492c88>, <ipyannotate.progress.Atom object at 0x117492cc0>, <ipyannotate.progress.Atom object at 0x117492cf8>, <ipyannotate.progress.Atom object at 0x117492d30>, <ipyannotate.progress.Atom object at 0x117492d68>, <ipyannotate.progress.Atom object at 0x117492da0>, <ipyannotate.progress.Atom object at 0x117492dd8>, <ipyannotate.progress.Atom object at 0x117492e10>, <ipyannotate.progress.Atom object at 0x117492e48>, <ipyannotate.progress.Atom object at 0x117492e80>, <ipyannotate.progress.Atom object at 0x117492eb8>, <ipyannotate.progress.Atom object at 0x117492ef0>, <ipyannotate.progress.Atom object at 0x117492f28>, <ipyannotate.progress.Atom object at 0x117492f60>, <ipyannotate.progress.Atom object at 0x117492f98>, <ipyannotate.progress.Atom object at 0x117492fd0>, <ipyannotate.progress.Atom object at 0x117561dd8>, <ipyannotate.progress.Atom object at 0x117561c50>, <ipyannotate.progress.Atom object at 0x117561630>, <ipyannotate.progress.Atom object at 0x117561f60>, <ipyannotate.progress.Atom object at 0x1175610b8>, <ipyannotate.progress.Atom object at 0x1175612e8>, <ipyannotate.progress.Atom object at 0x117561320>, <ipyannotate.progress.Atom object at 0x117561cc0>, <ipyannotate.progress.Atom object at 0x1175615c0>, <ipyannotate.progress.Atom object at 0x117561e80>, <ipyannotate.progress.Atom object at 0x1175615f8>, <ipyannotate.progress.Atom object at 0x1175613c8>, <ipyannotate.progress.Atom object at 0x117561b00>, <ipyannotate.progress.Atom object at 0x117561ba8>, <ipyannotate.progress.Atom object at 0x117561f98>, <ipyannotate.progress.Atom object at 0x117561fd0>, <ipyannotate.progress.Atom object at 0x1175617b8>, <ipyannotate.progress.Atom object at 0x117561a90>]), toolbar=Toolbar(buttons=[ValueButton(color='green', icon=None, label='1', shortcut='1'), ValueButton(color='gray', icon=None, label='0', shortcut='2'), ValueButton(color='red', icon=None, label='-1', shortcut='3'), BackButton(color='gray', icon='← ', label='back', shortcut='j'), NextButton(color='gray', icon='→ ', label='next', shortcut='k')]))"
      ]
     },
     "metadata": {},
     "output_type": "display_data"
    }
   ],
   "source": [
    "from ipyannotate.buttons import ValueButton as Button, NextButton, BackButton\n",
    "from ipyannotate.toolbar import Toolbar\n",
    "from ipyannotate.tasks import Task, Tasks\n",
    "from ipyannotate.canvas import OutputCanvas\n",
    "from ipyannotate.annotation import Annotation\n",
    "\n",
    "\n",
    "def callback(button):\n",
    "    annotation.tasks.current.output.my = button.value\n",
    "\n",
    "\n",
    "tasks = Tasks(Task(_) for _ in records[:100])\n",
    "\n",
    "pos = Button(1, shortcut='1', color='green')\n",
    "neu = Button(0, shortcut='2', color='gray')\n",
    "neg = Button(-1, shortcut='3', color='red')\n",
    "\n",
    "for button in [pos, neu, neg]:\n",
    "    button.on_click(callback)\n",
    "\n",
    "buttons = [pos, neu, neg, BackButton(shortcut='j'), NextButton(shortcut='k')]\n",
    "toolbar = Toolbar(buttons)\n",
    "\n",
    "canvas = OutputCanvas(display=display_record)\n",
    "\n",
    "annotation = Annotation(toolbar, tasks, canvas=canvas)\n",
    "annotation"
   ]
  },
  {
   "cell_type": "markdown",
   "metadata": {},
   "source": [
    "# annotation.tasks"
   ]
  },
  {
   "cell_type": "code",
   "execution_count": 11,
   "metadata": {},
   "outputs": [
    {
     "data": {
      "text/plain": [
       "[Task(output=Record(id='961', text='the yet-to-be-released krippendorf\\'s tribe is being mark..., value=1),\n",
       " Task(output=Record(id='581', text='mpaa : not rated ( though i feel it would likely be pg , ..., value=0),\n",
       " Task(output=Record(id='417', text=\"would you believe -- in real life , i mean -- that if you..., value=-1),\n",
       " Task(output=Record(id='1790', text='it seemed like the perfect concept . \\nwhat better for t..., value=1),\n",
       " Task(output=Record(id='395', text='phaedra cinema , the distributor of such never-heard-of c..., value=0),\n",
       " Task(output=Record(id='725', text=\"synopsis : a man whose lover , paris , was murdered agree..., value=-1),\n",
       " Task(output=Record(id='718', text='luckily , some people got starship troopers . \\nsome peop..., value=1),\n",
       " Task(output=Record(id='498', text='vampire lore and legend has always been a popular fantasy..., value=0),\n",
       " Task(output=Record(id='1910', text='though it is a fine piece of filmmaking , there\\'s somet..., value=-1),\n",
       " Task(output=Record(id='1527', text='there is a scene in patch adams in which patch is in the..., value=None)]"
      ]
     },
     "execution_count": 11,
     "metadata": {},
     "output_type": "execute_result"
    }
   ],
   "source": [
    "annotation.tasks[:10]"
   ]
  },
  {
   "cell_type": "code",
   "execution_count": null,
   "metadata": {},
   "outputs": [],
   "source": []
  }
 ],
 "metadata": {
  "kernelspec": {
   "display_name": "Python 3",
   "language": "python",
   "name": "python3"
  },
  "language_info": {
   "codemirror_mode": {
    "name": "ipython",
    "version": 3
   },
   "file_extension": ".py",
   "mimetype": "text/x-python",
   "name": "python",
   "nbconvert_exporter": "python",
   "pygments_lexer": "ipython3",
   "version": "3.5.1"
  }
 },
 "nbformat": 4,
 "nbformat_minor": 2
}
