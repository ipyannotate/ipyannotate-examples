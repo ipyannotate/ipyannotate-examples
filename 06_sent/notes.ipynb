{
 "cells": [
  {
   "cell_type": "markdown",
   "metadata": {},
   "source": [
    "# Sentiment analysis\n",
    "<img src=\"./screencast.gif\"/>"
   ]
  },
  {
   "cell_type": "markdown",
   "metadata": {},
   "source": [
    "In this sample, we will build a sentiment annotator for the [Movie Review](http://www.cs.cornell.edu/people/pabo/movie-review-data/) dataset from Cornell."
   ]
  },
  {
   "cell_type": "code",
   "execution_count": 1,
   "metadata": {},
   "outputs": [],
   "source": [
    "import json\n",
    "import tarfile\n",
    "\n",
    "with tarfile.open('data.json.tgz') as tar:\n",
    "    file = tar.extractfile('data.json')\n",
    "    data = file.read().decode('utf8')"
   ]
  },
  {
   "cell_type": "code",
   "execution_count": 2,
   "metadata": {},
   "outputs": [
    {
     "data": {
      "text/plain": [
       "'{\"0\": {\"text\": \"in my review of \\\\\" the spy who shagged me , \\\\\" i postulated an unbreakable law of film physics : every time a sequel is as good as or better than the previous film in the series , it is followed by a third movie that is a bore . \\\\nthe cause is probably complacency ; a studio sighs with relief when part 2 lives up to expectations and figures part 3 is a sure thing . \\\\n \\\\\" scream 3 \\\\\" provides the latest proof of this rule . \\\\nin los angeles production has begun on \\\\\" stab 3 : retu'"
      ]
     },
     "execution_count": 2,
     "metadata": {},
     "output_type": "execute_result"
    }
   ],
   "source": [
    "data[:500]"
   ]
  },
  {
   "cell_type": "code",
   "execution_count": 3,
   "metadata": {},
   "outputs": [],
   "source": [
    "class Record(object):\n",
    "    def __init__(self, id, text, cornell, vader=None, my=None):\n",
    "        self.id = id\n",
    "        self.text = text\n",
    "        self.cornell = cornell\n",
    "        self.vader = vader\n",
    "        self.my = my\n",
    "        \n",
    "    def __repr__(self):\n",
    "        return 'Record(id={self.id!r}, text={self.text!r}), cornell={self.cornell!r}, vader={self.vader!r}, my={self.my!r})'.format(self=self)\n",
    "        \n",
    "\n",
    "def parse(data):\n",
    "    data = json.loads(data)\n",
    "    for id in data:\n",
    "        item = data[id]\n",
    "        yield Record(\n",
    "            id=id,\n",
    "            text=item['text'],\n",
    "            cornell=item['sent'],\n",
    "        )\n",
    "        \n",
    "        \n",
    "records = list(parse(data))"
   ]
  },
  {
   "cell_type": "code",
   "execution_count": 4,
   "metadata": {},
   "outputs": [
    {
     "data": {
      "text/plain": [
       "Record(id='285', text=' \" the blair witch project \" was perhaps one of a kind , a unique film that played completely on its own merit , managing to scare even the most experienced horror fans out of their senses . \\nits success made a sequel inevitable , but this is not the sequel , i suspect , anyone much wanted . \\nafter the release of \" the blair witch project \" , tourists have practically invaded the small town of burkettsville , in order to get a glimpse of the blair witch . \\nlocals have turned this mass hysteria into a great business opportunity , selling twig-sculptures , stones and dirt like those in the movie , and the exasperated local sheriff patrols the woods with a bullhorn , shouting , \" get out of these woods and go home ! \\nthere is no goddamned blair witch ! \" . \\njeff ( ) is one of those people , who has used the sudden popularity of the small town to his advantage . \\nafter he got released from the mental institution , he created a mobile business that attracts thousands of customers through the internet . \\nas the movie starts he is leading one of these groups into the woods , on the \" blair witch hunt \" . \\namong the five strangers is stephen and his girlfriend , the pregnant tristen , who are writing a book on the hysteria caused by the film called \" the blair witch : history or hysteria ? \" , and kim , who dresses in black and has some psychic powers . \\nthe last member of the crew is erica , a young beautiful witch-wannabe , who constantly quotes from the wiccan lore , saying \" the first rule of wicca is , do no harm , because whatever you do will come back to you threefold . \" \\nthis strange group plunges into the woods , where they begin to argue about their different approaches to the experience . \\non the very first night that they decide to spend under the stars amidst the ruins of parr\\'s abandoned house , strange things start happening . \\nwhen they wake up their equipment is gone and only the tapes remain . \\nafter a while they discover strange markings on their bodies . \\nthey are somehow lost in time , as it loops uncontrollably back and forth . \\nthey are all haunted by hallucinations and horrible nightmares and soon they can not see the difference between dreams and reality . \\nthe only thing that they are sure of is that they have brought something or someone with them from the woods . . \\ndocumentary director joe berlinger ( \" paradice lost \" ) helms \" blair witch 2 \" , leaving the creators of the first film ( dan myrick and ed sanches ) in the background . \\nthe opening scenes--the documentary showing the townspeople affected by the first film-- is a more promising approach , because instead of trying to cover similar ground , it goes outside the first film and makes its own stand . \\nbut soon the movie gets confused and sidetracked by its own story , that is never resolved and ends with a very anticlimaxic epilogue . \\nin a way , this is a typical hollywood sequel . \\nmore money has been spent and more people have worked on a project that was doomed to fail . \\nthe horror and suspense of the original simply could not be repeated . \\nof course in these situations , quantity is more important than quality and profit is more important than the artistical values . \\nfrom its opening scenes when the camera gracefully panes over the bloody-red forest , with carter burwell\\'s ( \" being john malkovich \" and \" fargo \" ) musical score in the background , you realize that with the exception of its title , this film has absolutely nothing to do with \" the blair witch project \" . \\n \" blair witch . . \" \\nwas filmed by handheld videocameras and nfeatured acting that was mostly based on improvisation . \\nin the sequel the technical aspect of the film is close to perfection , creating a completely different atmosphere . \\nwith its graceful cinematography , production design and flashy editing , the film has a very polished look , which is impossible to associate with the first installment . \\nand though berlinger directs his film with an energy and pace that makes the adrenaline rush through the body a couple of times , he has obviously misunderstood the nature of his predecessor . \\nthe key is simplicity . \\n \" blair witch project \" had a story which was incredibly simple . \\nthat allowed the audience to fill the gaps with our own imagination . \\nthe film was practically an empty screen , on which we projected our most frightening nightmares . \\nthe effect was incredibly powerful , lasting and entir e everyone , but in a different way . \\n \" book of shadows \" feels incredibly controlled and restrict . \\nhere , very little is left to our imagination and the story is so complex and \" clever \" that the screenwriters are the first to get lost in it . \\nthere is is no book of shadows and no conclusion that we can be satisfied with . \\nthis is simply a less artistic film that doesn\\'t have the talent and originality of its predecessor . \\nit resorts to fancy cinematography and special effects to create the right effect and doesn\\'t always succeed . \\nbut most importantly : it stands on its own ground and has almost no connection with the first movie , which doesn\\'t allow it to destroy the original . \\nin the end , i can\\'t call it a bad effort . \\nit\\'s less artistic , not so scary and less original , but certainly not bad . \\nit\\'s simply different . \\nin fact , if you haven\\'t seen \" the blair witch project \" , you might like this film for what it is -- a cross between \" the blair witch project \" and the \" scream \" -films . \\nthe only element that remains constant and similar between the two films is the solid acting ( jeffrey donovan and tristine skyler should be mentioned ) and incredible sense of surrealism . \\nbut it\\'s a common knowledge and experience that , with a few exceptions , every movie sequel is worse than the original and some are even not worth making . \\nto me the story of \" the blair witch project \" seemed completed , but there are obviously no limits to commercial success that \" the book of shadows \" is certainly assured . \\nand it\\'s already time to look forward to \" blair witch 3 \" . \\n'), cornell='pos', vader=None, my=None)"
      ]
     },
     "execution_count": 4,
     "metadata": {},
     "output_type": "execute_result"
    }
   ],
   "source": [
    "records[0]"
   ]
  },
  {
   "cell_type": "code",
   "execution_count": 5,
   "metadata": {},
   "outputs": [
    {
     "data": {
      "text/plain": [
       "2000"
      ]
     },
     "execution_count": 5,
     "metadata": {},
     "output_type": "execute_result"
    }
   ],
   "source": [
    "len(records)"
   ]
  },
  {
   "cell_type": "code",
   "execution_count": 6,
   "metadata": {},
   "outputs": [
    {
     "name": "stdout",
     "output_type": "stream",
     "text": [
      "[nltk_data] Downloading package vader_lexicon to\n",
      "[nltk_data]     /Users/alexkuk/nltk_data...\n",
      "[nltk_data]   Package vader_lexicon is already up-to-date!\n"
     ]
    },
    {
     "data": {
      "text/plain": [
       "True"
      ]
     },
     "execution_count": 6,
     "metadata": {},
     "output_type": "execute_result"
    }
   ],
   "source": [
    "import nltk\n",
    "nltk.download('vader_lexicon')"
   ]
  },
  {
   "cell_type": "code",
   "execution_count": 7,
   "metadata": {},
   "outputs": [
    {
     "name": "stderr",
     "output_type": "stream",
     "text": [
      "/Users/alexkuk/envs/mypy3/lib/python3.5/site-packages/nltk/twitter/__init__.py:20: UserWarning: The twython library has not been installed. Some functionality from the twitter package will not be available.\n",
      "  warnings.warn(\"The twython library has not been installed. \"\n"
     ]
    },
    {
     "data": {
      "application/vnd.jupyter.widget-view+json": {
       "model_id": "6051a852fc83443c833edab67bf01837",
       "version_major": 2,
       "version_minor": 0
      },
      "text/html": [
       "<p>Failed to display Jupyter Widget of type <code>HBox</code>.</p>\n",
       "<p>\n",
       "  If you're reading this message in the Jupyter Notebook or JupyterLab Notebook, it may mean\n",
       "  that the widgets JavaScript is still loading. If this message persists, it\n",
       "  likely means that the widgets JavaScript library is either not installed or\n",
       "  not enabled. See the <a href=\"https://ipywidgets.readthedocs.io/en/stable/user_install.html\">Jupyter\n",
       "  Widgets Documentation</a> for setup instructions.\n",
       "</p>\n",
       "<p>\n",
       "  If you're reading this message in another frontend (for example, a static\n",
       "  rendering on GitHub or <a href=\"https://nbviewer.jupyter.org/\">NBViewer</a>),\n",
       "  it may mean that your frontend doesn't currently support widgets.\n",
       "</p>\n"
      ],
      "text/plain": [
       "HBox(children=(IntProgress(value=0, max=2000), HTML(value='')))"
      ]
     },
     "metadata": {},
     "output_type": "display_data"
    },
    {
     "name": "stdout",
     "output_type": "stream",
     "text": [
      "\n"
     ]
    }
   ],
   "source": [
    "from tqdm import tqdm_notebook as log_progress\n",
    "\n",
    "from nltk.sentiment.vader import SentimentIntensityAnalyzer\n",
    "vader = SentimentIntensityAnalyzer()\n",
    "\n",
    "\n",
    "for record in log_progress(records):\n",
    "    score = vader.polarity_scores(record.text)\n",
    "    # {'compound': 0.6156, 'neg': 0.074, 'pos': 0.085, 'neu': 0.842}\n",
    "    record.vader = score['compound']"
   ]
  },
  {
   "cell_type": "code",
   "execution_count": 8,
   "metadata": {},
   "outputs": [
    {
     "data": {
      "text/plain": [
       "Record(id='1243', text='this is the last carry on film with its almost intact regular cast and it is the swansong of hattie jacques and sid james . \\ndick turpin ( sid james ) and his gang which includes harriett/harry ( barbara windsor ) and tom \" doc \" scholl ( peter butterworth ) , terrorise the countryside by staging highway robberies : \" stand and deliver ! \" \\nowing to the increased occurrence of turpin\\'s robberies , captain desmond fancey of the bow street runners ( kenneth williams ) and his sidekick sergeant jock strapp ( jack douglas ) visit turpin\\'s area of influence to bring him to justice . \\nthey are under the express orders of sir roger daley ( bernard bresslaw ) . \\ntheir intellect does not count for much and when they increasingly become suspicious of reverend flasher aka dick turpin ( sid james ) , whom they confided in earlier , they still cannot believe that the rector has any part in these robberies . \\nhowever , once they catch harriett and put her in jail , and sir roger daley takes complete charge , it seems that there is no hope for dick turpin . \\nthen again , sir roger has assigned the dimwits fancey and jock strapp aswell as the old dithering constable ( kenneth connor ) to keep an eye on their prisoner ! \\nthere is no doubt that this is a \\'sid james\\' carry on movie . \\nhe excels in double roles ( as in \\'carry on- don\\'t lose your head\\' ) and his performance as flasher and turpin is hilarious . \\nbarbara windsor is also funny as harriett the sex mad housemaid and member of the gang , and hattie jacques\\' small but effective role as the rector\\'s housekeeper martha hoggett is played to perfection . \\njack douglas plays a milder version of his excruciatingly annoying on-screen persona and kenneth williams is given a rather mundane part . \\npeter butterworth is not allowed to shine in his boring performance as tom , and bernard bresslaw\\'s character appears only briefly in the film . \\nthe only notable performance from the support cast comes from joan sims as madame desiree , who is travelling around the country escorting her starlets the \\'birds of paradise\\' and sporting a fake french accent . \\nwhen her girls and her are robbed by turpin , she is determined to catch him and helps the reverend to find the culprit ! \\na carry on by the numbers , this movie is only notable for the great performance by sid james in his last carry on movie . \\nthe jokes are bluer , the script is poorer ( it is the last script written by talbot rothwell ) , but the music is a marked improvement . \\nalthough nearly all the regulars appear , they seem to be just going through the motions . \\nnone of the high spirits of the earlier films are apparent here . \\njust a selection of crude jokes and repititive double-entendres . \\n'), cornell='neg', vader=0.9532, my=None)"
      ]
     },
     "execution_count": 8,
     "metadata": {},
     "output_type": "execute_result"
    }
   ],
   "source": [
    "records[1]"
   ]
  },
  {
   "cell_type": "markdown",
   "metadata": {},
   "source": [
    "We will write a simple display formatter to make our output look nice"
   ]
  },
  {
   "cell_type": "code",
   "execution_count": 14,
   "metadata": {},
   "outputs": [
    {
     "data": {
      "text/html": [
       "cornell: <span style=\"color:green;\">pos</span>"
      ],
      "text/plain": [
       "<IPython.core.display.HTML object>"
      ]
     },
     "metadata": {},
     "output_type": "display_data"
    },
    {
     "data": {
      "text/html": [
       "vader: <span style=\"color:red;\">-0.9925</span>"
      ],
      "text/plain": [
       "<IPython.core.display.HTML object>"
      ]
     },
     "metadata": {},
     "output_type": "display_data"
    },
    {
     "name": "stdout",
     "output_type": "stream",
     "text": [
      " \" the blair witch project \" was perhaps one of a kind , a unique film that played completely on its own merit , managing to scare even the most experienced horror fans out of their senses . \n",
      "its success made a sequel inevitable , but this is not the sequel , i suspect , anyone much wanted . \n",
      "after the release of \" the blair witch project \" , tourists have practically invaded the small town of burkettsville , in order to get a glimpse of the blair witch . \n",
      "locals have turned this mass hysteria into a great business opportunity , selling twig-sculptures , stones and dirt like those in the movie , and the exasperated local sheriff patrols the woods with a bullhorn , shouting , \" get out of these woods and go home ! \n",
      "there is no goddamned blair witch ! \" . \n",
      "jeff ( ) is one of those people , who has used the sudden popularity of the small town to his advantage . \n",
      "after he got released from the mental institution , he created a mobile business that attracts thousands of customers through the internet . \n",
      "as the movie starts he is leading one of these groups into the woods , on the \" blair witch hunt \" . \n",
      "among the five strangers is stephen and his girlfriend , the pregnant tristen , who are writing a book on the hysteria caused by the film called \" the blair witch : history or hysteria ? \" , and kim , who dresses in black and has some psychic powers . \n",
      "the last member of the crew is erica , a young beautiful witch-wannabe , who constantly quotes from the wiccan lore , saying \" the first rule of wicca is , do no harm , because whatever you do will come back to you threefold . \" \n",
      "this strange group plunges into the woods , where they begin to argue about their different approaches to the experience . \n",
      "on the very first night that they decide to spend under the stars amidst the ruins of parr's abandoned house , strange things start happening . \n",
      "when they wake up their equipment is gone and only the tapes remain . \n",
      "after a while they discover strange markings on their bodies . \n",
      "they are somehow lost in time , as it loops uncontrollably back and forth . \n",
      "they are all haunted by hallucinations and horrible nightmares and soon they can not see the difference between dreams and reality . \n",
      "the only thing that they are sure of is that they have brought something or someone with them from the woods . . \n",
      "documentary director joe berlinger ( \" paradice lost \" ) helms \" blair witch 2 \" , leaving the creators of the first film ( dan myrick and ed sanches ) in the background . \n",
      "the opening scenes--the documentary showing the townspeople affected by the first film-- is a more promising approach , because instead of trying to cover similar ground , it goes outside the first film and makes its own stand . \n",
      "but soon the movie gets confused and sidetracked by its own story , that is never resolved and ends with a very anticlimaxic epilogue . \n",
      "in a way , this is a typical hollywood sequel . \n",
      "more money has been spent and more people have worked on a project that was doomed to fail . \n",
      "the horror and suspense of the original simply could not be repeated . \n",
      "of course in these situations , quantity is more important than quality and profit is more important than the artistical values . \n",
      "from its opening scenes when the camera gracefully panes over the bloody-red forest , with carter burwell's ( \" being john malkovich \" and \" fargo \" ) musical score in the background , you realize that with the exception of its title , this film has absolutely nothing to do with \" the blair witch project \" . \n",
      " \" blair witch . . \" \n",
      "was filmed by handheld videocameras and nfeatured acting that was mostly based on improvisation . \n",
      "in the sequel the technical aspect of the film is close to perfection , creating a completely different atmosphere . \n",
      "with its graceful cinematography , production design and flashy editing , the film has a very polished look , which is impossible to associate with the first installment . \n",
      "and though berlinger directs his film with an energy and pace that makes the adrenaline rush through the body a couple of times , he has obviously misunderstood the nature of his predecessor . \n",
      "the key is simplicity . \n",
      " \" blair witch project \" had a story which was incredibly simple . \n",
      "that allowed the audience to fill the gaps with our own imagination . \n",
      "the film was practically an empty screen , on which we projected our most frightening nightmares . \n",
      "the effect was incredibly powerful , lasting and entir e everyone , but in a different way . \n",
      " \" book of shadows \" feels incredibly controlled and restrict . \n",
      "here , very little is left to our imagination and the story is so complex and \" clever \" that the screenwriters are the first to get lost in it . \n",
      "there is is no book of shadows and no conclusion that we can be satisfied with . \n",
      "this is simply a less artistic film that doesn't have the talent and originality of its predecessor . \n",
      "it resorts to fancy cinematography and special effects to create the right effect and doesn't always succeed . \n",
      "but most importantly : it stands on its own ground and has almost no connection with the first movie , which doesn't allow it to destroy the original . \n",
      "in the end , i can't call it a bad effort . \n",
      "it's less artistic , not so scary and less original , but certainly not bad . \n",
      "it's simply different . \n",
      "in fact , if you haven't seen \" the blair witch project \" , you might like this film for what it is -- a cross between \" the blair witch project \" and the \" scream \" -films . \n",
      "the only element that remains constant and similar between the two films is the solid acting ( jeffrey donovan and tristine skyler should be mentioned ) and incredible sense of surrealism . \n",
      "but it's a common knowledge and experience that , with a few exceptions , every movie sequel is worse than the original and some are even not worth making . \n",
      "to me the story of \" the blair witch project \" seemed completed , but there are obviously no limits to commercial success that \" the book of shadows \" is certainly assured . \n",
      "and it's already time to look forward to \" blair witch 3 \" . \n",
      "\n"
     ]
    }
   ],
   "source": [
    "from IPython.display import display, HTML\n",
    "\n",
    "\n",
    "RED = 'red'\n",
    "GREEN = 'green'\n",
    "\n",
    "\n",
    "def format_color(value, color):\n",
    "    return '<span style=\"color:{color};\">{value}</span>'.format(\n",
    "        color=color,\n",
    "        value=value\n",
    "    )\n",
    "\n",
    "\n",
    "def display_record(record):\n",
    "    value = record.cornell\n",
    "    if value == 'neg':\n",
    "        color = RED\n",
    "    elif value == 'pos':\n",
    "        color = GREEN\n",
    "    else:\n",
    "        raise ValueError(value)\n",
    "    display(HTML('cornell: ' + format_color(value, color)))\n",
    "    \n",
    "    value = record.vader\n",
    "    color = RED if value < 0 else GREEN\n",
    "    display(HTML('vader: ' + format_color(value, color)))\n",
    "\n",
    "    value = record.my\n",
    "    if value is not None:\n",
    "        color = RED if value < 0 else GREEN\n",
    "        display(HTML('my: ' + format_color(value, color)))\n",
    "    \n",
    "    print(record.text)\n",
    "\n",
    "    \n",
    "display_record(records[0])"
   ]
  },
  {
   "cell_type": "markdown",
   "metadata": {},
   "source": [
    "## Assemble our annotator\n",
    "Now we can assemble our checker using `ipyannotate`. For this task, we will show the user the model-evaluated sentiment, and let them override it with `+1`, `0` and `-1` buttons, which will modify the annotation tasks."
   ]
  },
  {
   "cell_type": "code",
   "execution_count": 15,
   "metadata": {
    "scrolled": false
   },
   "outputs": [
    {
     "data": {
      "application/vnd.jupyter.widget-view+json": {
       "model_id": "7041976cb0674ffbb497b780eceff920",
       "version_major": 2,
       "version_minor": 0
      },
      "text/html": [
       "<p>Failed to display Jupyter Widget of type <code>Annotation</code>.</p>\n",
       "<p>\n",
       "  If you're reading this message in the Jupyter Notebook or JupyterLab Notebook, it may mean\n",
       "  that the widgets JavaScript is still loading. If this message persists, it\n",
       "  likely means that the widgets JavaScript library is either not installed or\n",
       "  not enabled. See the <a href=\"https://ipywidgets.readthedocs.io/en/stable/user_install.html\">Jupyter\n",
       "  Widgets Documentation</a> for setup instructions.\n",
       "</p>\n",
       "<p>\n",
       "  If you're reading this message in another frontend (for example, a static\n",
       "  rendering on GitHub or <a href=\"https://nbviewer.jupyter.org/\">NBViewer</a>),\n",
       "  it may mean that your frontend doesn't currently support widgets.\n",
       "</p>\n"
      ],
      "text/plain": [
       "Annotation(canvas=OutputCanvas(), progress=Progress(atoms=[<ipyannotate.progress.Atom object at 0x1079a1f28>, <ipyannotate.progress.Atom object at 0x1079a1fd0>, <ipyannotate.progress.Atom object at 0x1079a1ef0>, <ipyannotate.progress.Atom object at 0x1079a1da0>, <ipyannotate.progress.Atom object at 0x1079a1e48>, <ipyannotate.progress.Atom object at 0x1079ad048>, <ipyannotate.progress.Atom object at 0x1079ad080>, <ipyannotate.progress.Atom object at 0x1079ad0b8>, <ipyannotate.progress.Atom object at 0x1079ad0f0>, <ipyannotate.progress.Atom object at 0x1079ad128>, <ipyannotate.progress.Atom object at 0x1079ad160>, <ipyannotate.progress.Atom object at 0x1079ad198>, <ipyannotate.progress.Atom object at 0x1079ad1d0>, <ipyannotate.progress.Atom object at 0x1079ad208>, <ipyannotate.progress.Atom object at 0x1079ad240>, <ipyannotate.progress.Atom object at 0x1079ad278>, <ipyannotate.progress.Atom object at 0x1079ad2b0>, <ipyannotate.progress.Atom object at 0x1079ad2e8>, <ipyannotate.progress.Atom object at 0x1079ad320>, <ipyannotate.progress.Atom object at 0x1079ad358>, <ipyannotate.progress.Atom object at 0x1079ad390>, <ipyannotate.progress.Atom object at 0x1079ad3c8>, <ipyannotate.progress.Atom object at 0x1079ad400>, <ipyannotate.progress.Atom object at 0x1079ad438>, <ipyannotate.progress.Atom object at 0x1079ad470>, <ipyannotate.progress.Atom object at 0x1079ad4a8>, <ipyannotate.progress.Atom object at 0x1079ad4e0>, <ipyannotate.progress.Atom object at 0x1079ad518>, <ipyannotate.progress.Atom object at 0x1079ad550>, <ipyannotate.progress.Atom object at 0x1079ad588>, <ipyannotate.progress.Atom object at 0x1079ad5c0>, <ipyannotate.progress.Atom object at 0x1079ad5f8>, <ipyannotate.progress.Atom object at 0x1079ad630>, <ipyannotate.progress.Atom object at 0x1079ad668>, <ipyannotate.progress.Atom object at 0x1079ad6a0>, <ipyannotate.progress.Atom object at 0x1079ad6d8>, <ipyannotate.progress.Atom object at 0x1079ad710>, <ipyannotate.progress.Atom object at 0x1079ad748>, <ipyannotate.progress.Atom object at 0x1079ad780>, <ipyannotate.progress.Atom object at 0x1079ad7b8>, <ipyannotate.progress.Atom object at 0x1079ad7f0>, <ipyannotate.progress.Atom object at 0x1079ad828>, <ipyannotate.progress.Atom object at 0x1079ad860>, <ipyannotate.progress.Atom object at 0x1079ad898>, <ipyannotate.progress.Atom object at 0x1079ad8d0>, <ipyannotate.progress.Atom object at 0x1079ad908>, <ipyannotate.progress.Atom object at 0x1079ad940>, <ipyannotate.progress.Atom object at 0x1079ad978>, <ipyannotate.progress.Atom object at 0x1079ad9b0>, <ipyannotate.progress.Atom object at 0x1079ad9e8>, <ipyannotate.progress.Atom object at 0x1079ada20>, <ipyannotate.progress.Atom object at 0x1079ada58>, <ipyannotate.progress.Atom object at 0x1079ada90>, <ipyannotate.progress.Atom object at 0x1079adac8>, <ipyannotate.progress.Atom object at 0x1079adb00>, <ipyannotate.progress.Atom object at 0x1079adb38>, <ipyannotate.progress.Atom object at 0x1079adb70>, <ipyannotate.progress.Atom object at 0x1079adba8>, <ipyannotate.progress.Atom object at 0x1079adbe0>, <ipyannotate.progress.Atom object at 0x1079adc18>, <ipyannotate.progress.Atom object at 0x1079adc50>, <ipyannotate.progress.Atom object at 0x1079adc88>, <ipyannotate.progress.Atom object at 0x1079adcc0>, <ipyannotate.progress.Atom object at 0x1079adcf8>, <ipyannotate.progress.Atom object at 0x1079add30>, <ipyannotate.progress.Atom object at 0x1079add68>, <ipyannotate.progress.Atom object at 0x1079adda0>, <ipyannotate.progress.Atom object at 0x1079addd8>, <ipyannotate.progress.Atom object at 0x1079ade10>, <ipyannotate.progress.Atom object at 0x1079ade48>, <ipyannotate.progress.Atom object at 0x1079ade80>, <ipyannotate.progress.Atom object at 0x1079adeb8>, <ipyannotate.progress.Atom object at 0x1079adef0>, <ipyannotate.progress.Atom object at 0x1079adf28>, <ipyannotate.progress.Atom object at 0x1079adf60>, <ipyannotate.progress.Atom object at 0x1079adf98>, <ipyannotate.progress.Atom object at 0x1079adfd0>, <ipyannotate.progress.Atom object at 0x1079a6048>, <ipyannotate.progress.Atom object at 0x1079a6080>, <ipyannotate.progress.Atom object at 0x1079a60b8>, <ipyannotate.progress.Atom object at 0x1079a60f0>, <ipyannotate.progress.Atom object at 0x1079a6128>, <ipyannotate.progress.Atom object at 0x1079a6160>, <ipyannotate.progress.Atom object at 0x1079a6198>, <ipyannotate.progress.Atom object at 0x1079a61d0>, <ipyannotate.progress.Atom object at 0x1079a6208>, <ipyannotate.progress.Atom object at 0x1079a6240>, <ipyannotate.progress.Atom object at 0x1079a6278>, <ipyannotate.progress.Atom object at 0x1079a62b0>, <ipyannotate.progress.Atom object at 0x1079a62e8>, <ipyannotate.progress.Atom object at 0x1079a6320>, <ipyannotate.progress.Atom object at 0x1079a6358>, <ipyannotate.progress.Atom object at 0x1079a6390>, <ipyannotate.progress.Atom object at 0x1079a63c8>, <ipyannotate.progress.Atom object at 0x1079a6400>, <ipyannotate.progress.Atom object at 0x1079a6438>, <ipyannotate.progress.Atom object at 0x1079a6470>, <ipyannotate.progress.Atom object at 0x1079a64a8>, <ipyannotate.progress.Atom object at 0x1079a64e0>, <ipyannotate.progress.Atom object at 0x1079a6518>]), toolbar=Toolbar(buttons=[ValueButton(color='green', icon=None, label='1', shortcut='1'), ValueButton(color='gray', icon=None, label='0', shortcut='2'), ValueButton(color='red', icon=None, label='-1', shortcut='3'), BackButton(color='gray', icon='← ', label='back', shortcut='j'), NextButton(color='gray', icon='→ ', label='next', shortcut='k')]))"
      ]
     },
     "metadata": {},
     "output_type": "display_data"
    }
   ],
   "source": [
    "from ipyannotate.buttons import ValueButton as Button, NextButton, BackButton\n",
    "from ipyannotate.toolbar import Toolbar\n",
    "from ipyannotate.tasks import Task, Tasks\n",
    "from ipyannotate.canvas import OutputCanvas\n",
    "from ipyannotate.annotation import Annotation\n",
    "\n",
    "\n",
    "def callback(button):\n",
    "    annotation.tasks.current.output.my = button.value\n",
    "\n",
    "\n",
    "tasks = Tasks(Task(_) for _ in records[:100])\n",
    "\n",
    "pos = Button(1, shortcut='1', color='green')\n",
    "neu = Button(0, shortcut='2', color='gray')\n",
    "neg = Button(-1, shortcut='3', color='red')\n",
    "\n",
    "for button in [pos, neu, neg]:\n",
    "    button.on_click(callback)\n",
    "\n",
    "buttons = [pos, neu, neg, BackButton(shortcut='j'), NextButton(shortcut='k')]\n",
    "toolbar = Toolbar(buttons)\n",
    "\n",
    "canvas = OutputCanvas(display=display_record)\n",
    "\n",
    "annotation = Annotation(toolbar, tasks, canvas=canvas)\n",
    "annotation"
   ]
  },
  {
   "cell_type": "markdown",
   "metadata": {},
   "source": [
    "# annotation.tasks"
   ]
  },
  {
   "cell_type": "code",
   "execution_count": 16,
   "metadata": {},
   "outputs": [
    {
     "data": {
      "text/plain": [
       "[Task(output=Record(id='285', text=' \" the blair witch project \" was perhaps one of a kind , ..., value=1),\n",
       " Task(output=Record(id='1243', text='this is the last carry on film with its almost intact re..., value=0),\n",
       " Task(output=Record(id='551', text=\"you've got mail works alot better than it deserves to . \\..., value=1),\n",
       " Task(output=Record(id='915', text='a slight romantic comedy with a feminist bent , but one w..., value=0),\n",
       " Task(output=Record(id='1870', text='scream 2 has a titillating little scene that lays down t..., value=1),\n",
       " Task(output=Record(id='510', text='quiz show , an almost perfectly accurate true story , is ..., value=0),\n",
       " Task(output=Record(id='109', text='i must admit i\\'m going to be a bit biased in my review o..., value=None),\n",
       " Task(output=Record(id='1375', text=\"ahh yes . \\nthe teenage romance . \\nan attractive young ..., value=None),\n",
       " Task(output=Record(id='541', text=\"let me start off by saying that leading up to the release..., value=None),\n",
       " Task(output=Record(id='726', text='sylvester stallone has made some crap films in his lifeti..., value=None)]"
      ]
     },
     "execution_count": 16,
     "metadata": {},
     "output_type": "execute_result"
    }
   ],
   "source": [
    "annotation.tasks[:10]"
   ]
  },
  {
   "cell_type": "code",
   "execution_count": null,
   "metadata": {},
   "outputs": [],
   "source": []
  }
 ],
 "metadata": {
  "kernelspec": {
   "display_name": "Python 3",
   "language": "python",
   "name": "python3"
  },
  "language_info": {
   "codemirror_mode": {
    "name": "ipython",
    "version": 3
   },
   "file_extension": ".py",
   "mimetype": "text/x-python",
   "name": "python",
   "nbconvert_exporter": "python",
   "pygments_lexer": "ipython3",
   "version": "3.5.1"
  }
 },
 "nbformat": 4,
 "nbformat_minor": 2
}
