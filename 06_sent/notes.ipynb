{
 "cells": [
  {
   "cell_type": "markdown",
   "metadata": {},
   "source": [
    "# Sentiment analysis\n",
    "<img src=\"./screencast.gif\"/>"
   ]
  },
  {
   "cell_type": "markdown",
   "metadata": {},
   "source": [
    "In this sample, we will build a sentiment annotator for the [Movie Review](http://www.cs.cornell.edu/people/pabo/movie-review-data/) dataset from Cornell."
   ]
  },
  {
   "cell_type": "code",
   "execution_count": 1,
   "metadata": {},
   "outputs": [],
   "source": [
    "import json\n",
    "import tarfile\n",
    "\n",
    "with tarfile.open('data.json.tgz') as tar:\n",
    "    file = tar.extractfile('data.json')\n",
    "    data = file.read().decode('utf8')"
   ]
  },
  {
   "cell_type": "code",
   "execution_count": 2,
   "metadata": {},
   "outputs": [
    {
     "data": {
      "text/plain": [
       "'{\"0\": {\"text\": \"in my review of \\\\\" the spy who shagged me , \\\\\" i postulated an unbreakable law of film physics : every time a sequel is as good as or better than the previous film in the series , it is followed by a third movie that is a bore . \\\\nthe cause is probably complacency ; a studio sighs with relief when part 2 lives up to expectations and figures part 3 is a sure thing . \\\\n \\\\\" scream 3 \\\\\" provides the latest proof of this rule . \\\\nin los angeles production has begun on \\\\\" stab 3 : retu'"
      ]
     },
     "execution_count": 2,
     "metadata": {},
     "output_type": "execute_result"
    }
   ],
   "source": [
    "data[:500]"
   ]
  },
  {
   "cell_type": "code",
   "execution_count": 3,
   "metadata": {},
   "outputs": [],
   "source": [
    "from textwrap import wrap\n",
    "\n",
    "\n",
    "class Record(object):\n",
    "    def __init__(self, id, text, cornell, vader=None, my=None):\n",
    "        self.id = id\n",
    "        self.text = text\n",
    "        self.cornell = cornell\n",
    "        self.vader = vader\n",
    "        self.my = my\n",
    "        \n",
    "    def _repr_pretty_(self, printer, cycle):\n",
    "        printer.text('id=%r' % self.id)\n",
    "        printer.break_()\n",
    "        printer.text('cornel=%r' % self.cornell)\n",
    "        printer.break_()\n",
    "        printer.text('vader=%r' % self.vader)\n",
    "        printer.break_()\n",
    "        printer.text('my=%r' % self.my)\n",
    "        printer.break_()\n",
    "        for line in wrap(self.text):\n",
    "            printer.text(line)\n",
    "            printer.break_()\n",
    "\n",
    "\n",
    "def parse(data):\n",
    "    data = json.loads(data)\n",
    "    for id in data:\n",
    "        item = data[id]\n",
    "        yield Record(\n",
    "            id=id,\n",
    "            text=item['text'],\n",
    "            cornell=item['sent'],\n",
    "        )\n",
    "        \n",
    "        \n",
    "records = list(parse(data))"
   ]
  },
  {
   "cell_type": "code",
   "execution_count": 4,
   "metadata": {},
   "outputs": [
    {
     "data": {
      "text/plain": [
       "id='242'\n",
       "cornel='neg'\n",
       "vader=None\n",
       "my=None\n",
       "arye cross and courteney cox star as a pair of bostonians who meet in\n",
       "a bar , go to the movies , fall in love , move in together , etc .\n",
       "review ======  well , if you haven't seen when harry met sally or he\n",
       "said , she said , or if you don't watch love & war on television , you\n",
       "might think this is the most inventive film to come along in ages .\n",
       "however , if you've seen any of these , than you have seen most of\n",
       "this film .  this of course doesn't mean its bad .  some of it is\n",
       "amusing , but overall , i just had to ask what's the point ?  arye\n",
       "cross is the stereotypical single male who falls in love .  kevin\n",
       "pollack is the stereotypical female-fearing best friend who make a lot\n",
       "of rather sexist and vulgar jokes , most if which weren't very funny .\n",
       "couteney cox is the stereotypical career-minded woman who falls in\n",
       "love .  julie brown is the stereotypical bizarre best friend of said\n",
       "woman .   ( notice the frequent use of the word stereotypical .  this\n",
       "film uses a lot of formula , the plot is basically known from the\n",
       "opening credits . )  so what is good about the movie ?  well as i said\n",
       "there are a few amusing moments .  surprisingly , julie brown , who i\n",
       "usually find just plain goofy , was the best thing in the film .  also\n",
       "there are several very funny sequences involving analysis of the human\n",
       "mating ritual .  gee , this is really short .  not much to say about\n",
       "the film really .  it is just kind of there .  watching it on video\n",
       "might not be a complete waste of time , but i wouldn't recommend\n",
       "hiring a baby sitter or spending a lot of money to see it at the\n",
       "theatre .\n"
      ]
     },
     "execution_count": 4,
     "metadata": {},
     "output_type": "execute_result"
    }
   ],
   "source": [
    "records[0]"
   ]
  },
  {
   "cell_type": "code",
   "execution_count": 5,
   "metadata": {},
   "outputs": [
    {
     "data": {
      "text/plain": [
       "2000"
      ]
     },
     "execution_count": 5,
     "metadata": {},
     "output_type": "execute_result"
    }
   ],
   "source": [
    "len(records)"
   ]
  },
  {
   "cell_type": "code",
   "execution_count": 6,
   "metadata": {},
   "outputs": [
    {
     "name": "stdout",
     "output_type": "stream",
     "text": [
      "[nltk_data] Downloading package vader_lexicon to\n",
      "[nltk_data]     /Users/alexkuk/nltk_data...\n",
      "[nltk_data]   Package vader_lexicon is already up-to-date!\n"
     ]
    },
    {
     "data": {
      "text/plain": [
       "True"
      ]
     },
     "execution_count": 6,
     "metadata": {},
     "output_type": "execute_result"
    }
   ],
   "source": [
    "import nltk\n",
    "nltk.download('vader_lexicon')"
   ]
  },
  {
   "cell_type": "code",
   "execution_count": 7,
   "metadata": {},
   "outputs": [
    {
     "name": "stderr",
     "output_type": "stream",
     "text": [
      "/Users/alexkuk/envs/mypy3/lib/python3.5/site-packages/nltk/twitter/__init__.py:20: UserWarning: The twython library has not been installed. Some functionality from the twitter package will not be available.\n",
      "  warnings.warn(\"The twython library has not been installed. \"\n"
     ]
    },
    {
     "data": {
      "application/vnd.jupyter.widget-view+json": {
       "model_id": "4095ef069c9d4ec6b263a562e64347b2",
       "version_major": 2,
       "version_minor": 0
      },
      "text/html": [
       "<p>Failed to display Jupyter Widget of type <code>HBox</code>.</p>\n",
       "<p>\n",
       "  If you're reading this message in the Jupyter Notebook or JupyterLab Notebook, it may mean\n",
       "  that the widgets JavaScript is still loading. If this message persists, it\n",
       "  likely means that the widgets JavaScript library is either not installed or\n",
       "  not enabled. See the <a href=\"https://ipywidgets.readthedocs.io/en/stable/user_install.html\">Jupyter\n",
       "  Widgets Documentation</a> for setup instructions.\n",
       "</p>\n",
       "<p>\n",
       "  If you're reading this message in another frontend (for example, a static\n",
       "  rendering on GitHub or <a href=\"https://nbviewer.jupyter.org/\">NBViewer</a>),\n",
       "  it may mean that your frontend doesn't currently support widgets.\n",
       "</p>\n"
      ],
      "text/plain": [
       "HBox(children=(IntProgress(value=0, max=2000), HTML(value='')))"
      ]
     },
     "metadata": {},
     "output_type": "display_data"
    },
    {
     "name": "stdout",
     "output_type": "stream",
     "text": [
      "\n"
     ]
    }
   ],
   "source": [
    "from tqdm import tqdm_notebook as log_progress\n",
    "\n",
    "from nltk.sentiment.vader import SentimentIntensityAnalyzer\n",
    "vader = SentimentIntensityAnalyzer()\n",
    "\n",
    "\n",
    "for record in log_progress(records):\n",
    "    score = vader.polarity_scores(record.text)\n",
    "    # {'compound': 0.6156, 'neg': 0.074, 'pos': 0.085, 'neu': 0.842}\n",
    "    record.vader = score['compound']"
   ]
  },
  {
   "cell_type": "code",
   "execution_count": 8,
   "metadata": {},
   "outputs": [
    {
     "data": {
      "text/plain": [
       "id='937'\n",
       "cornel='pos'\n",
       "vader=0.9996\n",
       "my=None\n",
       "it stands as a moment one will not soon forget : a giant , green ogre\n",
       "flips through the pages of a cliche fairy tale , narrating it with\n",
       "every bit of dull inspiration that the story holds .  this leads one\n",
       "to believe that this serves as the prologue to shrek , dreamworks'\n",
       "second computer animated feature , but in a pricelessly hilarious bit\n",
       "of cinema , a page of this tale serves as that ogre's toilet paper .\n",
       "from this opening moment , one can infer shrek's defying of all\n",
       "expectations regarding it as a standard , disney-esque fairy tale .\n",
       "although rampant moments of hilarity dot shrek , the true charm of the\n",
       "film lies in the bold elements of friendship , courage , and\n",
       "acceptance , excelled by outstanding direction , stunning actor voice\n",
       "work , and most importantly , a witty screenplay with more going on\n",
       "than meets the eye .  while shrek features an abundance of humor\n",
       "related directly toward adults , positive friendship values aimed at\n",
       "younger children fulfill the storyline : shrek , the previously\n",
       "mentioned ogre , holds a position of absolute nothingness within his\n",
       "community .  the jolly green giant meets a fellow outsider , known\n",
       "only as the donkey ( his species ) who talks , and although he remains\n",
       "reluctant to warm up to him for a good portion of time , shrek\n",
       "eventually comes to a mutual understanding with him by acknowledging\n",
       "their common state as outcasts of the world .  the pair team up to\n",
       "retrieve princess fiona from a castle guarded by a dragon for the\n",
       "powerful lord farquaad , learning quite a bit about each other and\n",
       "themselves along the way .  their friendship exhibits the core theme\n",
       "of the need for someone to lean on , exemplifying to any child who may\n",
       "witness the film that acting as an honest companion can unquestionably\n",
       "affect someone .  shrek and donkey endure as supposed freaks of nature\n",
       "due only to their differences from others but cling to each other for\n",
       "support and guidance along their journey .  courage demonstrates\n",
       "itself within two major storylines : along the journey to rescue fiona\n",
       ", donkey's immeasurable cowardice reveals itself .  whether he\n",
       "encounters walking over a shaky bridge or living alone , donkey\n",
       "withholds fears that he continuously puts aside without self-\n",
       "acknowledgment .  but the yapping donkey must face his phobias when\n",
       "presented with the giant , fire-breathing dragon guarding fiona ;\n",
       "either he dies from terror or he triumphs with courage .  he wisely\n",
       "chooses courage by pretending as if no dangerous situation actually\n",
       "faces him , allowing the donkey to overcome a horror that likely only\n",
       "continued due to his insistence of them .  secondly , upon shrek's and\n",
       "donkey's redeeming of princess fiona , the ogre finds the princess has\n",
       "plans for whomever saves her : to satisfy her desire for a ( human )\n",
       "knight in shining armor .  throughout this storyline , shrek faces his\n",
       "deep , perpetual misgivings of inhering as an ogre and struggles to\n",
       "determine how he will reveal his true identity to fiona .  an ongoing\n",
       "struggle occurs between himself and his reluctance of the truth , but\n",
       "eventually , shrek courageously conquers his fear by telling the\n",
       "forbidden secret to fiona .  children can realize from donkey and\n",
       "shrek that fear remains only as complicated as one makes it ; if one\n",
       "sets his/her mind to overcoming something in particular , endless\n",
       "possibilities exist .  after the friendships and courage prevail , the\n",
       "three central characters at the heart of shrek must take one more\n",
       "stretch of development : acceptance .  surprisingly , fiona holds a\n",
       "dark secret of her own : due to a spell cast upon her years ago , she\n",
       "transforms into an ogre by night .  in this storyline , fiona must\n",
       "learn to hold acceptance for herself , and she must realize what\n",
       "beauty truly means : to simply act as one's self .  upon fiona's\n",
       "learning of shrek's desire to pursue a relationship with her , fiona ,\n",
       "knowing that acceptance of herself serves as the only platform for her\n",
       "love with shrek to work , gives in to her inner demons of self-\n",
       "ridicule and hatred .  any child can pull from fiona's transformation\n",
       "the meaning of beauty and the meaning of self-acceptance .  on the\n",
       "technical side , shrek triumphs .  directors adam adamson and vicky\n",
       "jenson pace shrek in a consistent and satisfying manner , evenly\n",
       "distributing the lessons learned by the central characters .  these\n",
       "central characters spring to life thanks to brilliant voice work from\n",
       "mike myers ( shrek ) , eddie murphy ( donkey ) , and cameron diaz (\n",
       "princess fiona ) .  myers creates his shrek as a lovable and troubled\n",
       "ogre whose green color not only serves as a skin color but perhaps his\n",
       "envy of other , \" normal \" beings .  murphy succeeds with his donkey\n",
       "through recreating the high-strung persona that so many know the actor\n",
       "to have off screen .  cameron diaz exudes charisma and innocence as\n",
       "fiona , giving the princess/ogre a sense of power that many female\n",
       "characters in animated films lack .  while the direction and voice\n",
       "work certainly elevate shrek , the ultimate factor in the film\n",
       "succeeding lies in the screenplay , written by ted elliott , terry\n",
       "rossio , joe stillman , and roger s . h .  schulman .  the script\n",
       "never underestimates the intelligence of the viewer , combining the\n",
       "three previously spoken of elements with humor for adults and children\n",
       "alike .  capping it off with a constant tongue-in-cheek feel that\n",
       "pokes fun at classic disney animated features , the fresh and\n",
       "entertaining screenplay delivers .  with shrek , dreamworks executive\n",
       "jeffrey katzenberg has certainly one-upped himself by creating an\n",
       "instant animated classic that will live on for ages to come .  the\n",
       "smaller children will laugh and cheer ; the adults will laugh even\n",
       "harder and leave understanding much that their children did not .  a\n",
       "film that breaks stereotypes and creates a definite standard of its\n",
       "own , shrek can certainly endure as one for the ages .\n"
      ]
     },
     "execution_count": 8,
     "metadata": {},
     "output_type": "execute_result"
    }
   ],
   "source": [
    "records[1]"
   ]
  },
  {
   "cell_type": "markdown",
   "metadata": {},
   "source": [
    "We will write a simple display formatter to make our output look nice"
   ]
  },
  {
   "cell_type": "code",
   "execution_count": 9,
   "metadata": {},
   "outputs": [
    {
     "data": {
      "text/html": [
       "cornell: <span style=\"color:red;\">neg</span>"
      ],
      "text/plain": [
       "<IPython.core.display.HTML object>"
      ]
     },
     "metadata": {},
     "output_type": "display_data"
    },
    {
     "data": {
      "text/html": [
       "vader: <span style=\"color:green;\">0.9958</span>"
      ],
      "text/plain": [
       "<IPython.core.display.HTML object>"
      ]
     },
     "metadata": {},
     "output_type": "display_data"
    },
    {
     "name": "stdout",
     "output_type": "stream",
     "text": [
      "arye cross and courteney cox star as a pair of bostonians who meet in a bar , go to the movies , fall in love , move in together , etc . \n",
      "review ====== \n",
      "well , if you haven't seen when harry met sally or he said , she said , or if you don't watch love & war on television , you might think this is the most inventive film to come along in ages . \n",
      "however , if you've seen any of these , than you have seen most of this film . \n",
      "this of course doesn't mean its bad . \n",
      "some of it is amusing , but overall , i just had to ask what's the point ? \n",
      "arye cross is the stereotypical single male who falls in love . \n",
      "kevin pollack is the stereotypical female-fearing best friend who make a lot of rather sexist and vulgar jokes , most if which weren't very funny . \n",
      "couteney cox is the stereotypical career-minded woman who falls in love . \n",
      "julie brown is the stereotypical bizarre best friend of said woman . \n",
      " ( notice the frequent use of the word stereotypical . \n",
      "this film uses a lot of formula , the plot is basically known from the opening credits . ) \n",
      "so what is good about the movie ? \n",
      "well as i said there are a few amusing moments . \n",
      "surprisingly , julie brown , who i usually find just plain goofy , was the best thing in the film . \n",
      "also there are several very funny sequences involving analysis of the human mating ritual . \n",
      "gee , this is really short . \n",
      "not much to say about the film really . \n",
      "it is just kind of there . \n",
      "watching it on video might not be a complete waste of time , but i wouldn't recommend hiring a baby sitter or spending a lot of money to see it at the theatre . \n",
      "\n"
     ]
    }
   ],
   "source": [
    "from IPython.display import display, HTML\n",
    "\n",
    "\n",
    "RED = 'red'\n",
    "GREEN = 'green'\n",
    "\n",
    "\n",
    "def format_color(value, color):\n",
    "    return '<span style=\"color:{color};\">{value}</span>'.format(\n",
    "        color=color,\n",
    "        value=value\n",
    "    )\n",
    "\n",
    "\n",
    "def display_record(record):\n",
    "    value = record.cornell\n",
    "    if value == 'neg':\n",
    "        color = RED\n",
    "    elif value == 'pos':\n",
    "        color = GREEN\n",
    "    else:\n",
    "        raise ValueError(value)\n",
    "    display(HTML('cornell: ' + format_color(value, color)))\n",
    "    \n",
    "    value = record.vader\n",
    "    color = RED if value < 0 else GREEN\n",
    "    display(HTML('vader: ' + format_color(value, color)))\n",
    "\n",
    "    value = record.my\n",
    "    if value is not None:\n",
    "        color = RED if value < 0 else GREEN\n",
    "        display(HTML('my: ' + format_color(value, color)))\n",
    "    \n",
    "    print(record.text)\n",
    "\n",
    "    \n",
    "display_record(records[0])"
   ]
  },
  {
   "cell_type": "markdown",
   "metadata": {},
   "source": [
    "## Assemble our annotator\n",
    "Now we can assemble our checker using `ipyannotate`. For this task, we will show the user the model-evaluated sentiment, and let them override it with `+1`, `0` and `-1` buttons, which will modify the annotation tasks."
   ]
  },
  {
   "cell_type": "code",
   "execution_count": 10,
   "metadata": {
    "scrolled": false
   },
   "outputs": [
    {
     "data": {
      "application/vnd.jupyter.widget-view+json": {
       "model_id": "be0a74843b3a4429b2e35eecc38cab3a",
       "version_major": 2,
       "version_minor": 0
      },
      "text/html": [
       "<p>Failed to display Jupyter Widget of type <code>Annotation</code>.</p>\n",
       "<p>\n",
       "  If you're reading this message in the Jupyter Notebook or JupyterLab Notebook, it may mean\n",
       "  that the widgets JavaScript is still loading. If this message persists, it\n",
       "  likely means that the widgets JavaScript library is either not installed or\n",
       "  not enabled. See the <a href=\"https://ipywidgets.readthedocs.io/en/stable/user_install.html\">Jupyter\n",
       "  Widgets Documentation</a> for setup instructions.\n",
       "</p>\n",
       "<p>\n",
       "  If you're reading this message in another frontend (for example, a static\n",
       "  rendering on GitHub or <a href=\"https://nbviewer.jupyter.org/\">NBViewer</a>),\n",
       "  it may mean that your frontend doesn't currently support widgets.\n",
       "</p>\n"
      ],
      "text/plain": [
       "Annotation(canvas=OutputCanvas(), progress=Progress(atoms=[<ipyannotate.progress.Atom object at 0x1118d4048>, <ipyannotate.progress.Atom object at 0x1118d4cf8>, <ipyannotate.progress.Atom object at 0x1118d4588>, <ipyannotate.progress.Atom object at 0x1118d42b0>, <ipyannotate.progress.Atom object at 0x1118d41d0>, <ipyannotate.progress.Atom object at 0x1118d4828>, <ipyannotate.progress.Atom object at 0x1118d4780>, <ipyannotate.progress.Atom object at 0x1118d4ba8>, <ipyannotate.progress.Atom object at 0x1118d4a58>, <ipyannotate.progress.Atom object at 0x1119ae048>, <ipyannotate.progress.Atom object at 0x1119ae080>, <ipyannotate.progress.Atom object at 0x1119ae0b8>, <ipyannotate.progress.Atom object at 0x1119ae0f0>, <ipyannotate.progress.Atom object at 0x1119ae128>, <ipyannotate.progress.Atom object at 0x1119ae160>, <ipyannotate.progress.Atom object at 0x1119ae198>, <ipyannotate.progress.Atom object at 0x1119ae1d0>, <ipyannotate.progress.Atom object at 0x1119ae208>, <ipyannotate.progress.Atom object at 0x1119ae240>, <ipyannotate.progress.Atom object at 0x1119ae278>, <ipyannotate.progress.Atom object at 0x1119ae2b0>, <ipyannotate.progress.Atom object at 0x1119ae2e8>, <ipyannotate.progress.Atom object at 0x1119ae320>, <ipyannotate.progress.Atom object at 0x1119ae358>, <ipyannotate.progress.Atom object at 0x1119ae390>, <ipyannotate.progress.Atom object at 0x1119ae3c8>, <ipyannotate.progress.Atom object at 0x1119ae400>, <ipyannotate.progress.Atom object at 0x1119ae438>, <ipyannotate.progress.Atom object at 0x1119ae470>, <ipyannotate.progress.Atom object at 0x1119ae4a8>, <ipyannotate.progress.Atom object at 0x1119ae4e0>, <ipyannotate.progress.Atom object at 0x1119ae518>, <ipyannotate.progress.Atom object at 0x1119ae550>, <ipyannotate.progress.Atom object at 0x1119ae588>, <ipyannotate.progress.Atom object at 0x1119ae5c0>, <ipyannotate.progress.Atom object at 0x1119ae5f8>, <ipyannotate.progress.Atom object at 0x1119ae630>, <ipyannotate.progress.Atom object at 0x1119ae668>, <ipyannotate.progress.Atom object at 0x1119ae6a0>, <ipyannotate.progress.Atom object at 0x1119ae6d8>, <ipyannotate.progress.Atom object at 0x1119ae710>, <ipyannotate.progress.Atom object at 0x1119ae748>, <ipyannotate.progress.Atom object at 0x1119ae780>, <ipyannotate.progress.Atom object at 0x1119ae7b8>, <ipyannotate.progress.Atom object at 0x1119ae7f0>, <ipyannotate.progress.Atom object at 0x1119ae828>, <ipyannotate.progress.Atom object at 0x1119ae860>, <ipyannotate.progress.Atom object at 0x1119ae898>, <ipyannotate.progress.Atom object at 0x1119ae8d0>, <ipyannotate.progress.Atom object at 0x1119ae908>, <ipyannotate.progress.Atom object at 0x1119ae940>, <ipyannotate.progress.Atom object at 0x1119ae978>, <ipyannotate.progress.Atom object at 0x1119ae9b0>, <ipyannotate.progress.Atom object at 0x1119ae9e8>, <ipyannotate.progress.Atom object at 0x1119aea20>, <ipyannotate.progress.Atom object at 0x1119aea58>, <ipyannotate.progress.Atom object at 0x1119aea90>, <ipyannotate.progress.Atom object at 0x1119aeac8>, <ipyannotate.progress.Atom object at 0x1119aeb00>, <ipyannotate.progress.Atom object at 0x1119aeb38>, <ipyannotate.progress.Atom object at 0x1119aeb70>, <ipyannotate.progress.Atom object at 0x1119aeba8>, <ipyannotate.progress.Atom object at 0x1119aebe0>, <ipyannotate.progress.Atom object at 0x1119aec18>, <ipyannotate.progress.Atom object at 0x1119aec50>, <ipyannotate.progress.Atom object at 0x1119aec88>, <ipyannotate.progress.Atom object at 0x1119aecc0>, <ipyannotate.progress.Atom object at 0x1119aecf8>, <ipyannotate.progress.Atom object at 0x1119aed30>, <ipyannotate.progress.Atom object at 0x1119aed68>, <ipyannotate.progress.Atom object at 0x1119aeda0>, <ipyannotate.progress.Atom object at 0x1119aedd8>, <ipyannotate.progress.Atom object at 0x1119aee10>, <ipyannotate.progress.Atom object at 0x1119aee48>, <ipyannotate.progress.Atom object at 0x1119aee80>, <ipyannotate.progress.Atom object at 0x1119aeeb8>, <ipyannotate.progress.Atom object at 0x1119aeef0>, <ipyannotate.progress.Atom object at 0x1119aef28>, <ipyannotate.progress.Atom object at 0x1119aef60>, <ipyannotate.progress.Atom object at 0x1119aef98>, <ipyannotate.progress.Atom object at 0x1119aefd0>, <ipyannotate.progress.Atom object at 0x1119a4f98>, <ipyannotate.progress.Atom object at 0x1119a42e8>, <ipyannotate.progress.Atom object at 0x1119a4898>, <ipyannotate.progress.Atom object at 0x1119a4550>, <ipyannotate.progress.Atom object at 0x1119a4630>, <ipyannotate.progress.Atom object at 0x1119a4588>, <ipyannotate.progress.Atom object at 0x1119a4668>, <ipyannotate.progress.Atom object at 0x1119a4be0>, <ipyannotate.progress.Atom object at 0x1119a4da0>, <ipyannotate.progress.Atom object at 0x1119a4748>, <ipyannotate.progress.Atom object at 0x1119a4278>, <ipyannotate.progress.Atom object at 0x1119a4c50>, <ipyannotate.progress.Atom object at 0x1119a4ef0>, <ipyannotate.progress.Atom object at 0x1119a47f0>, <ipyannotate.progress.Atom object at 0x1119a4eb8>, <ipyannotate.progress.Atom object at 0x1119a46a0>, <ipyannotate.progress.Atom object at 0x1119a4a20>, <ipyannotate.progress.Atom object at 0x1119a4b00>, <ipyannotate.progress.Atom object at 0x1119a4ac8>]), toolbar=Toolbar(buttons=[ValueButton(color='green', icon=None, label='1', shortcut='1'), ValueButton(color='gray', icon=None, label='0', shortcut='2'), ValueButton(color='red', icon=None, label='-1', shortcut='3'), BackButton(color='gray', icon='← ', label='back', shortcut='j'), NextButton(color='gray', icon='→ ', label='next', shortcut='k')]))"
      ]
     },
     "metadata": {},
     "output_type": "display_data"
    }
   ],
   "source": [
    "from ipyannotate.buttons import ValueButton as Button, NextButton, BackButton\n",
    "from ipyannotate.toolbar import Toolbar\n",
    "from ipyannotate.tasks import Task, Tasks\n",
    "from ipyannotate.canvas import OutputCanvas\n",
    "from ipyannotate.annotation import Annotation\n",
    "\n",
    "\n",
    "def callback(button):\n",
    "    annotation.tasks.current.output.my = button.value\n",
    "\n",
    "\n",
    "tasks = Tasks(Task(_) for _ in records[:100])\n",
    "\n",
    "pos = Button(1, shortcut='1', color='green')\n",
    "neu = Button(0, shortcut='2', color='gray')\n",
    "neg = Button(-1, shortcut='3', color='red')\n",
    "\n",
    "for button in [pos, neu, neg]:\n",
    "    button.on_click(callback)\n",
    "\n",
    "buttons = [pos, neu, neg, BackButton(shortcut='j'), NextButton(shortcut='k')]\n",
    "toolbar = Toolbar(buttons)\n",
    "\n",
    "canvas = OutputCanvas(display=display_record)\n",
    "\n",
    "annotation = Annotation(toolbar, tasks, canvas=canvas)\n",
    "annotation"
   ]
  },
  {
   "cell_type": "markdown",
   "metadata": {},
   "source": [
    "# annotation.tasks"
   ]
  },
  {
   "cell_type": "code",
   "execution_count": 12,
   "metadata": {},
   "outputs": [
    {
     "data": {
      "text/plain": [
       "[Task(output=<__main__.Record object at 0x10d085eb8>, value=1),\n",
       " Task(output=<__main__.Record object at 0x10d085ef0>, value=0),\n",
       " Task(output=<__main__.Record object at 0x10d085f28>, value=-1),\n",
       " Task(output=<__main__.Record object at 0x10d085f60>, value=1),\n",
       " Task(output=<__main__.Record object at 0x10d085f98>, value=0),\n",
       " Task(output=<__main__.Record object at 0x10d085fd0>, value=-1),\n",
       " Task(output=<__main__.Record object at 0x10d087048>, value=1),\n",
       " Task(output=<__main__.Record object at 0x10d087080>, value=0),\n",
       " Task(output=<__main__.Record object at 0x10d0870b8>, value=-1),\n",
       " Task(output=<__main__.Record object at 0x10d0870f0>, value=1)]"
      ]
     },
     "execution_count": 12,
     "metadata": {},
     "output_type": "execute_result"
    }
   ],
   "source": [
    "annotation.tasks[:10]"
   ]
  },
  {
   "cell_type": "code",
   "execution_count": null,
   "metadata": {},
   "outputs": [],
   "source": []
  }
 ],
 "metadata": {
  "kernelspec": {
   "display_name": "Python 3",
   "language": "python",
   "name": "python3"
  },
  "language_info": {
   "codemirror_mode": {
    "name": "ipython",
    "version": 3
   },
   "file_extension": ".py",
   "mimetype": "text/x-python",
   "name": "python",
   "nbconvert_exporter": "python",
   "pygments_lexer": "ipython3",
   "version": "3.5.1"
  }
 },
 "nbformat": 4,
 "nbformat_minor": 2
}
