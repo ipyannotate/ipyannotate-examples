{
 "cells": [
  {
   "cell_type": "markdown",
   "metadata": {},
   "source": [
    "# Sentiment analysis\n",
    "<img src=\"./screencast.gif\"/>"
   ]
  },
  {
   "cell_type": "markdown",
   "metadata": {},
   "source": [
    "In this sample, we will build a sentiment annotator for the [Movie Review](http://www.cs.cornell.edu/people/pabo/movie-review-data/) dataset from Cornell."
   ]
  },
  {
   "cell_type": "code",
   "execution_count": 3,
   "metadata": {},
   "outputs": [],
   "source": [
    "import json\n",
    "import tarfile\n",
    "\n",
    "with tarfile.open('data.json.tgz') as tar:\n",
    "    file = tar.extractfile('data.json')\n",
    "    data = file.read().decode('utf8')"
   ]
  },
  {
   "cell_type": "code",
   "execution_count": 4,
   "metadata": {},
   "outputs": [
    {
     "data": {
      "text/plain": [
       "'{\"0\": {\"text\": \"in my review of \\\\\" the spy who shagged me , \\\\\" i postulated an unbreakable law of film physics : every time a sequel is as good as or better than the previous film in the series , it is followed by a third movie that is a bore . \\\\nthe cause is probably complacency ; a studio sighs with relief when part 2 lives up to expectations and figures part 3 is a sure thing . \\\\n \\\\\" scream 3 \\\\\" provides the latest proof of this rule . \\\\nin los angeles production has begun on \\\\\" stab 3 : retu'"
      ]
     },
     "execution_count": 4,
     "metadata": {},
     "output_type": "execute_result"
    }
   ],
   "source": [
    "data[:500]"
   ]
  },
  {
   "cell_type": "code",
   "execution_count": 13,
   "metadata": {},
   "outputs": [],
   "source": [
    "from textwrap import wrap\n",
    "\n",
    "\n",
    "class Record(object):\n",
    "    def __init__(self, id, text, cornell, vader=None, my=None):\n",
    "        self.id = id\n",
    "        self.text = text\n",
    "        self.cornell = cornell\n",
    "        self.vader = vader\n",
    "        self.my = my\n",
    "        \n",
    "    def _repr_pretty_(self, printer, cycle):\n",
    "        printer.text('id=%r' % self.id)\n",
    "        printer.break_()\n",
    "        printer.text('cornel=%r' % self.cornell)\n",
    "        printer.break_()\n",
    "        printer.text('vader=%r' % self.vader)\n",
    "        printer.break_()\n",
    "        printer.text('my=%r' % self.my)\n",
    "        printer.break_()\n",
    "        for line in wrap(self.text, 100):\n",
    "            printer.text(line)\n",
    "            printer.break_()\n",
    "\n",
    "\n",
    "def parse(data):\n",
    "    data = json.loads(data)\n",
    "    for id in data:\n",
    "        item = data[id]\n",
    "        yield Record(\n",
    "            id=id,\n",
    "            text=item['text'],\n",
    "            cornell=item['sent'],\n",
    "        )\n",
    "        \n",
    "        \n",
    "records = list(parse(data))"
   ]
  },
  {
   "cell_type": "code",
   "execution_count": 14,
   "metadata": {},
   "outputs": [
    {
     "data": {
      "text/plain": [
       "id='1842'\n",
       "cornel='pos'\n",
       "vader=None\n",
       "my=None\n",
       "for this review and more , visit clear illusions ( www . clearillusions . com )  the majority of\n",
       "scary movies signal the fact that a character is about to meet their demise with cheesy music , worn\n",
       "out dialogue such as \" i'll be right back , \" or simply with the overall tone of the scene .  how\n",
       "about a classic john denver song as a death signal for a change ?  that's the kind of bursting\n",
       "originality that allows \" final destination \" to invade the viewer's mind , even days after seeing\n",
       "it , making one pause before ever entering a dark room , taking a shower , or even going to sleep .\n",
       "the unique and horrifying thriller is the best thing to happen to the slasher genre since 1996's \"\n",
       "scream . \"   \" final destination , \" directed by james wong and penned by jeffrey riddick , glen\n",
       "morgan , and james wong , the latter two being writers for the t . v .  series \" the x-files , \" is\n",
       "a movie with wonderful ideas , and executes them effortlessly .  it's rare a film of this nature can\n",
       "grab an audience's attention these days , as the genre has seem to be completely worn out ? ? `but \"\n",
       "final destination \" has more in store for one than one can imagine .  unlike \" halloween \" 's\n",
       "michael myers or \" nightmare on elm street \" 's freddy kruger , \" final destination \" 's killer is\n",
       "of the supernatural , the dark one himself , death .  the intriguing premise is as follows ; a\n",
       "portion of a senior class is set to travel by air to paris for their class trip .  after boarding\n",
       "the plane , one of the students , alex browning ( devon sawa ) dreams of their plane exploding into\n",
       "flames just after takeoff , killing everyone on board .  once waking up , alex gets himself and six\n",
       "others off of that plane , all of who seem to be rather confused by the entire happening .  shortly\n",
       "after their departure , the plane takes off , and guess what ; it blows up in middair .  now , alex\n",
       ", and fellow survivors , who consist of friend clear waters ( ali larter ) , enemy carter ( kerr\n",
       "smith ) , carter's girlfriend terry ( amanda detmer ) , the goofy billy ( sean william scott ) and\n",
       "his brother tod ( chad donella ) , and teacher , ms . valerie lewton ( kristen cloke ) , are in\n",
       "extreme danger , as it seems they have cheated death by getting off of that plane , and now death\n",
       "wants them .  the number of survivors starts to peel back quite quickly as death goes around offing\n",
       "those who got off the plane ? ? `but who is next , and how will death get them ?   \" final\n",
       "destination \" is a film that is unbearably suspenseful ; always making the viewer frantic , as death\n",
       "will strike in the most unlikely of times .  john denver's \" rocky mountain high \" being played\n",
       "pretty much warrants another death ? ? `everyone on that plane learned the hard way .  although it's\n",
       "usually given whose life will be taken next , the intensity and unpredictability of the film never\n",
       "fades , because you don't know when death is coming .  like the characters in the movie , i was\n",
       "constantly nervous and shaky during \" final destination \" .  the slightest noise or movement nearby\n",
       "would send me a mile into the air ? ? ` and yes , the film is that intense .  the cast is\n",
       "surprisingly effective and up to par ; the best ensemble in this genre since \" scream . \"  the\n",
       "characters have multi-dimensional personalities for a change , and for the most part , you highly\n",
       "sympathize with them once death starts to come their way .  devon sawa and ali larter are the main\n",
       "focus of the film , and both actors follow up their well written characters with even better\n",
       "performances , that , like the \" scream \" movies did for their cast , will launch them into\n",
       "superstardom .  kerr smith and kristen cloke are also impressive , although the two don't posses as\n",
       "much screen time as the leads .   \" final destination \" is one exhilarating , exciting ride .  any\n",
       "age should be able to enjoy the complexity and eeriness of the film , and should find an edge to it\n",
       "that most slasher films lack .  for the blood loving moviegoer , \" destination \" contains buckets of\n",
       "blood , guts , and all that good stuff .   \" final destination \" is a film that is destined to\n",
       "become a cult classic among horror fans , and a sleeper hit at the box office .  hands down to the\n",
       "first film in years that has actually scared me .  by scare , i don't mean making me jump , or\n",
       "making me wonder if i'm in danger , but by scare i mean a film that stays locked in your mind ,\n",
       "absorbing you , leaving one question that's constantly on your mind : is death coming for me ?  the\n",
       "bottom line : make \" final destination \" your destination .\n"
      ]
     },
     "execution_count": 14,
     "metadata": {},
     "output_type": "execute_result"
    }
   ],
   "source": [
    "records[0]"
   ]
  },
  {
   "cell_type": "code",
   "execution_count": 15,
   "metadata": {},
   "outputs": [
    {
     "data": {
      "text/plain": [
       "2000"
      ]
     },
     "execution_count": 15,
     "metadata": {},
     "output_type": "execute_result"
    }
   ],
   "source": [
    "len(records)"
   ]
  },
  {
   "cell_type": "code",
   "execution_count": 16,
   "metadata": {},
   "outputs": [
    {
     "name": "stdout",
     "output_type": "stream",
     "text": [
      "[nltk_data] Downloading package vader_lexicon to\n",
      "[nltk_data]     /Users/alexkuk/nltk_data...\n",
      "[nltk_data]   Package vader_lexicon is already up-to-date!\n"
     ]
    },
    {
     "data": {
      "text/plain": [
       "True"
      ]
     },
     "execution_count": 16,
     "metadata": {},
     "output_type": "execute_result"
    }
   ],
   "source": [
    "import nltk\n",
    "nltk.download('vader_lexicon')"
   ]
  },
  {
   "cell_type": "code",
   "execution_count": 17,
   "metadata": {},
   "outputs": [
    {
     "name": "stderr",
     "output_type": "stream",
     "text": [
      "/Users/alexkuk/envs/mypy3/lib/python3.5/site-packages/nltk/twitter/__init__.py:20: UserWarning: The twython library has not been installed. Some functionality from the twitter package will not be available.\n",
      "  warnings.warn(\"The twython library has not been installed. \"\n"
     ]
    },
    {
     "data": {
      "application/vnd.jupyter.widget-view+json": {
       "model_id": "678f46342c1e47398cfd834e2673b157",
       "version_major": 2,
       "version_minor": 0
      },
      "text/html": [
       "<p>Failed to display Jupyter Widget of type <code>HBox</code>.</p>\n",
       "<p>\n",
       "  If you're reading this message in the Jupyter Notebook or JupyterLab Notebook, it may mean\n",
       "  that the widgets JavaScript is still loading. If this message persists, it\n",
       "  likely means that the widgets JavaScript library is either not installed or\n",
       "  not enabled. See the <a href=\"https://ipywidgets.readthedocs.io/en/stable/user_install.html\">Jupyter\n",
       "  Widgets Documentation</a> for setup instructions.\n",
       "</p>\n",
       "<p>\n",
       "  If you're reading this message in another frontend (for example, a static\n",
       "  rendering on GitHub or <a href=\"https://nbviewer.jupyter.org/\">NBViewer</a>),\n",
       "  it may mean that your frontend doesn't currently support widgets.\n",
       "</p>\n"
      ],
      "text/plain": [
       "HBox(children=(IntProgress(value=0, max=2000), HTML(value='')))"
      ]
     },
     "metadata": {},
     "output_type": "display_data"
    },
    {
     "name": "stdout",
     "output_type": "stream",
     "text": [
      "\n"
     ]
    }
   ],
   "source": [
    "from tqdm import tqdm_notebook as log_progress\n",
    "\n",
    "from nltk.sentiment.vader import SentimentIntensityAnalyzer\n",
    "vader = SentimentIntensityAnalyzer()\n",
    "\n",
    "\n",
    "for record in log_progress(records):\n",
    "    score = vader.polarity_scores(record.text)\n",
    "    # {'compound': 0.6156, 'neg': 0.074, 'pos': 0.085, 'neu': 0.842}\n",
    "    record.vader = score['compound']"
   ]
  },
  {
   "cell_type": "code",
   "execution_count": 18,
   "metadata": {},
   "outputs": [
    {
     "data": {
      "text/plain": [
       "id='952'\n",
       "cornel='pos'\n",
       "vader=0.9988\n",
       "my=None\n",
       "most sequels don't do what they're supposed to do like \" toy story 2 \" does .  far too many of them\n",
       "end up re-hashing the original and adding very little .  is it any wonder that most sequels fail to\n",
       "live up to their predecessors ?  thankfully , \" toy story 2 \" is a wonderful exception .  i can't\n",
       "remember the last time i saw a sequel as consistently fun and inventive as this one .  it's yet\n",
       "another sign that pixar , the acclaimed animation studio behind \" toy story \" and \" a bug's life , \"\n",
       "is still at the top of its game .  woody and buzz are back in the sequel to the 1995 hit \" toy story\n",
       ", \" and things have changed a bit since the last one ended .  woody ( voiced by tom hanks ) is\n",
       "preparing to leave with his owner andy for cowboy camp .  in his absence , he has assigned buzz\n",
       "lightyear ( tim allen ) , now comfortable in his role as a toy , to take charge .  unfortunately ,\n",
       "woody's trip is ruined when he is accidentally put into the family garage sale , and is stolen by an\n",
       "over-zealous toy collector ( wayne knight ) .  off to save him are buzz and members of the old \" toy\n",
       "gang , \" including mr . potato head ( don rickles ) , rex the nervous dinosaur ( wallace shawn ) ,\n",
       "hamm the piggy bank ( john ratzenberger ) , and slinky dog ( jim varney ) .  while in captivity ,\n",
       "woody makes a startling discovery : he is actually part of a collection of toys based on a 1950's\n",
       "children's show entitled \" woody's roundup . \"  he meets the show's other characters , which include\n",
       "jesse ( joan cusack ) , his cowgirl sidekick , the wise old prospector ( kelsey grammer ) , and\n",
       "bullseye , his trusty horse .  they have all been anxiously awaiting woody's arrival , as once their\n",
       "set is completed , they will be sold to a japanese toy museum , and finally escape storage forever .\n",
       "this means woody now faces a difficult choice .  with his friends coming to rescue him , does he go\n",
       "with them and spend a few more years with andy , or does he go to japan and be immortalized forever\n",
       "?  as in the original film , \" toy story 2 \" contains first-rate animation , and pixar studios has\n",
       "done a remarkable job improving on the impressive work they did there .  reportedly , the film was\n",
       "originally slated for a direct-to-video release , but after seeing the improvements that had been\n",
       "made , disney rightly decided to release it into theaters .  the film is well worth seeing on the\n",
       "big screen .  the colors are bright , the textures sharp , and even the human characters look more \"\n",
       "human . \"  the animation is consistently seamless , with the action fast and furious and the facial\n",
       "expressions believable .  there are so many impressive sequences that i'd find it impossible to list\n",
       "them here , but i was particularly wowed by a scene where buzz and his cohorts must get across a\n",
       "busy intersection to get to al' s toy barn , the store owned by woody's captor .  pixar's rendition\n",
       "of the family dog is also nicely done , with fur so realistic you almost feel you could reach out\n",
       "and touch it .  the voice work is also perfectly complementary , and as with the first movie , does\n",
       "much to help further character development .  tom hanks and tim allen again disappear into their\n",
       "roles as woody and buzz , making you forget who is doing the voice .  it was woody and buzz up there\n",
       ", not tom and tim .  all the cast members from the original reprise their roles , and each is\n",
       "excellent .  several new voices have been added , with joan cusack , kelsey grammer , and wayne\n",
       "knight doing fine work .   \" toy story 2 \" is strong in characterization , and is able to expand on\n",
       "what we saw in the first movie .  woody faces difficult choices , while buzz is confronted with a\n",
       "new buzz who hasn't yet realized his status as a toy , forcing him to see what he used to be like .\n",
       "the new characters are also developed quite well , especially jesse , who narrates a sarah\n",
       "mclachlan-aided flashback illustrating how she was loved , then forgotten by her owner .  it may be\n",
       "computer-animated , and it may have sappy music , but it's downright touching .  the script ,\n",
       "despite having a story and screenplay each credited to four different writers , is endlessly clever\n",
       "and inventive , especially considering that it's a sequel .  the reason \" toy story 2 \" works where\n",
       "other movie sequels fail is that it refuses to just capitalize on the original's success by re-doing\n",
       "the same story and using the same characters .  not this one .  we get character change , new\n",
       "characters , and new issues brought up .   \" toy story 2 \" is also remarkable for the way in which\n",
       "it keeps reinventing itself .  there is always another clever idea waiting just around the corner\n",
       "here .  the humor is sharp and witty , with something to amuse both kids and adults .  there are\n",
       "funny asides to films such as \" star wars \" and \" jurassic park , \" among others , new takes on\n",
       "classic toys like barbie and rock 'em sock 'em robots , and appearances from other pixar efforts \" a\n",
       "bug's life \" and the 1997 short \" geri 's game . \"   ( geri himself makes an appearance as a toy\n",
       "repairman who fixes woody's broken arm . )  the action is fast and furious , and the chases ( in the\n",
       "street , in a toy store , in an elevator , on a baggage carousel , and in an airplane ) keep getting\n",
       "bigger and better .   \" toy story 2 \" never grows stagnant , because there is always something new\n",
       "to hold your interest .  the more you pay attention to it , the more rewarding it is .  it's rare to\n",
       "see a film like \" toy story 2 \" come along , because it's the kind of film that's almost impossible\n",
       "to dislike .  it's created purely to entertain , and though i enjoy a thought-provoking drama as\n",
       "much as the next person , it's nice to see that films are still trying to do exactly what movies\n",
       "first tried to do : send us out with a smile .  it's a fair bet that the whole family will have\n",
       "smiles on their collective faces after seeing \" toy story 2 . \" it's the rare sequel that manages to\n",
       "expand on , and live up to , the original .\n"
      ]
     },
     "execution_count": 18,
     "metadata": {},
     "output_type": "execute_result"
    }
   ],
   "source": [
    "records[1]"
   ]
  },
  {
   "cell_type": "markdown",
   "metadata": {},
   "source": [
    "We will write a simple display formatter to make our output look nice"
   ]
  },
  {
   "cell_type": "code",
   "execution_count": 19,
   "metadata": {},
   "outputs": [
    {
     "data": {
      "text/html": [
       "cornell: <span style=\"color:green;\">pos</span>"
      ],
      "text/plain": [
       "<IPython.core.display.HTML object>"
      ]
     },
     "metadata": {},
     "output_type": "display_data"
    },
    {
     "data": {
      "text/html": [
       "vader: <span style=\"color:red;\">-0.9847</span>"
      ],
      "text/plain": [
       "<IPython.core.display.HTML object>"
      ]
     },
     "metadata": {},
     "output_type": "display_data"
    },
    {
     "name": "stdout",
     "output_type": "stream",
     "text": [
      "for this review and more , visit clear illusions ( www . clearillusions . com ) \n",
      "the majority of scary movies signal the fact that a character is about to meet their demise with cheesy music , worn out dialogue such as \" i'll be right back , \" or simply with the overall tone of the scene . \n",
      "how about a classic john denver song as a death signal for a change ? \n",
      "that's the kind of bursting originality that allows \" final destination \" to invade the viewer's mind , even days after seeing it , making one pause before ever entering a dark room , taking a shower , or even going to sleep . \n",
      "the unique and horrifying thriller is the best thing to happen to the slasher genre since 1996's \" scream . \" \n",
      " \" final destination , \" directed by james wong and penned by jeffrey riddick , glen morgan , and james wong , the latter two being writers for the t . v . \n",
      "series \" the x-files , \" is a movie with wonderful ideas , and executes them effortlessly . \n",
      "it's rare a film of this nature can grab an audience's attention these days , as the genre has seem to be completely worn out ? ? `but \" final destination \" has more in store for one than one can imagine . \n",
      "unlike \" halloween \" 's michael myers or \" nightmare on elm street \" 's freddy kruger , \" final destination \" 's killer is of the supernatural , the dark one himself , death . \n",
      "the intriguing premise is as follows ; a portion of a senior class is set to travel by air to paris for their class trip . \n",
      "after boarding the plane , one of the students , alex browning ( devon sawa ) dreams of their plane exploding into flames just after takeoff , killing everyone on board . \n",
      "once waking up , alex gets himself and six others off of that plane , all of who seem to be rather confused by the entire happening . \n",
      "shortly after their departure , the plane takes off , and guess what ; it blows up in middair . \n",
      "now , alex , and fellow survivors , who consist of friend clear waters ( ali larter ) , enemy carter ( kerr smith ) , carter's girlfriend terry ( amanda detmer ) , the goofy billy ( sean william scott ) and his brother tod ( chad donella ) , and teacher , ms . valerie lewton ( kristen cloke ) , are in extreme danger , as it seems they have cheated death by getting off of that plane , and now death wants them . \n",
      "the number of survivors starts to peel back quite quickly as death goes around offing those who got off the plane ? ? `but who is next , and how will death get them ? \n",
      " \" final destination \" is a film that is unbearably suspenseful ; always making the viewer frantic , as death will strike in the most unlikely of times . \n",
      "john denver's \" rocky mountain high \" being played pretty much warrants another death ? ? `everyone on that plane learned the hard way . \n",
      "although it's usually given whose life will be taken next , the intensity and unpredictability of the film never fades , because you don't know when death is coming . \n",
      "like the characters in the movie , i was constantly nervous and shaky during \" final destination \" . \n",
      "the slightest noise or movement nearby would send me a mile into the air ? ? ` and yes , the film is that intense . \n",
      "the cast is surprisingly effective and up to par ; the best ensemble in this genre since \" scream . \" \n",
      "the characters have multi-dimensional personalities for a change , and for the most part , you highly sympathize with them once death starts to come their way . \n",
      "devon sawa and ali larter are the main focus of the film , and both actors follow up their well written characters with even better performances , that , like the \" scream \" movies did for their cast , will launch them into superstardom . \n",
      "kerr smith and kristen cloke are also impressive , although the two don't posses as much screen time as the leads . \n",
      " \" final destination \" is one exhilarating , exciting ride . \n",
      "any age should be able to enjoy the complexity and eeriness of the film , and should find an edge to it that most slasher films lack . \n",
      "for the blood loving moviegoer , \" destination \" contains buckets of blood , guts , and all that good stuff . \n",
      " \" final destination \" is a film that is destined to become a cult classic among horror fans , and a sleeper hit at the box office . \n",
      "hands down to the first film in years that has actually scared me . \n",
      "by scare , i don't mean making me jump , or making me wonder if i'm in danger , but by scare i mean a film that stays locked in your mind , absorbing you , leaving one question that's constantly on your mind : is death coming for me ? \n",
      "the bottom line : make \" final destination \" your destination . \n",
      "\n"
     ]
    }
   ],
   "source": [
    "from IPython.display import display, HTML\n",
    "\n",
    "\n",
    "RED = 'red'\n",
    "GREEN = 'green'\n",
    "\n",
    "\n",
    "def format_color(value, color):\n",
    "    return '<span style=\"color:{color};\">{value}</span>'.format(\n",
    "        color=color,\n",
    "        value=value\n",
    "    )\n",
    "\n",
    "\n",
    "def display_record(record):\n",
    "    value = record.cornell\n",
    "    if value == 'neg':\n",
    "        color = RED\n",
    "    elif value == 'pos':\n",
    "        color = GREEN\n",
    "    else:\n",
    "        raise ValueError(value)\n",
    "    display(HTML('cornell: ' + format_color(value, color)))\n",
    "    \n",
    "    value = record.vader\n",
    "    color = RED if value < 0 else GREEN\n",
    "    display(HTML('vader: ' + format_color(value, color)))\n",
    "\n",
    "    value = record.my\n",
    "    if value is not None:\n",
    "        color = RED if value < 0 else GREEN\n",
    "        display(HTML('my: ' + format_color(value, color)))\n",
    "    \n",
    "    print(record.text)\n",
    "\n",
    "    \n",
    "display_record(records[0])"
   ]
  },
  {
   "cell_type": "markdown",
   "metadata": {},
   "source": [
    "## Assemble our annotator\n",
    "Now we can assemble our checker using `ipyannotate`. For this task, we will show the user the model-evaluated sentiment, and let them override it with `+1`, `0` and `-1` buttons, which will modify the annotation tasks."
   ]
  },
  {
   "cell_type": "code",
   "execution_count": 15,
   "metadata": {
    "scrolled": false
   },
   "outputs": [
    {
     "data": {
      "application/vnd.jupyter.widget-view+json": {
       "model_id": "7041976cb0674ffbb497b780eceff920",
       "version_major": 2,
       "version_minor": 0
      },
      "text/html": [
       "<p>Failed to display Jupyter Widget of type <code>Annotation</code>.</p>\n",
       "<p>\n",
       "  If you're reading this message in the Jupyter Notebook or JupyterLab Notebook, it may mean\n",
       "  that the widgets JavaScript is still loading. If this message persists, it\n",
       "  likely means that the widgets JavaScript library is either not installed or\n",
       "  not enabled. See the <a href=\"https://ipywidgets.readthedocs.io/en/stable/user_install.html\">Jupyter\n",
       "  Widgets Documentation</a> for setup instructions.\n",
       "</p>\n",
       "<p>\n",
       "  If you're reading this message in another frontend (for example, a static\n",
       "  rendering on GitHub or <a href=\"https://nbviewer.jupyter.org/\">NBViewer</a>),\n",
       "  it may mean that your frontend doesn't currently support widgets.\n",
       "</p>\n"
      ],
      "text/plain": [
       "Annotation(canvas=OutputCanvas(), progress=Progress(atoms=[<ipyannotate.progress.Atom object at 0x1079a1f28>, <ipyannotate.progress.Atom object at 0x1079a1fd0>, <ipyannotate.progress.Atom object at 0x1079a1ef0>, <ipyannotate.progress.Atom object at 0x1079a1da0>, <ipyannotate.progress.Atom object at 0x1079a1e48>, <ipyannotate.progress.Atom object at 0x1079ad048>, <ipyannotate.progress.Atom object at 0x1079ad080>, <ipyannotate.progress.Atom object at 0x1079ad0b8>, <ipyannotate.progress.Atom object at 0x1079ad0f0>, <ipyannotate.progress.Atom object at 0x1079ad128>, <ipyannotate.progress.Atom object at 0x1079ad160>, <ipyannotate.progress.Atom object at 0x1079ad198>, <ipyannotate.progress.Atom object at 0x1079ad1d0>, <ipyannotate.progress.Atom object at 0x1079ad208>, <ipyannotate.progress.Atom object at 0x1079ad240>, <ipyannotate.progress.Atom object at 0x1079ad278>, <ipyannotate.progress.Atom object at 0x1079ad2b0>, <ipyannotate.progress.Atom object at 0x1079ad2e8>, <ipyannotate.progress.Atom object at 0x1079ad320>, <ipyannotate.progress.Atom object at 0x1079ad358>, <ipyannotate.progress.Atom object at 0x1079ad390>, <ipyannotate.progress.Atom object at 0x1079ad3c8>, <ipyannotate.progress.Atom object at 0x1079ad400>, <ipyannotate.progress.Atom object at 0x1079ad438>, <ipyannotate.progress.Atom object at 0x1079ad470>, <ipyannotate.progress.Atom object at 0x1079ad4a8>, <ipyannotate.progress.Atom object at 0x1079ad4e0>, <ipyannotate.progress.Atom object at 0x1079ad518>, <ipyannotate.progress.Atom object at 0x1079ad550>, <ipyannotate.progress.Atom object at 0x1079ad588>, <ipyannotate.progress.Atom object at 0x1079ad5c0>, <ipyannotate.progress.Atom object at 0x1079ad5f8>, <ipyannotate.progress.Atom object at 0x1079ad630>, <ipyannotate.progress.Atom object at 0x1079ad668>, <ipyannotate.progress.Atom object at 0x1079ad6a0>, <ipyannotate.progress.Atom object at 0x1079ad6d8>, <ipyannotate.progress.Atom object at 0x1079ad710>, <ipyannotate.progress.Atom object at 0x1079ad748>, <ipyannotate.progress.Atom object at 0x1079ad780>, <ipyannotate.progress.Atom object at 0x1079ad7b8>, <ipyannotate.progress.Atom object at 0x1079ad7f0>, <ipyannotate.progress.Atom object at 0x1079ad828>, <ipyannotate.progress.Atom object at 0x1079ad860>, <ipyannotate.progress.Atom object at 0x1079ad898>, <ipyannotate.progress.Atom object at 0x1079ad8d0>, <ipyannotate.progress.Atom object at 0x1079ad908>, <ipyannotate.progress.Atom object at 0x1079ad940>, <ipyannotate.progress.Atom object at 0x1079ad978>, <ipyannotate.progress.Atom object at 0x1079ad9b0>, <ipyannotate.progress.Atom object at 0x1079ad9e8>, <ipyannotate.progress.Atom object at 0x1079ada20>, <ipyannotate.progress.Atom object at 0x1079ada58>, <ipyannotate.progress.Atom object at 0x1079ada90>, <ipyannotate.progress.Atom object at 0x1079adac8>, <ipyannotate.progress.Atom object at 0x1079adb00>, <ipyannotate.progress.Atom object at 0x1079adb38>, <ipyannotate.progress.Atom object at 0x1079adb70>, <ipyannotate.progress.Atom object at 0x1079adba8>, <ipyannotate.progress.Atom object at 0x1079adbe0>, <ipyannotate.progress.Atom object at 0x1079adc18>, <ipyannotate.progress.Atom object at 0x1079adc50>, <ipyannotate.progress.Atom object at 0x1079adc88>, <ipyannotate.progress.Atom object at 0x1079adcc0>, <ipyannotate.progress.Atom object at 0x1079adcf8>, <ipyannotate.progress.Atom object at 0x1079add30>, <ipyannotate.progress.Atom object at 0x1079add68>, <ipyannotate.progress.Atom object at 0x1079adda0>, <ipyannotate.progress.Atom object at 0x1079addd8>, <ipyannotate.progress.Atom object at 0x1079ade10>, <ipyannotate.progress.Atom object at 0x1079ade48>, <ipyannotate.progress.Atom object at 0x1079ade80>, <ipyannotate.progress.Atom object at 0x1079adeb8>, <ipyannotate.progress.Atom object at 0x1079adef0>, <ipyannotate.progress.Atom object at 0x1079adf28>, <ipyannotate.progress.Atom object at 0x1079adf60>, <ipyannotate.progress.Atom object at 0x1079adf98>, <ipyannotate.progress.Atom object at 0x1079adfd0>, <ipyannotate.progress.Atom object at 0x1079a6048>, <ipyannotate.progress.Atom object at 0x1079a6080>, <ipyannotate.progress.Atom object at 0x1079a60b8>, <ipyannotate.progress.Atom object at 0x1079a60f0>, <ipyannotate.progress.Atom object at 0x1079a6128>, <ipyannotate.progress.Atom object at 0x1079a6160>, <ipyannotate.progress.Atom object at 0x1079a6198>, <ipyannotate.progress.Atom object at 0x1079a61d0>, <ipyannotate.progress.Atom object at 0x1079a6208>, <ipyannotate.progress.Atom object at 0x1079a6240>, <ipyannotate.progress.Atom object at 0x1079a6278>, <ipyannotate.progress.Atom object at 0x1079a62b0>, <ipyannotate.progress.Atom object at 0x1079a62e8>, <ipyannotate.progress.Atom object at 0x1079a6320>, <ipyannotate.progress.Atom object at 0x1079a6358>, <ipyannotate.progress.Atom object at 0x1079a6390>, <ipyannotate.progress.Atom object at 0x1079a63c8>, <ipyannotate.progress.Atom object at 0x1079a6400>, <ipyannotate.progress.Atom object at 0x1079a6438>, <ipyannotate.progress.Atom object at 0x1079a6470>, <ipyannotate.progress.Atom object at 0x1079a64a8>, <ipyannotate.progress.Atom object at 0x1079a64e0>, <ipyannotate.progress.Atom object at 0x1079a6518>]), toolbar=Toolbar(buttons=[ValueButton(color='green', icon=None, label='1', shortcut='1'), ValueButton(color='gray', icon=None, label='0', shortcut='2'), ValueButton(color='red', icon=None, label='-1', shortcut='3'), BackButton(color='gray', icon='← ', label='back', shortcut='j'), NextButton(color='gray', icon='→ ', label='next', shortcut='k')]))"
      ]
     },
     "metadata": {},
     "output_type": "display_data"
    }
   ],
   "source": [
    "from ipyannotate.buttons import ValueButton as Button, NextButton, BackButton\n",
    "from ipyannotate.toolbar import Toolbar\n",
    "from ipyannotate.tasks import Task, Tasks\n",
    "from ipyannotate.canvas import OutputCanvas\n",
    "from ipyannotate.annotation import Annotation\n",
    "\n",
    "\n",
    "def callback(button):\n",
    "    annotation.tasks.current.output.my = button.value\n",
    "\n",
    "\n",
    "tasks = Tasks(Task(_) for _ in records[:100])\n",
    "\n",
    "pos = Button(1, shortcut='1', color='green')\n",
    "neu = Button(0, shortcut='2', color='gray')\n",
    "neg = Button(-1, shortcut='3', color='red')\n",
    "\n",
    "for button in [pos, neu, neg]:\n",
    "    button.on_click(callback)\n",
    "\n",
    "buttons = [pos, neu, neg, BackButton(shortcut='j'), NextButton(shortcut='k')]\n",
    "toolbar = Toolbar(buttons)\n",
    "\n",
    "canvas = OutputCanvas(display=display_record)\n",
    "\n",
    "annotation = Annotation(toolbar, tasks, canvas=canvas)\n",
    "annotation"
   ]
  },
  {
   "cell_type": "markdown",
   "metadata": {},
   "source": [
    "# annotation.tasks"
   ]
  },
  {
   "cell_type": "code",
   "execution_count": 16,
   "metadata": {},
   "outputs": [
    {
     "data": {
      "text/plain": [
       "[Task(output=Record(id='285', text=' \" the blair witch project \" was perhaps one of a kind , ..., value=1),\n",
       " Task(output=Record(id='1243', text='this is the last carry on film with its almost intact re..., value=0),\n",
       " Task(output=Record(id='551', text=\"you've got mail works alot better than it deserves to . \\..., value=1),\n",
       " Task(output=Record(id='915', text='a slight romantic comedy with a feminist bent , but one w..., value=0),\n",
       " Task(output=Record(id='1870', text='scream 2 has a titillating little scene that lays down t..., value=1),\n",
       " Task(output=Record(id='510', text='quiz show , an almost perfectly accurate true story , is ..., value=0),\n",
       " Task(output=Record(id='109', text='i must admit i\\'m going to be a bit biased in my review o..., value=None),\n",
       " Task(output=Record(id='1375', text=\"ahh yes . \\nthe teenage romance . \\nan attractive young ..., value=None),\n",
       " Task(output=Record(id='541', text=\"let me start off by saying that leading up to the release..., value=None),\n",
       " Task(output=Record(id='726', text='sylvester stallone has made some crap films in his lifeti..., value=None)]"
      ]
     },
     "execution_count": 16,
     "metadata": {},
     "output_type": "execute_result"
    }
   ],
   "source": [
    "annotation.tasks[:10]"
   ]
  },
  {
   "cell_type": "code",
   "execution_count": null,
   "metadata": {},
   "outputs": [],
   "source": []
  }
 ],
 "metadata": {
  "kernelspec": {
   "display_name": "Python 3",
   "language": "python",
   "name": "python3"
  },
  "language_info": {
   "codemirror_mode": {
    "name": "ipython",
    "version": 3
   },
   "file_extension": ".py",
   "mimetype": "text/x-python",
   "name": "python",
   "nbconvert_exporter": "python",
   "pygments_lexer": "ipython3",
   "version": "3.5.1"
  }
 },
 "nbformat": 4,
 "nbformat_minor": 2
}
