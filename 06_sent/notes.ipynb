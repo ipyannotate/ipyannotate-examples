{
 "cells": [
  {
   "cell_type": "markdown",
   "metadata": {},
   "source": [
    "# Sentiment analysis\n",
    "<img src=\"./screencast.gif\"/>"
   ]
  },
  {
   "cell_type": "markdown",
   "metadata": {},
   "source": [
    "In this sample, we will build a sentiment annotator for the [Movie Review](http://www.cs.cornell.edu/people/pabo/movie-review-data/) dataset from Cornell."
   ]
  },
  {
   "cell_type": "code",
   "execution_count": 1,
   "metadata": {},
   "outputs": [],
   "source": [
    "import json\n",
    "import tarfile\n",
    "\n",
    "with tarfile.open('data.json.tgz') as tar:\n",
    "    file = tar.extractfile('data.json')\n",
    "    data = file.read().decode('utf8')\n",
    "    data = json.loads(data)"
   ]
  },
  {
   "cell_type": "markdown",
   "metadata": {},
   "source": [
    "There's a lot of data here, lets process a subset of it."
   ]
  },
  {
   "cell_type": "code",
   "execution_count": 3,
   "metadata": {},
   "outputs": [
    {
     "name": "stdout",
     "output_type": "stream",
     "text": [
      "[nltk_data] Downloading package vader_lexicon to\n",
      "[nltk_data]     /Users/alexkuk/nltk_data...\n",
      "[nltk_data]   Package vader_lexicon is already up-to-date!\n"
     ]
    }
   ],
   "source": [
    "import nltk\n",
    "nltk.download('vader_lexicon')\n",
    "\n",
    "from nltk.sentiment.vader import SentimentIntensityAnalyzer\n",
    "sentiment_analyzer = SentimentIntensityAnalyzer()\n",
    "\n",
    "data = [{'text': _['text'], 'sentiment': sentiment_analyzer.polarity_scores(_['text'])['compound']} for _ in list(data.values())[:10]]"
   ]
  },
  {
   "cell_type": "markdown",
   "metadata": {},
   "source": [
    "We will write a simple display formatter to make our output look nice"
   ]
  },
  {
   "cell_type": "code",
   "execution_count": 4,
   "metadata": {},
   "outputs": [
    {
     "data": {
      "text/html": [
       "<span style=\"color:red;\">-1</span>"
      ],
      "text/plain": [
       "<IPython.core.display.HTML object>"
      ]
     },
     "metadata": {},
     "output_type": "display_data"
    },
    {
     "name": "stdout",
     "output_type": "stream",
     "text": [
      "have you ever been in an automobile accident where you've miraculously walked away with only a few scratches , yet the car has been obliterated into an unrecognizable , mangled wreck ? \n",
      "well , that has never actually happened to me and i hope that none of us will ever experience this situation . \n",
      "but after watching this inane exercise of a movie , i certainly feel that i've miraculously walked away unscathed after a two-hour ride that mercilessly careens back and forth before finally plummeting into an icy pond . \n",
      "oddly , `eye of the beholder , ' which is a psychological-romance-thriller , starts off promisingly enough when the opening sequence introduces us to a british intelligence agent , called the eye ( ewan mcgregor ) , working in washington dc . \n",
      "in the humorous opening scene , he eyes a top lawyer across the street in his office with his pants down . \n",
      "using an array of high-tech surveillance and communications equipment , he proceeds to transmit pictures of the bared lawyer to pc screens and fax machines in his office . \n",
      "the law firm's employees get a good chuckle . \n",
      "the audience gets a good chuckle . \n",
      "the eye is later given an assignment where he encounters a beautiful woman ( ashley judd ) . \n",
      "there is something compelling about this mysterious woman . \n",
      "despite her glamorous looks , however , we learn that she is a psychopath with a propensity to kill men that get too close to her . \n",
      "after the murders , she sobs while singing the christmas tune `little bluebirds' and laments about being abandoned by her father long ago . \n",
      "after each killing , she puts on a different wig , assumes a new name , and then makes her way to another state . \n",
      "the eye has witnessed all her murderous transgressions . \n",
      "but he does not alert the authorities . \n",
      "he somehow empathizes with her sense of loss . \n",
      "the eye , it turns out , also is haunted by his past . \n",
      "his daughter was taken away from him and he anguishes this loss every day of his life . \n",
      "his tormented psyche creates a ghost-like image of his daughter with which he engages in conversation . \n",
      "she becomes a sort of spectral adviser , and one thing that the ghostly daughter says is that he must help the woman . \n",
      "he now diverts his energies into trying to help her find some kind of salvation . \n",
      "it doesn't matter that he has witnessed all of her murders . \n",
      "and it doesn't matter that the eye is abnormally reticent , hiding his entire life behind computer screens . \n",
      "he follows her to a dozen different locales and shadows her every move to keep her out of trouble . \n",
      "when a crazed druggie ( jason priestley ) attacks her , he shows up for some quick butt kicking . \n",
      "when the police are closing in to arrest her , he provides a distraction so that she can escape . \n",
      "all the while , the woman has no idea who her guardian angel is and the eye stays just out of sight . \n",
      "peculiar . \n",
      "how bad is this movie ? \n",
      "i refer you to my `review quote source' litmus test . \n",
      "just take a look at the full-page ad in the newspaper and see where they are pulling quotes . \n",
      "for this movie , they are from magazines called `flaunt' and `mirabella . ' \n",
      "no doubt , they were impressed with judd's series of catwalks and disguise changes . \n",
      "the major problem with `eye of the beholder' is that the film jerks forward , always unsure of its ultimate destination . \n",
      "if it was a thriller , there was little to keep us entranced . \n",
      "if it was a love story , there was absolutely no emotional pull . \n",
      "completely disjointed in structure , it's only saving grace was its stylish look which reminded me of my favorite car commercial ( the one where the `6' on the tachometer dissolves into a winding road and a passenger rail car dissolves into a small miniature on a child's train set ) . \n",
      "i am also still hopeful that ashley judd will find a serious role to showcase her potential talents . \n",
      "beyond that , the film is hopelessly out-of-control and is in need of seriously better traction and handling . \n",
      "\n"
     ]
    }
   ],
   "source": [
    "from IPython.display import display, HTML\n",
    "def display_record(record):\n",
    "    sentiment = 1 if record['sentiment'] > 0 else -1\n",
    "    if sentiment == 1:\n",
    "        display(HTML('<span style=\"color:green;\">{}</span>'.format(sentiment)))\n",
    "    else:\n",
    "        display(HTML('<span style=\"color:red;\">{}</span>'.format(sentiment)))\n",
    "    print(record['text'])\n",
    "\n",
    "display_record(data[2])"
   ]
  },
  {
   "cell_type": "markdown",
   "metadata": {},
   "source": [
    "## Assemble our annotator\n",
    "Now we can assemble our checker using `ipyannotate`. For this task, we will show the user the model-evaluated sentiment, and let them override it with `+1`, `0` and `-1` buttons, which will modify the annotation tasks."
   ]
  },
  {
   "cell_type": "code",
   "execution_count": 6,
   "metadata": {
    "scrolled": false
   },
   "outputs": [
    {
     "data": {
      "application/vnd.jupyter.widget-view+json": {
       "model_id": "edde89e7b6f243aeae473fd6dc6fecba",
       "version_major": 2,
       "version_minor": 0
      },
      "text/html": [
       "<p>Failed to display Jupyter Widget of type <code>Annotation</code>.</p>\n",
       "<p>\n",
       "  If you're reading this message in the Jupyter Notebook or JupyterLab Notebook, it may mean\n",
       "  that the widgets JavaScript is still loading. If this message persists, it\n",
       "  likely means that the widgets JavaScript library is either not installed or\n",
       "  not enabled. See the <a href=\"https://ipywidgets.readthedocs.io/en/stable/user_install.html\">Jupyter\n",
       "  Widgets Documentation</a> for setup instructions.\n",
       "</p>\n",
       "<p>\n",
       "  If you're reading this message in another frontend (for example, a static\n",
       "  rendering on GitHub or <a href=\"https://nbviewer.jupyter.org/\">NBViewer</a>),\n",
       "  it may mean that your frontend doesn't currently support widgets.\n",
       "</p>\n"
      ],
      "text/plain": [
       "Annotation(canvas=OutputCanvas(), progress=Progress(atoms=[<ipyannotate.progress.Atom object at 0x106a1e860>, <ipyannotate.progress.Atom object at 0x106a1e320>, <ipyannotate.progress.Atom object at 0x106a1e240>, <ipyannotate.progress.Atom object at 0x106a1e0f0>, <ipyannotate.progress.Atom object at 0x106a1e828>, <ipyannotate.progress.Atom object at 0x106a1ea58>, <ipyannotate.progress.Atom object at 0x106a1ea20>, <ipyannotate.progress.Atom object at 0x106a1ee10>, <ipyannotate.progress.Atom object at 0x106a1ef98>, <ipyannotate.progress.Atom object at 0x106a1e400>]), toolbar=Toolbar(buttons=[OkButton(color='green', label='+', shortcut='1'), OkButton(color='gray', label='o', shortcut='2'), OkButton(color='red', label='-', shortcut='3'), BackButton(color='gray', icon='← ', label='back', shortcut='j'), NextButton(color='gray', icon='→ ', label='next', shortcut='k')]))"
      ]
     },
     "metadata": {},
     "output_type": "display_data"
    }
   ],
   "source": [
    "from ipyannotate.buttons import OkButton as Button, NextButton, BackButton\n",
    "from ipyannotate.toolbar import Toolbar\n",
    "from ipyannotate.tasks import Task, Tasks\n",
    "from ipyannotate.canvas import OutputCanvas\n",
    "from ipyannotate.annotation import Annotation\n",
    "\n",
    "\n",
    "def handle_click(button):\n",
    "    annotation.tasks.current.output['sentiment'] = button.value\n",
    "\n",
    "tasks = Tasks(Task(_) for _ in data)\n",
    "\n",
    "pos = Button(label='+', shortcut='1', value=1, color='green', icon='')\n",
    "neu = Button(label='o', shortcut='2', value=0, color='gray', icon='')\n",
    "neg = Button(label='-', shortcut='3', value=-1, color='red', icon='')\n",
    "\n",
    "for button in [pos, neu, neg]:\n",
    "    button.on_click(handle_click)\n",
    "\n",
    "buttons = [pos, neu, neg, BackButton(shortcut='j'), NextButton(shortcut='k')]\n",
    "toolbar = Toolbar(buttons)\n",
    "\n",
    "canvas = OutputCanvas(display=display_record)\n",
    "\n",
    "annotation = Annotation(toolbar, tasks, canvas=canvas)\n",
    "annotation"
   ]
  },
  {
   "cell_type": "markdown",
   "metadata": {},
   "source": [
    "# annotation.tasks"
   ]
  },
  {
   "cell_type": "code",
   "execution_count": null,
   "metadata": {},
   "outputs": [],
   "source": [
    "annotation.tasks"
   ]
  },
  {
   "cell_type": "code",
   "execution_count": null,
   "metadata": {},
   "outputs": [],
   "source": []
  }
 ],
 "metadata": {
  "kernelspec": {
   "display_name": "Python 3",
   "language": "python",
   "name": "python3"
  },
  "language_info": {
   "codemirror_mode": {
    "name": "ipython",
    "version": 3
   },
   "file_extension": ".py",
   "mimetype": "text/x-python",
   "name": "python",
   "nbconvert_exporter": "python",
   "pygments_lexer": "ipython3",
   "version": "3.5.1"
  }
 },
 "nbformat": 4,
 "nbformat_minor": 2
}
