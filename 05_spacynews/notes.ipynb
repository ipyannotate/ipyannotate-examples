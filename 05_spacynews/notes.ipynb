{
 "cells": [
  {
   "cell_type": "markdown",
   "metadata": {},
   "source": [
    "# Annotating News Headlines\n",
    "<img src=\"./screencast.gif\"/>"
   ]
  },
  {
   "cell_type": "markdown",
   "metadata": {},
   "source": [
    "We will load up a sample set of news headlines, tag parts of speech using `spaCy`, and create an output annotator to mark records that required a second check"
   ]
  },
  {
   "cell_type": "code",
   "execution_count": 1,
   "metadata": {},
   "outputs": [
    {
     "data": {
      "text/plain": [
       "['Daily Report: Narendra Modi, Indian Prime Minister, Conquers Silicon Valley',\n",
       " 'Tech Recruiting Clashes With Immigration Rules',\n",
       " 'Start-Up Fervor Shifts to Energy in Silicon Valley',\n",
       " 'To Survive, Net Start-Ups Slow Their Metabolism',\n",
       " 'As New Zealand Courts Tech Talent, Isolation Becomes a Draw',\n",
       " 'Wall Street and Silicon Valley Form an Uneasy Alliance',\n",
       " 'Investing Early On for Insights, Not Profits',\n",
       " 'A Determined Outpost of Tiny Technology',\n",
       " \"As Silicon Valley Cheers Yahoo Chief, Wall Street's Reaction Is Muted\",\n",
       " 'Airbnb and Others Set Terms for Employees to Cash Out']"
      ]
     },
     "execution_count": 1,
     "metadata": {},
     "output_type": "execute_result"
    }
   ],
   "source": [
    "import json\n",
    "from random import seed, sample\n",
    "\n",
    "\n",
    "with open('data.json') as file:\n",
    "    headlines = [_['text'] for _ in json.load(file)]\n",
    "    \n",
    "\n",
    "seed(7)\n",
    "sample(headlines, 10)"
   ]
  },
  {
   "cell_type": "markdown",
   "metadata": {},
   "source": [
    "We will use the small english corpus for portability"
   ]
  },
  {
   "cell_type": "code",
   "execution_count": 2,
   "metadata": {},
   "outputs": [],
   "source": [
    "# pip install spacy\n",
    "import spacy\n",
    "\n",
    "\n",
    "# python -m spacy download en_core_web_sm\n",
    "nlp = spacy.load('en_core_web_sm')"
   ]
  },
  {
   "cell_type": "code",
   "execution_count": 3,
   "metadata": {},
   "outputs": [],
   "source": [
    "docs = []\n",
    "for headline in headlines:\n",
    "    doc = nlp(headline)\n",
    "    docs.append(doc)"
   ]
  },
  {
   "cell_type": "code",
   "execution_count": 4,
   "metadata": {},
   "outputs": [
    {
     "data": {
      "text/plain": [
       "[Uber,\n",
       " ’s,\n",
       " Lesson,\n",
       " :,\n",
       " Silicon,\n",
       " Valley,\n",
       " ’s,\n",
       " Start,\n",
       " -,\n",
       " Up,\n",
       " Machine,\n",
       " Needs,\n",
       " Fixing]"
      ]
     },
     "execution_count": 4,
     "metadata": {},
     "output_type": "execute_result"
    }
   ],
   "source": [
    "doc = docs[0]\n",
    "list(doc)"
   ]
  },
  {
   "cell_type": "code",
   "execution_count": 5,
   "metadata": {},
   "outputs": [
    {
     "data": {
      "text/plain": [
       "(Lesson, 7)"
      ]
     },
     "execution_count": 5,
     "metadata": {},
     "output_type": "execute_result"
    }
   ],
   "source": [
    "word = doc[2]\n",
    "word, word.idx"
   ]
  },
  {
   "cell_type": "code",
   "execution_count": 6,
   "metadata": {},
   "outputs": [
    {
     "data": {
      "text/plain": [
       "'PROPN'"
      ]
     },
     "execution_count": 6,
     "metadata": {},
     "output_type": "execute_result"
    }
   ],
   "source": [
    "word.pos_"
   ]
  },
  {
   "cell_type": "markdown",
   "metadata": {},
   "source": [
    "Using `ipymarkup`, we will display the words and their corresponding parts of speech."
   ]
  },
  {
   "cell_type": "code",
   "execution_count": 7,
   "metadata": {},
   "outputs": [
    {
     "data": {
      "text/html": [
       "<div class=\"tex2jax_ignore\" style=\"white-space: pre-wrap\"><span style=\"padding: 0.15em; border-radius: 0.25em; border: 1px solid #fdf07c; background: #ffffc2\">Uber<sup style=\"font-size: 0.7em; color: #c3b95f;\">PROPN</sup></span><span style=\"padding: 0.15em; border-radius: 0.25em; border: 1px solid #fdf07c; background: #ffffc2\">’s<sup style=\"font-size: 0.7em; color: #c3b95f;\">PART</sup></span> <span style=\"padding: 0.15em; border-radius: 0.25em; border: 1px solid #fdf07c; background: #ffffc2\">Lesson<sup style=\"font-size: 0.7em; color: #c3b95f;\">PROPN</sup></span><span style=\"padding: 0.15em; border-radius: 0.25em; border: 1px solid #fdf07c; background: #ffffc2\">:<sup style=\"font-size: 0.7em; color: #c3b95f;\">PUNCT</sup></span> <span style=\"padding: 0.15em; border-radius: 0.25em; border: 1px solid #fdf07c; background: #ffffc2\">Silicon<sup style=\"font-size: 0.7em; color: #c3b95f;\">PROPN</sup></span> <span style=\"padding: 0.15em; border-radius: 0.25em; border: 1px solid #fdf07c; background: #ffffc2\">Valley<sup style=\"font-size: 0.7em; color: #c3b95f;\">PROPN</sup></span><span style=\"padding: 0.15em; border-radius: 0.25em; border: 1px solid #fdf07c; background: #ffffc2\">’s<sup style=\"font-size: 0.7em; color: #c3b95f;\">PART</sup></span> <span style=\"padding: 0.15em; border-radius: 0.25em; border: 1px solid #fdf07c; background: #ffffc2\">Start<sup style=\"font-size: 0.7em; color: #c3b95f;\">PROPN</sup></span><span style=\"padding: 0.15em; border-radius: 0.25em; border: 1px solid #fdf07c; background: #ffffc2\">-<sup style=\"font-size: 0.7em; color: #c3b95f;\">PUNCT</sup></span><span style=\"padding: 0.15em; border-radius: 0.25em; border: 1px solid #fdf07c; background: #ffffc2\">Up<sup style=\"font-size: 0.7em; color: #c3b95f;\">PART</sup></span> <span style=\"padding: 0.15em; border-radius: 0.25em; border: 1px solid #fdf07c; background: #ffffc2\">Machine<sup style=\"font-size: 0.7em; color: #c3b95f;\">NOUN</sup></span> <span style=\"padding: 0.15em; border-radius: 0.25em; border: 1px solid #fdf07c; background: #ffffc2\">Needs<sup style=\"font-size: 0.7em; color: #c3b95f;\">NOUN</sup></span> <span style=\"padding: 0.15em; border-radius: 0.25em; border: 1px solid #fdf07c; background: #ffffc2\">Fixing<sup style=\"font-size: 0.7em; color: #c3b95f;\">NOUN</sup></span></div>"
      ],
      "text/plain": [
       "BoxLabelMarkup('Uber’s Lesson: Silicon Valley’s Start-Up Machine Needs Fixing',\n",
       "               [Span(0, 4, 'PROPN'),\n",
       "                Span(4, 6, 'PART'),\n",
       "                Span(7, 13, 'PROPN'),\n",
       "                Span(13, 14, 'PUNCT'),\n",
       "                Span(15, 22, 'PROPN'),\n",
       "                Span(23, 29, 'PROPN'),\n",
       "                Span(29, 31, 'PART'),\n",
       "                Span(32, 37, 'PROPN'),\n",
       "                Span(37, 38, 'PUNCT'),\n",
       "                Span(38, 40, 'PART'),\n",
       "                Span(41, 48, 'NOUN'),\n",
       "                Span(49, 54, 'NOUN'),\n",
       "                Span(55, 61, 'NOUN')])"
      ]
     },
     "metadata": {},
     "output_type": "display_data"
    }
   ],
   "source": [
    "from IPython.display import display\n",
    "# pip install ipymarkup\n",
    "from ipymarkup import BoxLabelMarkup as Markup, Span\n",
    "\n",
    "\n",
    "def display_doc(doc):\n",
    "    spans = [\n",
    "        Span(_.idx, _.idx + len(_), _.pos_)\n",
    "        for _ in doc\n",
    "    ]\n",
    "    markup = Markup(doc.text, spans)\n",
    "    display(markup)\n",
    "\n",
    "\n",
    "display_doc(docs[0])"
   ]
  },
  {
   "cell_type": "markdown",
   "metadata": {},
   "source": [
    "## Assemble our annotator\n",
    "Now we can assemble our checker using `ipyannotate`. For this simple task, we will simply have `Ok` and `Check` options, but ipyannotate offers greater flexibility we could leverage to build more complex annotators."
   ]
  },
  {
   "cell_type": "code",
   "execution_count": 8,
   "metadata": {},
   "outputs": [
    {
     "data": {
      "application/vnd.jupyter.widget-view+json": {
       "model_id": "a52f60e15d694aeba6ff9ccdc74a5fd3",
       "version_major": 2,
       "version_minor": 0
      },
      "text/html": [
       "<p>Failed to display Jupyter Widget of type <code>Annotation</code>.</p>\n",
       "<p>\n",
       "  If you're reading this message in the Jupyter Notebook or JupyterLab Notebook, it may mean\n",
       "  that the widgets JavaScript is still loading. If this message persists, it\n",
       "  likely means that the widgets JavaScript library is either not installed or\n",
       "  not enabled. See the <a href=\"https://ipywidgets.readthedocs.io/en/stable/user_install.html\">Jupyter\n",
       "  Widgets Documentation</a> for setup instructions.\n",
       "</p>\n",
       "<p>\n",
       "  If you're reading this message in another frontend (for example, a static\n",
       "  rendering on GitHub or <a href=\"https://nbviewer.jupyter.org/\">NBViewer</a>),\n",
       "  it may mean that your frontend doesn't currently support widgets.\n",
       "</p>\n"
      ],
      "text/plain": [
       "Annotation(canvas=OutputCanvas(), progress=Progress(atoms=[<ipyannotate.progress.Atom object at 0x10dd8ecf8>, <ipyannotate.progress.Atom object at 0x10dd8ecc0>, <ipyannotate.progress.Atom object at 0x10dd8ec50>, <ipyannotate.progress.Atom object at 0x10dd8e898>, <ipyannotate.progress.Atom object at 0x10dd8eef0>, <ipyannotate.progress.Atom object at 0x10dd8e630>, <ipyannotate.progress.Atom object at 0x10dd9c048>, <ipyannotate.progress.Atom object at 0x10dd9c080>, <ipyannotate.progress.Atom object at 0x10dd9c0b8>, <ipyannotate.progress.Atom object at 0x10dd9c0f0>, <ipyannotate.progress.Atom object at 0x10dd9c128>, <ipyannotate.progress.Atom object at 0x10dd9c160>, <ipyannotate.progress.Atom object at 0x10dd9c198>, <ipyannotate.progress.Atom object at 0x10dd9c1d0>, <ipyannotate.progress.Atom object at 0x10dd9c208>, <ipyannotate.progress.Atom object at 0x10dd9c240>, <ipyannotate.progress.Atom object at 0x10dd9c278>, <ipyannotate.progress.Atom object at 0x10dd9c2b0>, <ipyannotate.progress.Atom object at 0x10dd9c2e8>, <ipyannotate.progress.Atom object at 0x10dd9c320>, <ipyannotate.progress.Atom object at 0x10dd9c358>, <ipyannotate.progress.Atom object at 0x10dd9c390>, <ipyannotate.progress.Atom object at 0x10dd9c3c8>, <ipyannotate.progress.Atom object at 0x10dd9c400>, <ipyannotate.progress.Atom object at 0x10dd9c438>, <ipyannotate.progress.Atom object at 0x10dd9c470>, <ipyannotate.progress.Atom object at 0x10dd9c4a8>, <ipyannotate.progress.Atom object at 0x10dd9c4e0>, <ipyannotate.progress.Atom object at 0x10dd9c518>, <ipyannotate.progress.Atom object at 0x10dd9c550>, <ipyannotate.progress.Atom object at 0x10dd9c588>, <ipyannotate.progress.Atom object at 0x10dd9c5c0>, <ipyannotate.progress.Atom object at 0x10dd9c5f8>, <ipyannotate.progress.Atom object at 0x10dd9c630>, <ipyannotate.progress.Atom object at 0x10dd9c668>, <ipyannotate.progress.Atom object at 0x10dd9c6a0>, <ipyannotate.progress.Atom object at 0x10dd9c6d8>, <ipyannotate.progress.Atom object at 0x10dd9c710>, <ipyannotate.progress.Atom object at 0x10dd9c748>, <ipyannotate.progress.Atom object at 0x10dd9c780>, <ipyannotate.progress.Atom object at 0x10dd9c7b8>, <ipyannotate.progress.Atom object at 0x10dd9c7f0>, <ipyannotate.progress.Atom object at 0x10dd9c828>, <ipyannotate.progress.Atom object at 0x10dd9c860>, <ipyannotate.progress.Atom object at 0x10dd9c898>, <ipyannotate.progress.Atom object at 0x10dd9c8d0>, <ipyannotate.progress.Atom object at 0x10dd9c908>, <ipyannotate.progress.Atom object at 0x10dd9c940>, <ipyannotate.progress.Atom object at 0x10dd9c978>, <ipyannotate.progress.Atom object at 0x10dd9c9b0>, <ipyannotate.progress.Atom object at 0x10dd9c9e8>, <ipyannotate.progress.Atom object at 0x10dd9ca20>, <ipyannotate.progress.Atom object at 0x10dd9ca58>, <ipyannotate.progress.Atom object at 0x10dd9ca90>, <ipyannotate.progress.Atom object at 0x10dd9cac8>, <ipyannotate.progress.Atom object at 0x10dd9cb00>, <ipyannotate.progress.Atom object at 0x10dd9cb38>, <ipyannotate.progress.Atom object at 0x10dd9cb70>, <ipyannotate.progress.Atom object at 0x10dd9cba8>, <ipyannotate.progress.Atom object at 0x10dd9cbe0>, <ipyannotate.progress.Atom object at 0x10dd9cc18>, <ipyannotate.progress.Atom object at 0x10dd9cc50>, <ipyannotate.progress.Atom object at 0x10dd9cc88>, <ipyannotate.progress.Atom object at 0x10dd9ccc0>, <ipyannotate.progress.Atom object at 0x10dd9ccf8>, <ipyannotate.progress.Atom object at 0x10dd9cd30>, <ipyannotate.progress.Atom object at 0x10dd9cd68>, <ipyannotate.progress.Atom object at 0x10dd9cda0>, <ipyannotate.progress.Atom object at 0x10dd9cdd8>, <ipyannotate.progress.Atom object at 0x10dd9ce10>, <ipyannotate.progress.Atom object at 0x10dd9ce48>, <ipyannotate.progress.Atom object at 0x10dd9ce80>, <ipyannotate.progress.Atom object at 0x10dd9ceb8>, <ipyannotate.progress.Atom object at 0x10dd9cef0>, <ipyannotate.progress.Atom object at 0x10dd9cf28>, <ipyannotate.progress.Atom object at 0x10dd9cf60>, <ipyannotate.progress.Atom object at 0x10dd9cf98>, <ipyannotate.progress.Atom object at 0x10dd9cfd0>, <ipyannotate.progress.Atom object at 0x10dd9e048>, <ipyannotate.progress.Atom object at 0x10dd9e080>, <ipyannotate.progress.Atom object at 0x10dd9e0b8>, <ipyannotate.progress.Atom object at 0x10dd9e0f0>, <ipyannotate.progress.Atom object at 0x10dd9e128>, <ipyannotate.progress.Atom object at 0x10dd9e160>, <ipyannotate.progress.Atom object at 0x10dd9e198>, <ipyannotate.progress.Atom object at 0x10dd9e1d0>, <ipyannotate.progress.Atom object at 0x10dd9e208>, <ipyannotate.progress.Atom object at 0x10dd9e240>, <ipyannotate.progress.Atom object at 0x10dd9e278>, <ipyannotate.progress.Atom object at 0x10dd9e2b0>, <ipyannotate.progress.Atom object at 0x10dd9e2e8>, <ipyannotate.progress.Atom object at 0x10dd9e320>, <ipyannotate.progress.Atom object at 0x10dd9e358>, <ipyannotate.progress.Atom object at 0x10dd9e390>, <ipyannotate.progress.Atom object at 0x10dd9e3c8>, <ipyannotate.progress.Atom object at 0x10dd9e400>, <ipyannotate.progress.Atom object at 0x10dd9e438>, <ipyannotate.progress.Atom object at 0x10dd9e470>, <ipyannotate.progress.Atom object at 0x10dd9e4a8>, <ipyannotate.progress.Atom object at 0x10dd9e4e0>, <ipyannotate.progress.Atom object at 0x10dd9e518>, <ipyannotate.progress.Atom object at 0x10dd9e550>, <ipyannotate.progress.Atom object at 0x10dd9e588>, <ipyannotate.progress.Atom object at 0x10dd9e5c0>, <ipyannotate.progress.Atom object at 0x10dd9e5f8>, <ipyannotate.progress.Atom object at 0x10dd9e630>, <ipyannotate.progress.Atom object at 0x10dd9e668>, <ipyannotate.progress.Atom object at 0x10dd9e6a0>, <ipyannotate.progress.Atom object at 0x10dd9e6d8>, <ipyannotate.progress.Atom object at 0x10dd9e710>, <ipyannotate.progress.Atom object at 0x10dd9e748>, <ipyannotate.progress.Atom object at 0x10dd9e780>, <ipyannotate.progress.Atom object at 0x10dd9e7b8>, <ipyannotate.progress.Atom object at 0x10dd9e7f0>, <ipyannotate.progress.Atom object at 0x10dd9e828>, <ipyannotate.progress.Atom object at 0x10dd9e860>, <ipyannotate.progress.Atom object at 0x10dd9e898>, <ipyannotate.progress.Atom object at 0x10dd9e8d0>, <ipyannotate.progress.Atom object at 0x10dd9e908>, <ipyannotate.progress.Atom object at 0x10dd9e940>, <ipyannotate.progress.Atom object at 0x10dd9e978>, <ipyannotate.progress.Atom object at 0x10dd9e9b0>, <ipyannotate.progress.Atom object at 0x10dd9e9e8>, <ipyannotate.progress.Atom object at 0x10dd9ea20>, <ipyannotate.progress.Atom object at 0x10dd9ea58>, <ipyannotate.progress.Atom object at 0x10dd9ea90>, <ipyannotate.progress.Atom object at 0x10dd9eac8>, <ipyannotate.progress.Atom object at 0x10dd9eb00>, <ipyannotate.progress.Atom object at 0x10dd9eb38>, <ipyannotate.progress.Atom object at 0x10dd9eb70>, <ipyannotate.progress.Atom object at 0x10dd9eba8>, <ipyannotate.progress.Atom object at 0x10dd9ebe0>, <ipyannotate.progress.Atom object at 0x10dd9ec18>, <ipyannotate.progress.Atom object at 0x10dd9ec50>, <ipyannotate.progress.Atom object at 0x10dd9ec88>, <ipyannotate.progress.Atom object at 0x10dd9ecc0>, <ipyannotate.progress.Atom object at 0x10dd9ecf8>, <ipyannotate.progress.Atom object at 0x10dd9ed30>, <ipyannotate.progress.Atom object at 0x10dd9ed68>, <ipyannotate.progress.Atom object at 0x10dd9eda0>, <ipyannotate.progress.Atom object at 0x10dd9edd8>, <ipyannotate.progress.Atom object at 0x10dd9ee10>, <ipyannotate.progress.Atom object at 0x10dd9ee48>, <ipyannotate.progress.Atom object at 0x10dd9ee80>, <ipyannotate.progress.Atom object at 0x10dd9eeb8>, <ipyannotate.progress.Atom object at 0x10dd9eef0>, <ipyannotate.progress.Atom object at 0x10dd9ef28>, <ipyannotate.progress.Atom object at 0x10dd9ef60>, <ipyannotate.progress.Atom object at 0x10dd9ef98>, <ipyannotate.progress.Atom object at 0x10dd9efd0>, <ipyannotate.progress.Atom object at 0x10dda0048>, <ipyannotate.progress.Atom object at 0x10dda0080>, <ipyannotate.progress.Atom object at 0x10dda00b8>, <ipyannotate.progress.Atom object at 0x10dda00f0>, <ipyannotate.progress.Atom object at 0x10dda0128>, <ipyannotate.progress.Atom object at 0x10dda0160>, <ipyannotate.progress.Atom object at 0x10dda0198>, <ipyannotate.progress.Atom object at 0x10dda01d0>, <ipyannotate.progress.Atom object at 0x10dda0208>, <ipyannotate.progress.Atom object at 0x10dda0240>, <ipyannotate.progress.Atom object at 0x10dda0278>, <ipyannotate.progress.Atom object at 0x10dda02b0>, <ipyannotate.progress.Atom object at 0x10dda02e8>, <ipyannotate.progress.Atom object at 0x10dda0320>, <ipyannotate.progress.Atom object at 0x10dda0358>, <ipyannotate.progress.Atom object at 0x10dda0390>, <ipyannotate.progress.Atom object at 0x10dda03c8>, <ipyannotate.progress.Atom object at 0x10dda0400>, <ipyannotate.progress.Atom object at 0x10dda0438>, <ipyannotate.progress.Atom object at 0x10dda0470>, <ipyannotate.progress.Atom object at 0x10dda04a8>, <ipyannotate.progress.Atom object at 0x10dda04e0>, <ipyannotate.progress.Atom object at 0x10dda0518>, <ipyannotate.progress.Atom object at 0x10dda0550>, <ipyannotate.progress.Atom object at 0x10dda0588>, <ipyannotate.progress.Atom object at 0x10dda05c0>, <ipyannotate.progress.Atom object at 0x10dda05f8>, <ipyannotate.progress.Atom object at 0x10dda0630>, <ipyannotate.progress.Atom object at 0x10dda0668>, <ipyannotate.progress.Atom object at 0x10dda06a0>, <ipyannotate.progress.Atom object at 0x10dda06d8>, <ipyannotate.progress.Atom object at 0x10dda0710>, <ipyannotate.progress.Atom object at 0x10dda0748>, <ipyannotate.progress.Atom object at 0x10dda0780>, <ipyannotate.progress.Atom object at 0x10dda07b8>, <ipyannotate.progress.Atom object at 0x10dda07f0>, <ipyannotate.progress.Atom object at 0x10dda0828>, <ipyannotate.progress.Atom object at 0x10dda0860>, <ipyannotate.progress.Atom object at 0x10dda0898>, <ipyannotate.progress.Atom object at 0x10dda08d0>, <ipyannotate.progress.Atom object at 0x10dda0908>, <ipyannotate.progress.Atom object at 0x10dda0940>, <ipyannotate.progress.Atom object at 0x10dda0978>, <ipyannotate.progress.Atom object at 0x10dda09b0>, <ipyannotate.progress.Atom object at 0x10dda09e8>, <ipyannotate.progress.Atom object at 0x10dda0a20>, <ipyannotate.progress.Atom object at 0x10dda0a58>, <ipyannotate.progress.Atom object at 0x10dda0a90>, <ipyannotate.progress.Atom object at 0x10dda0ac8>, <ipyannotate.progress.Atom object at 0x10dda0b00>]), toolbar=Toolbar(buttons=[OkButton(color='green', icon='👌', label='ok', shortcut='1'), ErrorButton(color='red', icon='❌', label='err', shortcut='2'), BackButton(color='gray', icon='← ', label='back', shortcut='k'), NextButton(color='gray', icon='→ ', label='next', shortcut='j')]))"
      ]
     },
     "metadata": {},
     "output_type": "display_data"
    }
   ],
   "source": [
    "from ipyannotate import annotate\n",
    "\n",
    "\n",
    "annotation = annotate(docs, display=display_doc)\n",
    "annotation"
   ]
  },
  {
   "cell_type": "code",
   "execution_count": 9,
   "metadata": {},
   "outputs": [
    {
     "data": {
      "text/plain": [
       "[Task(output=Uber’s Lesson: Silicon Valley’s Start-Up Machine Needs Fixing, value=None),\n",
       " Task(output=Pearl Automation, Founded by Apple Veterans, Shuts Down, value=None),\n",
       " Task(output=How Silicon Valley Pushed Coding Into American Classrooms, value=None),\n",
       " Task(output=Women in Tech Speak Frankly on Culture of Harassment, value=None),\n",
       " Task(output=Silicon Valley Investors Flexed Their Muscles in Uber Fight, value=None),\n",
       " Task(output=Uber is a Creature of an Industry Struggling to Grow Up, value=None),\n",
       " Task(output=‘The Internet Is Broken’: @ev Is Trying to Salvage It, value=None),\n",
       " Task(output=The South Park Commons Fills a Hole in the Tech Landscape, value=None),\n",
       " Task(output=The Closing of the Republican Mind, value=None),\n",
       " Task(output=Writers From the Right and Left on Trump Jr., the Future of the F.B.I., Health C..., value=None)]"
      ]
     },
     "execution_count": 9,
     "metadata": {},
     "output_type": "execute_result"
    }
   ],
   "source": [
    "annotation.tasks[:10]"
   ]
  },
  {
   "cell_type": "code",
   "execution_count": null,
   "metadata": {},
   "outputs": [],
   "source": []
  }
 ],
 "metadata": {
  "kernelspec": {
   "display_name": "Python 3",
   "language": "python",
   "name": "python3"
  },
  "language_info": {
   "codemirror_mode": {
    "name": "ipython",
    "version": 3
   },
   "file_extension": ".py",
   "mimetype": "text/x-python",
   "name": "python",
   "nbconvert_exporter": "python",
   "pygments_lexer": "ipython3",
   "version": "3.5.1"
  }
 },
 "nbformat": 4,
 "nbformat_minor": 2
}
