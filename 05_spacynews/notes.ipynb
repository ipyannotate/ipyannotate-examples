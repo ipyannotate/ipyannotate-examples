{
 "cells": [
  {
   "cell_type": "markdown",
   "metadata": {},
   "source": [
    "# Annotating News Headlines\n",
    "<img src=\"./screencast.gif\"/>"
   ]
  },
  {
   "cell_type": "markdown",
   "metadata": {},
   "source": [
    "We will load up a sample set of news headlines, tag parts of speech using `spaCy`, and create an output annotator to mark records that required a second check"
   ]
  },
  {
   "cell_type": "code",
   "execution_count": null,
   "metadata": {},
   "outputs": [],
   "source": [
    "import json\n",
    "with open('./data.json', 'r') as fp:\n",
    "    data = [x['text'] for x in json.load(fp)]"
   ]
  },
  {
   "cell_type": "markdown",
   "metadata": {},
   "source": [
    "We will use the small english corpus for portability"
   ]
  },
  {
   "cell_type": "code",
   "execution_count": null,
   "metadata": {},
   "outputs": [],
   "source": [
    "import spacy\n",
    "nlp = spacy.load('en_core_web_sm')"
   ]
  },
  {
   "cell_type": "code",
   "execution_count": null,
   "metadata": {},
   "outputs": [],
   "source": [
    "annotated_data = []\n",
    "for headline in data:\n",
    "    doc = nlp(headline)\n",
    "    annotated_data.append(doc)"
   ]
  },
  {
   "cell_type": "code",
   "execution_count": null,
   "metadata": {},
   "outputs": [],
   "source": [
    "datum = annotated_data[0]\n",
    "word = datum[2]"
   ]
  },
  {
   "cell_type": "code",
   "execution_count": null,
   "metadata": {},
   "outputs": [],
   "source": [
    "word.pos_"
   ]
  },
  {
   "cell_type": "markdown",
   "metadata": {},
   "source": [
    "Using `ipymarkup`, we will display the words and their corresponding parts of speech."
   ]
  },
  {
   "cell_type": "code",
   "execution_count": null,
   "metadata": {},
   "outputs": [],
   "source": [
    "from IPython.display import display\n",
    "from ipymarkup import BoxLabelMarkup as Markup, Span\n",
    "\n",
    "\n",
    "def display_record(record):\n",
    "    spans = [Span(bloc.idx, bloc.idx+len(bloc), bloc.pos_) for bloc in record]\n",
    "    markup = Markup(record.text, spans)\n",
    "    display(markup)\n",
    "    \n",
    "display_record(annotated_data[0])"
   ]
  },
  {
   "cell_type": "markdown",
   "metadata": {},
   "source": [
    "## Assemble our annotator\n",
    "Now we can assemble our checker using `ipyannotate`. For this simple task, we will simply have `Ok` and `Check` options, but ipyannotate offers greater flexibility we could leverage to build more complex annotators."
   ]
  },
  {
   "cell_type": "code",
   "execution_count": null,
   "metadata": {},
   "outputs": [],
   "source": [
    "from ipyannotate import annotate\n",
    "annotation = annotate(annotated_data, display=display_record)\n",
    "annotation"
   ]
  },
  {
   "cell_type": "code",
   "execution_count": null,
   "metadata": {},
   "outputs": [],
   "source": [
    "annotation.tasks"
   ]
  }
 ],
 "metadata": {
  "kernelspec": {
   "display_name": "Python 3",
   "language": "python",
   "name": "python3"
  },
  "language_info": {
   "codemirror_mode": {
    "name": "ipython",
    "version": 3
   },
   "file_extension": ".py",
   "mimetype": "text/x-python",
   "name": "python",
   "nbconvert_exporter": "python",
   "pygments_lexer": "ipython3",
   "version": "3.7.0"
  }
 },
 "nbformat": 4,
 "nbformat_minor": 2
}
