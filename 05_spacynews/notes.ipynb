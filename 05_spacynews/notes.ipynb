{
 "cells": [
  {
   "cell_type": "markdown",
   "metadata": {},
   "source": [
    "# Annotating News Headlines\n",
    "<img src=\"./screencast.gif\"/>"
   ]
  },
  {
   "cell_type": "markdown",
   "metadata": {},
   "source": [
    "We will load up a sample set of news headlines, tag parts of speech using `spaCy`, and create an output annotator to mark records that required a second check"
   ]
  },
  {
   "cell_type": "code",
   "execution_count": 1,
   "metadata": {},
   "outputs": [
    {
     "data": {
      "text/plain": [
       "['Daily Report: Narendra Modi, Indian Prime Minister, Conquers Silicon Valley',\n",
       " 'Tech Recruiting Clashes With Immigration Rules',\n",
       " 'Start-Up Fervor Shifts to Energy in Silicon Valley',\n",
       " 'To Survive, Net Start-Ups Slow Their Metabolism',\n",
       " 'As New Zealand Courts Tech Talent, Isolation Becomes a Draw',\n",
       " 'Wall Street and Silicon Valley Form an Uneasy Alliance',\n",
       " 'Investing Early On for Insights, Not Profits',\n",
       " 'A Determined Outpost of Tiny Technology',\n",
       " \"As Silicon Valley Cheers Yahoo Chief, Wall Street's Reaction Is Muted\",\n",
       " 'Airbnb and Others Set Terms for Employees to Cash Out']"
      ]
     },
     "execution_count": 1,
     "metadata": {},
     "output_type": "execute_result"
    }
   ],
   "source": [
    "import json\n",
    "from random import seed, sample\n",
    "\n",
    "\n",
    "with open('data.json') as file:\n",
    "    headlines = [_['text'] for _ in json.load(file)]\n",
    "    \n",
    "\n",
    "seed(7)\n",
    "sample(headlines, 10)"
   ]
  },
  {
   "cell_type": "markdown",
   "metadata": {},
   "source": [
    "We will use the small english corpus for portability"
   ]
  },
  {
   "cell_type": "code",
   "execution_count": 2,
   "metadata": {},
   "outputs": [],
   "source": [
    "# pip install spacy\n",
    "import spacy\n",
    "\n",
    "\n",
    "# python -m spacy download en_core_web_sm\n",
    "nlp = spacy.load('en_core_web_sm')"
   ]
  },
  {
   "cell_type": "code",
   "execution_count": 3,
   "metadata": {},
   "outputs": [],
   "source": [
    "docs = []\n",
    "for headline in headlines:\n",
    "    doc = nlp(headline)\n",
    "    docs.append(doc)"
   ]
  },
  {
   "cell_type": "code",
   "execution_count": 4,
   "metadata": {},
   "outputs": [
    {
     "data": {
      "text/plain": [
       "[Uber,\n",
       " ’s,\n",
       " Lesson,\n",
       " :,\n",
       " Silicon,\n",
       " Valley,\n",
       " ’s,\n",
       " Start,\n",
       " -,\n",
       " Up,\n",
       " Machine,\n",
       " Needs,\n",
       " Fixing]"
      ]
     },
     "execution_count": 4,
     "metadata": {},
     "output_type": "execute_result"
    }
   ],
   "source": [
    "doc = docs[0]\n",
    "list(doc)"
   ]
  },
  {
   "cell_type": "code",
   "execution_count": 5,
   "metadata": {},
   "outputs": [
    {
     "data": {
      "text/plain": [
       "(Lesson, 7)"
      ]
     },
     "execution_count": 5,
     "metadata": {},
     "output_type": "execute_result"
    }
   ],
   "source": [
    "word = doc[2]\n",
    "word, word.idx"
   ]
  },
  {
   "cell_type": "code",
   "execution_count": 6,
   "metadata": {},
   "outputs": [
    {
     "data": {
      "text/plain": [
       "'PROPN'"
      ]
     },
     "execution_count": 6,
     "metadata": {},
     "output_type": "execute_result"
    }
   ],
   "source": [
    "word.pos_"
   ]
  },
  {
   "cell_type": "markdown",
   "metadata": {},
   "source": [
    "Using `ipymarkup`, we will display the words and their corresponding parts of speech."
   ]
  },
  {
   "cell_type": "code",
   "execution_count": 7,
   "metadata": {},
   "outputs": [
    {
     "data": {
      "text/html": [
       "<div class=\"tex2jax_ignore\" style=\"white-space: pre-wrap\"><span style=\"padding: 0.15em; border-radius: 0.25em; border: 1px solid #fdf07c; background: #ffffc2\">Uber<sup style=\"font-size: 0.7em; color: #c3b95f;\">PROPN</sup></span><span style=\"padding: 0.15em; border-radius: 0.25em; border: 1px solid #fdf07c; background: #ffffc2\">’s<sup style=\"font-size: 0.7em; color: #c3b95f;\">PART</sup></span> <span style=\"padding: 0.15em; border-radius: 0.25em; border: 1px solid #fdf07c; background: #ffffc2\">Lesson<sup style=\"font-size: 0.7em; color: #c3b95f;\">PROPN</sup></span><span style=\"padding: 0.15em; border-radius: 0.25em; border: 1px solid #fdf07c; background: #ffffc2\">:<sup style=\"font-size: 0.7em; color: #c3b95f;\">PUNCT</sup></span> <span style=\"padding: 0.15em; border-radius: 0.25em; border: 1px solid #fdf07c; background: #ffffc2\">Silicon<sup style=\"font-size: 0.7em; color: #c3b95f;\">PROPN</sup></span> <span style=\"padding: 0.15em; border-radius: 0.25em; border: 1px solid #fdf07c; background: #ffffc2\">Valley<sup style=\"font-size: 0.7em; color: #c3b95f;\">PROPN</sup></span><span style=\"padding: 0.15em; border-radius: 0.25em; border: 1px solid #fdf07c; background: #ffffc2\">’s<sup style=\"font-size: 0.7em; color: #c3b95f;\">PART</sup></span> <span style=\"padding: 0.15em; border-radius: 0.25em; border: 1px solid #fdf07c; background: #ffffc2\">Start<sup style=\"font-size: 0.7em; color: #c3b95f;\">PROPN</sup></span><span style=\"padding: 0.15em; border-radius: 0.25em; border: 1px solid #fdf07c; background: #ffffc2\">-<sup style=\"font-size: 0.7em; color: #c3b95f;\">PUNCT</sup></span><span style=\"padding: 0.15em; border-radius: 0.25em; border: 1px solid #fdf07c; background: #ffffc2\">Up<sup style=\"font-size: 0.7em; color: #c3b95f;\">PART</sup></span> <span style=\"padding: 0.15em; border-radius: 0.25em; border: 1px solid #fdf07c; background: #ffffc2\">Machine<sup style=\"font-size: 0.7em; color: #c3b95f;\">NOUN</sup></span> <span style=\"padding: 0.15em; border-radius: 0.25em; border: 1px solid #fdf07c; background: #ffffc2\">Needs<sup style=\"font-size: 0.7em; color: #c3b95f;\">NOUN</sup></span> <span style=\"padding: 0.15em; border-radius: 0.25em; border: 1px solid #fdf07c; background: #ffffc2\">Fixing<sup style=\"font-size: 0.7em; color: #c3b95f;\">NOUN</sup></span></div>"
      ],
      "text/plain": [
       "BoxLabelMarkup('Uber’s Lesson: Silicon Valley’s Start-Up Machine Needs Fixing',\n",
       "               [Span(0, 4, 'PROPN'),\n",
       "                Span(4, 6, 'PART'),\n",
       "                Span(7, 13, 'PROPN'),\n",
       "                Span(13, 14, 'PUNCT'),\n",
       "                Span(15, 22, 'PROPN'),\n",
       "                Span(23, 29, 'PROPN'),\n",
       "                Span(29, 31, 'PART'),\n",
       "                Span(32, 37, 'PROPN'),\n",
       "                Span(37, 38, 'PUNCT'),\n",
       "                Span(38, 40, 'PART'),\n",
       "                Span(41, 48, 'NOUN'),\n",
       "                Span(49, 54, 'NOUN'),\n",
       "                Span(55, 61, 'NOUN')])"
      ]
     },
     "metadata": {},
     "output_type": "display_data"
    }
   ],
   "source": [
    "from IPython.display import display\n",
    "# pip install ipymarkup\n",
    "from ipymarkup import BoxLabelMarkup as Markup, Span\n",
    "\n",
    "\n",
    "def display_doc(doc):\n",
    "    spans = [\n",
    "        Span(_.idx, _.idx + len(_), _.pos_)\n",
    "        for _ in doc\n",
    "    ]\n",
    "    markup = Markup(doc.text, spans)\n",
    "    display(markup)\n",
    "\n",
    "\n",
    "display_doc(docs[0])"
   ]
  },
  {
   "cell_type": "markdown",
   "metadata": {},
   "source": [
    "Note, depending on our use case, we could also use `displacy`"
   ]
  },
  {
   "cell_type": "code",
   "execution_count": 8,
   "metadata": {},
   "outputs": [
    {
     "data": {
      "text/html": [
       "<div class=\"entities\" style=\"line-height: 2.5\">\n",
       "<mark class=\"entity\" style=\"background: #7aecec; padding: 0.45em 0.6em; margin: 0 0.25em; line-height: 1; border-radius: 0.35em; box-decoration-break: clone; -webkit-box-decoration-break: clone\">\n",
       "    Uber’s Lesson\n",
       "    <span style=\"font-size: 0.8em; font-weight: bold; line-height: 1; border-radius: 0.35em; text-transform: uppercase; vertical-align: middle; margin-left: 0.5rem\">ORG</span>\n",
       "</mark>\n",
       ": \n",
       "<mark class=\"entity\" style=\"background: #ff9561; padding: 0.45em 0.6em; margin: 0 0.25em; line-height: 1; border-radius: 0.35em; box-decoration-break: clone; -webkit-box-decoration-break: clone\">\n",
       "    Silicon Valley’s\n",
       "    <span style=\"font-size: 0.8em; font-weight: bold; line-height: 1; border-radius: 0.35em; text-transform: uppercase; vertical-align: middle; margin-left: 0.5rem\">LOC</span>\n",
       "</mark>\n",
       " \n",
       "<mark class=\"entity\" style=\"background: #7aecec; padding: 0.45em 0.6em; margin: 0 0.25em; line-height: 1; border-radius: 0.35em; box-decoration-break: clone; -webkit-box-decoration-break: clone\">\n",
       "    Start-Up Machine\n",
       "    <span style=\"font-size: 0.8em; font-weight: bold; line-height: 1; border-radius: 0.35em; text-transform: uppercase; vertical-align: middle; margin-left: 0.5rem\">ORG</span>\n",
       "</mark>\n",
       " Needs Fixing</div>"
      ],
      "text/plain": [
       "<IPython.core.display.HTML object>"
      ]
     },
     "metadata": {},
     "output_type": "display_data"
    }
   ],
   "source": [
    "from spacy import displacy\n",
    "\n",
    "def display_doc_displacy(doc):\n",
    "    displacy.render(doc, style='ent', jupyter=True)\n",
    "\n",
    "display_doc_displacy(docs[0])"
   ]
  },
  {
   "cell_type": "markdown",
   "metadata": {},
   "source": [
    "## Assemble our annotator\n",
    "Now we can assemble our checker using `ipyannotate`. For this simple task, we will simply have `Ok` and `Check` options, but ipyannotate offers greater flexibility we could leverage to build more complex annotators."
   ]
  },
  {
   "cell_type": "code",
   "execution_count": 9,
   "metadata": {},
   "outputs": [
    {
     "data": {
      "application/vnd.jupyter.widget-view+json": {
       "model_id": "34c503454dec41128178b21b742fbdcb",
       "version_major": 2,
       "version_minor": 0
      },
      "text/plain": [
       "Annotation(canvas=OutputCanvas(), progress=Progress(atoms=[<ipyannotate.progress.Atom object at 0x11d980eb8>, …"
      ]
     },
     "metadata": {},
     "output_type": "display_data"
    }
   ],
   "source": [
    "from ipyannotate import annotate\n",
    "\n",
    "\n",
    "annotation = annotate(docs, display=display_doc)\n",
    "annotation"
   ]
  },
  {
   "cell_type": "code",
   "execution_count": 10,
   "metadata": {},
   "outputs": [
    {
     "data": {
      "text/plain": [
       "[Task(output=Uber’s Lesson: Silicon Valley’s Start-Up Machine Needs Fixing, value=None),\n",
       " Task(output=Pearl Automation, Founded by Apple Veterans, Shuts Down, value=None),\n",
       " Task(output=How Silicon Valley Pushed Coding Into American Classrooms, value=None),\n",
       " Task(output=Women in Tech Speak Frankly on Culture of Harassment, value=None),\n",
       " Task(output=Silicon Valley Investors Flexed Their Muscles in Uber Fight, value=None),\n",
       " Task(output=Uber is a Creature of an Industry Struggling to Grow Up, value=None),\n",
       " Task(output=‘The Internet Is Broken’: @ev Is Trying to Salvage It, value=None),\n",
       " Task(output=The South Park Commons Fills a Hole in the Tech Landscape, value=None),\n",
       " Task(output=The Closing of the Republican Mind, value=None),\n",
       " Task(output=Writers From the Right and Left on Trump Jr., the Future of the F.B.I., Health C..., value=None)]"
      ]
     },
     "execution_count": 10,
     "metadata": {},
     "output_type": "execute_result"
    }
   ],
   "source": [
    "annotation.tasks[:10]"
   ]
  },
  {
   "cell_type": "code",
   "execution_count": null,
   "metadata": {},
   "outputs": [],
   "source": []
  }
 ],
 "metadata": {
  "kernelspec": {
   "display_name": "Python 3",
   "language": "python",
   "name": "python3"
  },
  "language_info": {
   "codemirror_mode": {
    "name": "ipython",
    "version": 3
   },
   "file_extension": ".py",
   "mimetype": "text/x-python",
   "name": "python",
   "nbconvert_exporter": "python",
   "pygments_lexer": "ipython3",
   "version": "3.7.0"
  }
 },
 "nbformat": 4,
 "nbformat_minor": 2
}
