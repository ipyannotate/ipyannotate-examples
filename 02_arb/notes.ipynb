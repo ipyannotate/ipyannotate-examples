{
 "cells": [
  {
   "cell_type": "markdown",
   "metadata": {},
   "source": [
    "# Markup errors"
   ]
  },
  {
   "cell_type": "markdown",
   "metadata": {},
   "source": [
    "<img src=\"screencast.gif\"/>"
   ]
  },
  {
   "cell_type": "code",
   "execution_count": 1,
   "metadata": {},
   "outputs": [],
   "source": [
    "import os\n",
    "import json\n",
    "from collections import namedtuple\n",
    "\n",
    "\n",
    "Record = namedtuple(\n",
    "    'Record',\n",
    "    ['id', 'text', 'spans', 'fact']\n",
    ")\n",
    "\n",
    "\n",
    "def load_text(path):\n",
    "    with open(path) as file:\n",
    "        return file.read()\n",
    "    \n",
    "    \n",
    "def load_json(path):\n",
    "    with open(path) as file:\n",
    "        return json.load(file)\n",
    "\n",
    "\n",
    "def load_data(dir):\n",
    "    texts = {}\n",
    "    markups = {}\n",
    "    facts = {}\n",
    "    for filename in os.listdir(dir):\n",
    "        id, extension = os.path.splitext(filename)\n",
    "        path = os.path.join(dir, filename)\n",
    "        if extension == '.txt':\n",
    "            text = load_text(path)\n",
    "            texts[id] = text\n",
    "        elif extension == '.json':\n",
    "            spans = load_json(path)\n",
    "            markups[id] = spans\n",
    "        elif extension == '.xml':\n",
    "            fact = load_text(path)\n",
    "            facts[id] = fact\n",
    "    for id in texts:\n",
    "        yield Record(\n",
    "            id,\n",
    "            texts[id],\n",
    "            markups[id],\n",
    "            facts[id]\n",
    "        )\n",
    "        \n",
    "        \n",
    "data = sorted(load_data('data'))"
   ]
  },
  {
   "cell_type": "code",
   "execution_count": 24,
   "metadata": {
    "scrolled": false
   },
   "outputs": [
    {
     "data": {
      "text/html": [
       "<div class=\"tex2jax_ignore\" style=\"white-space: pre-wrap\">                                                     <span style=\"padding: 0.15em; border-radius: 0.25em; border: 1px solid #fdf07c; background: #ffffc2\">РЕШЕНИЕ</span> \n",
       "<span style=\"padding: 0.15em; border-radius: 0.25em; border: 1px solid #fdf07c; background: #ffffc2\">город Волгоград                                                                              Дело</span> №А12-41032/2015 \n",
       "«03»  ноября  2015<span style=\"padding: 0.15em; border-radius: 0.25em; border: 1px solid #fdf07c; background: #ffffc2\">г. \n",
       "Резолютивная</span> часть <span style=\"padding: 0.15em; border-radius: 0.25em; border: 1px solid #fdf07c; background: #ffffc2\">решения</span> оглашена  03.11.2015 года.  \n",
       "Полный текст <span style=\"padding: 0.15em; border-radius: 0.25em; border: 1px solid #fdf07c; background: #ffffc2\">решения</span> изготовлен  03.11.2015  года.  \n",
       "Арбитражный суд <span style=\"padding: 0.15em; border-radius: 0.25em; border: 1px solid #fdf07c; background: #ffffc2\">Волгоградской области</span> в составе судьи  <span style=\"padding: 0.15em; border-radius: 0.25em; border: 1px solid #fdf07c; background: #ffffc2\">Сапронова В.В.</span>,  при ведении \n",
       "<span style=\"padding: 0.15em; border-radius: 0.25em; border: 1px solid #fdf07c; background: #ffffc2\">протокола</span> судебного заседания помощником судьи <span style=\"padding: 0.15em; border-radius: 0.25em; border: 1px solid #fdf07c; background: #ffffc2\">Муравлевой И.С.</span>,  рассмотрев в \n",
       "открытом судебном заседании <span style=\"padding: 0.15em; border-radius: 0.25em; border: 1px solid #fdf07c; background: #ffffc2\">дело по иску</span>  <span style=\"padding: 0.15em; border-radius: 0.25em; border: 1px solid #fdf07c; background: #ffffc2\">Общества с ограниченной ответственностью  \n",
       "«Медвежье Озеро»</span> (<span style=\"padding: 0.15em; border-radius: 0.25em; border: 1px solid #fdf07c; background: #ffffc2\">ОГРН 1135050005287; ИНН 5050106474</span>; 141143, <span style=\"padding: 0.15em; border-radius: 0.25em; border: 1px solid #fdf07c; background: #ffffc2\">Московская обл.</span>, \n",
       "Щелковский район, <span style=\"padding: 0.15em; border-radius: 0.25em; border: 1px solid #fdf07c; background: #ffffc2\">д. Медвежьи Озера</span>, д. 65А)  <span style=\"padding: 0.15em; border-radius: 0.25em; border: 1px solid #fdf07c; background: #ffffc2\">к</span> <span style=\"padding: 0.15em; border-radius: 0.25em; border: 1px solid #fdf07c; background: #ffffc2\">Обществу с ограниченной \n",
       "ответственностью «Волгоградская сырьевая компания»</span> (<span style=\"padding: 0.15em; border-radius: 0.25em; border: 1px solid #fdf07c; background: #ffffc2\">ОГРН 1113444020612; ИНН \n",
       "3444186553</span>; 400131, <span style=\"padding: 0.15em; border-radius: 0.25em; border: 1px solid #fdf07c; background: #ffffc2\">г. Волгоград</span>, ул. Маршала Чуйкова, д.31) <span style=\"padding: 0.15em; border-radius: 0.25em; border: 1px solid #fdf07c; background: #ffffc2\">о</span> <span style=\"padding: 0.15em; border-radius: 0.25em; border: 1px solid #fdf07c; background: #ffffc2\">взыскании</span> <span style=\"padding: 0.15em; border-radius: 0.25em; border: 1px solid #fdf07c; background: #ffffc2\">2 908 846,47  \n",
       "руб.</span>  и <span style=\"padding: 0.15em; border-radius: 0.25em; border: 1px solid #fdf07c; background: #ffffc2\">судебных расходов</span>  \n",
       "в судебном заседании участвуют: \n",
       "от  <span style=\"padding: 0.15em; border-radius: 0.25em; border: 1px solid #fdf07c; background: #ffffc2\">истца</span> - <span style=\"padding: 0.15em; border-radius: 0.25em; border: 1px solid #fdf07c; background: #ffffc2\">Жаров А.С.</span> по  доверенности от 02.02.2015года; \n",
       "от <span style=\"padding: 0.15em; border-radius: 0.25em; border: 1px solid #fdf07c; background: #ffffc2\">ответчика</span> - Валиева <span style=\"padding: 0.15em; border-radius: 0.25em; border: 1px solid #fdf07c; background: #ffffc2\">К</span>.А-А..  по  доверенности от 28.09.2015 года;  </div>"
      ],
      "text/plain": [
       "BoxMarkup('                                                     РЕШЕНИЕ \\nгород Волгоград                                                                              Дело №А12-41032/2015 \\n«03»  ноября  2015г. \\nРезолютивная часть решения оглашена  03.11.2015 года.  \\nПолный текст решения изготовлен  03.11.2015  года.  \\nАрбитражный суд Волгоградской области в составе судьи  Сапронова В.В.,  при ведении \\nпротокола судебного заседания помощником судьи Муравлевой И.С.,  рассмотрев в \\nоткрытом судебном заседании дело по иску  Общества с ограниченной ответственностью  \\n«Медвежье Озеро» (ОГРН 1135050005287; ИНН 5050106474; 141143, Московская обл., \\nЩелковский район, д. Медвежьи Озера, д. 65А)  к Обществу с ограниченной \\nответственностью «Волгоградская сырьевая компания» (ОГРН 1113444020612; ИНН \\n3444186553; 400131, г. Волгоград, ул. Маршала Чуйкова, д.31) о взыскании 2 908 846,47  \\nруб.  и судебных расходов  \\nв судебном заседании участвуют: \\nот  истца - Жаров А.С. по  доверенности от 02.02.2015года; \\nот ответчика - Валиева К.А-А..  по  доверенности от 28.09.2015 года;  ',\n",
       "          [Span(53, 60, None),\n",
       "           Span(62, 159, None),\n",
       "           Span(195, 211, None),\n",
       "           Span(218, 225, None),\n",
       "           Span(268, 275, None),\n",
       "           Span(324, 345, None),\n",
       "           Span(363, 377, None),\n",
       "           Span(393, 402, None),\n",
       "           Span(440, 455, None),\n",
       "           Span(500, 512, None),\n",
       "           Span(514, 573, None),\n",
       "           Span(575, 609, None),\n",
       "           Span(619, 634, None),\n",
       "           Span(655, 672, None),\n",
       "           Span(683, 684, None),\n",
       "           Span(685, 760, None),\n",
       "           Span(762, 797, None),\n",
       "           Span(807, 819, None),\n",
       "           Span(848, 849, None),\n",
       "           Span(850, 859, None),\n",
       "           Span(860, 879, None),\n",
       "           Span(883, 900, None),\n",
       "           Span(940, 945, None),\n",
       "           Span(948, 958, None),\n",
       "           Span(999, 1008, None),\n",
       "           Span(1019, 1020, None)])"
      ]
     },
     "metadata": {},
     "output_type": "display_data"
    },
    {
     "name": "stdout",
     "output_type": "stream",
     "text": [
      "<claims>\n",
      "  <claim>\n",
      "    <attack>\n",
      "      <organisation>\n",
      "        <type>Общество с ограниченной ответственностью</type>\n",
      "        <name>Медвежье Озеро</name>\n",
      "        <attributes>\n",
      "          <inn>5050106474</inn>\n",
      "          <ogrn>1135050005287</ogrn>\n",
      "          <location>\n",
      "            <region>\n",
      "              <type>область</type>\n",
      "              <name>Московская</name>\n",
      "            </region>\n",
      "            <settlement>\n",
      "              <type>деревня</type>\n",
      "              <name>Медвежьи Озера</name>\n",
      "            </settlement>\n",
      "          </location>\n",
      "        </attributes>\n",
      "      </organisation>\n",
      "    </attack>\n",
      "    <defence>\n",
      "      <organisation>\n",
      "        <type>Общество с ограниченной ответственностью</type>\n",
      "        <name>Волгоградская сырьевая компания</name>\n",
      "        <attributes>\n",
      "          <inn>3444186553</inn>\n",
      "          <ogrn>1113444020612</ogrn>\n",
      "          <location>\n",
      "            <settlement>\n",
      "              <type>город</type>\n",
      "              <name>Волгоград</name>\n",
      "            </settlement>\n",
      "          </location>\n",
      "        </attributes>\n",
      "      </organisation>\n",
      "    </defence>\n",
      "    <subjects>\n",
      "      <penalty type=\"судебных расходов\">\n",
      "        <money currency=\"RUB\">2908846.47</money>\n",
      "      </penalty>\n",
      "    </subjects>\n",
      "  </claim>\n",
      "</claims>\n",
      "\n"
     ]
    }
   ],
   "source": [
    "from IPython.display import display\n",
    "\n",
    "# pip install ipymarkup\n",
    "# more info http://nbviewer.jupyter.org/github/natasha/ipymarkup/blob/master/docs.ipynb\n",
    "from ipymarkup import BoxMarkup as Markup, Span\n",
    "\n",
    "\n",
    "def display_record(record):\n",
    "    spans = [Span(start, stop) for start, stop in record.spans]\n",
    "    markup = Markup(record.text, spans)\n",
    "    display(markup)\n",
    "    print(record.fact)\n",
    "\n",
    "    \n",
    "display_record(data[1])"
   ]
  },
  {
   "cell_type": "code",
   "execution_count": 3,
   "metadata": {
    "scrolled": false
   },
   "outputs": [
    {
     "data": {
      "application/vnd.jupyter.widget-view+json": {
       "model_id": "2e0ad05455324bdcbb8382db6c53d4ed",
       "version_major": 2,
       "version_minor": 0
      },
      "text/html": [
       "<p>Failed to display Jupyter Widget of type <code>Annotation</code>.</p>\n",
       "<p>\n",
       "  If you're reading this message in the Jupyter Notebook or JupyterLab Notebook, it may mean\n",
       "  that the widgets JavaScript is still loading. If this message persists, it\n",
       "  likely means that the widgets JavaScript library is either not installed or\n",
       "  not enabled. See the <a href=\"https://ipywidgets.readthedocs.io/en/stable/user_install.html\">Jupyter\n",
       "  Widgets Documentation</a> for setup instructions.\n",
       "</p>\n",
       "<p>\n",
       "  If you're reading this message in another frontend (for example, a static\n",
       "  rendering on GitHub or <a href=\"https://nbviewer.jupyter.org/\">NBViewer</a>),\n",
       "  it may mean that your frontend doesn't currently support widgets.\n",
       "</p>\n"
      ],
      "text/plain": [
       "Annotation(canvas=OutputCanvas(), progress=Progress(atoms=[<ipyannotate.progress.Atom object at 0x10ab3e630>, <ipyannotate.progress.Atom object at 0x10ab3e6d8>, <ipyannotate.progress.Atom object at 0x10ab3e6a0>, <ipyannotate.progress.Atom object at 0x10ab3e4e0>, <ipyannotate.progress.Atom object at 0x10ab3e710>, <ipyannotate.progress.Atom object at 0x10ab3e518>, <ipyannotate.progress.Atom object at 0x10ab3e550>, <ipyannotate.progress.Atom object at 0x10ab3e748>, <ipyannotate.progress.Atom object at 0x10ab3e780>, <ipyannotate.progress.Atom object at 0x10ab3e7b8>, <ipyannotate.progress.Atom object at 0x10ab3e7f0>, <ipyannotate.progress.Atom object at 0x10ab3e828>, <ipyannotate.progress.Atom object at 0x10ab3e860>, <ipyannotate.progress.Atom object at 0x10ab3e898>, <ipyannotate.progress.Atom object at 0x10ab3e8d0>, <ipyannotate.progress.Atom object at 0x10ab3e908>, <ipyannotate.progress.Atom object at 0x10ab3e940>, <ipyannotate.progress.Atom object at 0x10ab3e978>, <ipyannotate.progress.Atom object at 0x10ab3e9b0>, <ipyannotate.progress.Atom object at 0x10ab3e9e8>, <ipyannotate.progress.Atom object at 0x10ab3ea20>, <ipyannotate.progress.Atom object at 0x10ab3ea58>, <ipyannotate.progress.Atom object at 0x10ab3ea90>, <ipyannotate.progress.Atom object at 0x10ab3eac8>, <ipyannotate.progress.Atom object at 0x10ab3eb00>, <ipyannotate.progress.Atom object at 0x10ab3eb38>, <ipyannotate.progress.Atom object at 0x10ab3eb70>, <ipyannotate.progress.Atom object at 0x10ab3eba8>, <ipyannotate.progress.Atom object at 0x10ab3ebe0>, <ipyannotate.progress.Atom object at 0x10ab3ec18>, <ipyannotate.progress.Atom object at 0x10ab3ec50>, <ipyannotate.progress.Atom object at 0x10ab3ec88>, <ipyannotate.progress.Atom object at 0x10ab3ecc0>, <ipyannotate.progress.Atom object at 0x10ab3ecf8>, <ipyannotate.progress.Atom object at 0x10ab3ed30>, <ipyannotate.progress.Atom object at 0x10ab3ed68>, <ipyannotate.progress.Atom object at 0x10ab3eda0>, <ipyannotate.progress.Atom object at 0x10ab3edd8>, <ipyannotate.progress.Atom object at 0x10ab3ee10>, <ipyannotate.progress.Atom object at 0x10ab3ee48>, <ipyannotate.progress.Atom object at 0x10ab3ee80>, <ipyannotate.progress.Atom object at 0x10ab3eeb8>, <ipyannotate.progress.Atom object at 0x10ab3eef0>, <ipyannotate.progress.Atom object at 0x10ab3ef28>, <ipyannotate.progress.Atom object at 0x10ab3ef60>, <ipyannotate.progress.Atom object at 0x10ab3ef98>, <ipyannotate.progress.Atom object at 0x10ab3efd0>, <ipyannotate.progress.Atom object at 0x10ab45048>, <ipyannotate.progress.Atom object at 0x10ab45080>, <ipyannotate.progress.Atom object at 0x10ab450b8>, <ipyannotate.progress.Atom object at 0x10ab450f0>, <ipyannotate.progress.Atom object at 0x10ab45128>, <ipyannotate.progress.Atom object at 0x10ab45160>, <ipyannotate.progress.Atom object at 0x10ab45198>, <ipyannotate.progress.Atom object at 0x10ab451d0>, <ipyannotate.progress.Atom object at 0x10ab45208>, <ipyannotate.progress.Atom object at 0x10ab45240>, <ipyannotate.progress.Atom object at 0x10ab45278>, <ipyannotate.progress.Atom object at 0x10ab452b0>, <ipyannotate.progress.Atom object at 0x10ab452e8>, <ipyannotate.progress.Atom object at 0x10ab45320>, <ipyannotate.progress.Atom object at 0x10ab45358>, <ipyannotate.progress.Atom object at 0x10ab45390>, <ipyannotate.progress.Atom object at 0x10ab453c8>, <ipyannotate.progress.Atom object at 0x10ab45400>, <ipyannotate.progress.Atom object at 0x10ab45438>, <ipyannotate.progress.Atom object at 0x10ab45470>, <ipyannotate.progress.Atom object at 0x10ab454a8>, <ipyannotate.progress.Atom object at 0x10ab454e0>, <ipyannotate.progress.Atom object at 0x10ab45518>, <ipyannotate.progress.Atom object at 0x10ab45550>, <ipyannotate.progress.Atom object at 0x10ab45588>, <ipyannotate.progress.Atom object at 0x10ab455c0>, <ipyannotate.progress.Atom object at 0x10ab455f8>, <ipyannotate.progress.Atom object at 0x10ab45630>, <ipyannotate.progress.Atom object at 0x10ab45668>, <ipyannotate.progress.Atom object at 0x10ab456a0>, <ipyannotate.progress.Atom object at 0x10ab456d8>, <ipyannotate.progress.Atom object at 0x10ab45710>, <ipyannotate.progress.Atom object at 0x10ab45748>, <ipyannotate.progress.Atom object at 0x10ab45780>, <ipyannotate.progress.Atom object at 0x10ab457b8>, <ipyannotate.progress.Atom object at 0x10ab457f0>, <ipyannotate.progress.Atom object at 0x10ab45828>, <ipyannotate.progress.Atom object at 0x10ab45860>, <ipyannotate.progress.Atom object at 0x10ab45898>, <ipyannotate.progress.Atom object at 0x10ab458d0>, <ipyannotate.progress.Atom object at 0x10ab45908>, <ipyannotate.progress.Atom object at 0x10ab45940>, <ipyannotate.progress.Atom object at 0x10ab45978>, <ipyannotate.progress.Atom object at 0x10ab459b0>, <ipyannotate.progress.Atom object at 0x10ab459e8>, <ipyannotate.progress.Atom object at 0x10ab45a20>, <ipyannotate.progress.Atom object at 0x10ab45a58>, <ipyannotate.progress.Atom object at 0x10ab45a90>, <ipyannotate.progress.Atom object at 0x10ab45ac8>, <ipyannotate.progress.Atom object at 0x10ab45b00>, <ipyannotate.progress.Atom object at 0x10ab45b38>, <ipyannotate.progress.Atom object at 0x10ab45b70>, <ipyannotate.progress.Atom object at 0x10ab45ba8>]), toolbar=MultiToolbar(buttons=[ErrorButton(color='red', icon='❌', label='empty', shortcut='1'), BackButton(color='gray', icon='← ', label='back', shortcut='k'), NextButton(color='gray', icon='→ ', label='next', shortcut='j')]))"
      ]
     },
     "metadata": {},
     "output_type": "display_data"
    }
   ],
   "source": [
    "from ipyannotate.buttons import (\n",
    "    ValueButton as Button,\n",
    "    ErrorButton as Error,\n",
    "    NextButton as Next,\n",
    "    BackButton as Back\n",
    ")\n",
    "from ipyannotate.toolbar import MultiToolbar\n",
    "from ipyannotate.tasks import MultiTask, Tasks\n",
    "from ipyannotate.canvas import OutputCanvas\n",
    "from ipyannotate.annotation import Annotation\n",
    "\n",
    "\n",
    "tasks = Tasks(MultiTask(_) for _ in data)\n",
    "empty = Error(label='empty', shortcut='1')\n",
    "buttons = [\n",
    "    empty\n",
    "]\n",
    "controls = [\n",
    "    Back(),\n",
    "    Next()\n",
    "]\n",
    "toolbar = MultiToolbar(buttons + controls)\n",
    "canvas = OutputCanvas(display=display_record)\n",
    "annotation = Annotation(toolbar, tasks, canvas=canvas)\n",
    "annotation"
   ]
  },
  {
   "cell_type": "code",
   "execution_count": 4,
   "metadata": {},
   "outputs": [],
   "source": [
    "bad_subject = Button('bad_subject')"
   ]
  },
  {
   "cell_type": "code",
   "execution_count": 5,
   "metadata": {},
   "outputs": [],
   "source": [
    "no_counter = Button('no_counter')"
   ]
  },
  {
   "cell_type": "code",
   "execution_count": 6,
   "metadata": {},
   "outputs": [],
   "source": [
    "bad_crf = Button('bad_crf')"
   ]
  },
  {
   "cell_type": "code",
   "execution_count": 7,
   "metadata": {},
   "outputs": [],
   "source": [
    "no_third = Button('no_third')"
   ]
  },
  {
   "cell_type": "code",
   "execution_count": 8,
   "metadata": {},
   "outputs": [],
   "source": [
    "multi_defence = Button('multi_defence')"
   ]
  },
  {
   "cell_type": "code",
   "execution_count": 9,
   "metadata": {},
   "outputs": [],
   "source": [
    "no_claim = Button('no_claim')"
   ]
  },
  {
   "cell_type": "code",
   "execution_count": 10,
   "metadata": {},
   "outputs": [],
   "source": [
    "multi_third = Button('multi_third')"
   ]
  },
  {
   "cell_type": "code",
   "execution_count": 11,
   "metadata": {},
   "outputs": [],
   "source": [
    "extra_o = Button('extra_o')"
   ]
  },
  {
   "cell_type": "code",
   "execution_count": 13,
   "metadata": {},
   "outputs": [],
   "source": [
    "annotation.toolbar.buttons = [\n",
    "    empty, bad_subject, no_counter, bad_crf, no_third,\n",
    "    multi_defence, no_claim, multi_third, extra_o\n",
    "] + controls"
   ]
  },
  {
   "cell_type": "code",
   "execution_count": 14,
   "metadata": {},
   "outputs": [
    {
     "data": {
      "text/plain": [
       "0"
      ]
     },
     "execution_count": 14,
     "metadata": {},
     "output_type": "execute_result"
    }
   ],
   "source": [
    "annotation.tasks.index"
   ]
  },
  {
   "cell_type": "code",
   "execution_count": null,
   "metadata": {},
   "outputs": [],
   "source": []
  }
 ],
 "metadata": {
  "kernelspec": {
   "display_name": "Python 3",
   "language": "python",
   "name": "python3"
  },
  "language_info": {
   "codemirror_mode": {
    "name": "ipython",
    "version": 3
   },
   "file_extension": ".py",
   "mimetype": "text/x-python",
   "name": "python",
   "nbconvert_exporter": "python",
   "pygments_lexer": "ipython3",
   "version": "3.5.1"
  }
 },
 "nbformat": 4,
 "nbformat_minor": 2
}
